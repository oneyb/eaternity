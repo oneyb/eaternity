{
 "cells": [
  {
   "cell_type": "markdown",
   "metadata": {
    "ein.tags": [
     "worksheet-0"
    ],
    "slideshow": {
     "slide_type": "-"
    }
   },
   "source": [
    "# Import data from ZHAW -  Olivenöl"
   ]
  },
  {
   "cell_type": "code",
   "execution_count": 1,
   "metadata": {
    "autoscroll": "json-false",
    "collapsed": false,
    "ein.tags": [
     "worksheet-0"
    ],
    "slideshow": {
     "slide_type": "-"
    }
   },
   "outputs": [],
   "source": [
    "from brightway2 import *"
   ]
  },
  {
   "cell_type": "code",
   "execution_count": 2,
   "metadata": {
    "autoscroll": "json-false",
    "collapsed": false,
    "ein.tags": [
     "worksheet-0"
    ],
    "slideshow": {
     "slide_type": "-"
    }
   },
   "outputs": [],
   "source": [
    "projects.set_current('Import ZHAW Olivenol v3') "
   ]
  },
  {
   "cell_type": "code",
   "execution_count": 3,
   "metadata": {
    "autoscroll": "json-false",
    "collapsed": false,
    "ein.tags": [
     "worksheet-0"
    ],
    "slideshow": {
     "slide_type": "-"
    }
   },
   "outputs": [
    {
     "data": {
      "text/plain": [
       "(9, 127, 127)"
      ]
     },
     "execution_count": 3,
     "metadata": {},
     "output_type": "execute_result"
    },
    {
     "name": "stdout",
     "output_type": "stream",
     "text": [
      "Extracted 9 unallocated datasets in 0.04 seconds\n",
      "9 datasets\n",
      "127 exchanges\n",
      "127 unlinked exchanges\n",
      "  Type biosphere: 30 unique unlinked exchanges\n",
      "  Type production: 11 unique unlinked exchanges\n",
      "  Type technosphere: 40 unique unlinked exchanges\n"
     ]
    }
   ],
   "source": [
    "# spO = SimaProCSVImporter('/Users/ioconnor/Google Drive/Eaternity/Science (SCI)/08. LCA/ZHAW/DatenZHAW2016/ZHAW Modelle für Eaternity/Olivenöl/ZHAW_SimaPRo_Olivenöl.CSV', 'ZHAW-Olivenol')\n",
    "spO = SimaProCSVImporter('/home/oney/documents/eaternity/data/zhaw_simapro_olivenöl.csv', 'ZHAW-Olivenol')\n",
    "spO.statistics()"
   ]
  },
  {
   "cell_type": "code",
   "execution_count": 3,
   "metadata": {
    "autoscroll": "json-false",
    "collapsed": false,
    "ein.tags": [
     "worksheet-0"
    ],
    "slideshow": {
     "slide_type": "-"
    }
   },
   "outputs": [
    {
     "name": "stdout",
     "output_type": "stream",
     "text": [
      "Biosphere database already present!!! No setup is needed\n"
     ]
    }
   ],
   "source": [
    "bw2setup()"
   ]
  },
  {
   "cell_type": "code",
   "execution_count": 5,
   "metadata": {
    "autoscroll": "json-false",
    "collapsed": false,
    "ein.tags": [
     "worksheet-0"
    ],
    "slideshow": {
     "slide_type": "-"
    }
   },
   "outputs": [
    {
     "name": "stdout",
     "output_type": "stream",
     "text": [
      "Applying strategy: migrate_exchanges\n"
     ]
    },
    {
     "name": "stdout",
     "output_type": "stream",
     "text": [
      "Applying strategy: migrate_datasets\n"
     ]
    }
   ],
   "source": [
    "spO.migrate('simapro-ecoinvent-3.2')"
   ]
  },
  {
   "cell_type": "code",
   "execution_count": 6,
   "metadata": {
    "autoscroll": "json-false",
    "collapsed": false,
    "ein.tags": [
     "worksheet-0"
    ],
    "slideshow": {
     "slide_type": "-"
    }
   },
   "outputs": [
    {
     "name": "stdout",
     "output_type": "stream",
     "text": [
      "Applying strategy: migrate_datasets\n",
      "Applying strategy: migrate_exchanges\n"
     ]
    }
   ],
   "source": [
    "spO.migrate('default-units')"
   ]
  },
  {
   "cell_type": "code",
   "execution_count": 7,
   "metadata": {
    "autoscroll": "json-false",
    "collapsed": false,
    "ein.tags": [
     "worksheet-0"
    ],
    "slideshow": {
     "slide_type": "-"
    }
   },
   "outputs": [
    {
     "name": "stdout",
     "output_type": "stream",
     "text": [
      "Applied 19 strategies in 0.57 seconds\n"
     ]
    },
    {
     "name": "stdout",
     "output_type": "stream",
     "text": [
      "Applying strategy: normalize_units\n",
      "Applying strategy: assign_only_product_as_production\n",
      "Applying strategy: drop_unspecified_subcategories\n",
      "Applying strategy: sp_allocate_products\n",
      "Applying strategy: fix_zero_allocation_products\n",
      "Applying strategy: split_simapro_name_geo\n",
      "Applying strategy: strip_biosphere_exc_locations\n",
      "Applying strategy: migrate_datasets\n",
      "Applying strategy: migrate_exchanges\n",
      "Applying strategy: set_code_by_activity_hash\n",
      "Applying strategy: link_technosphere_based_on_name_unit_location\n",
      "Applying strategy: change_electricity_unit_mj_to_kwh\n",
      "Applying strategy: normalize_biosphere_categories\n",
      "Applying strategy: normalize_simapro_biosphere_categories\n",
      "Applying strategy: normalize_biosphere_names\n",
      "Applying strategy: normalize_simapro_biosphere_names\n",
      "Applying strategy: migrate_exchanges\n",
      "Applying strategy: fix_localized_water_flows\n",
      "Applying strategy: link_iterable_by_fields\n"
     ]
    }
   ],
   "source": [
    "spO.apply_strategies()"
   ]
  },
  {
   "cell_type": "code",
   "execution_count": 8,
   "metadata": {
    "autoscroll": "json-false",
    "collapsed": false,
    "ein.tags": [
     "worksheet-0"
    ],
    "slideshow": {
     "slide_type": "-"
    }
   },
   "outputs": [
    {
     "name": "stdout",
     "output_type": "stream",
     "text": [
      "Extracted 13831 datasets in 71.54 seconds\n"
     ]
    },
    {
     "name": "stdout",
     "output_type": "stream",
     "text": [
      "Extracting XML data from 13831 datasets\n"
     ]
    }
   ],
   "source": [
    "# ei32 = SingleOutputEcospold2Importer('/Users/ioconnor/Documents/ecoinvent-3.2/datasets', 'ecoinvent 3.2 cutoff')\n",
    "ei32 = SingleOutputEcospold2Importer('/home/oney/documents/eaternity/data/3.3/datasets', 'ecoinvent 3.2 cutoff')"
   ]
  },
  {
   "cell_type": "code",
   "execution_count": 9,
   "metadata": {
    "autoscroll": "json-false",
    "collapsed": false,
    "ein.tags": [
     "worksheet-0"
    ],
    "slideshow": {
     "slide_type": "-"
    }
   },
   "outputs": [
    {
     "name": "stdout",
     "output_type": "stream",
     "text": [
      "Applied 13 strategies in 5.93 seconds\n"
     ]
    },
    {
     "name": "stdout",
     "output_type": "stream",
     "text": [
      "Applying strategy: nuncertainty\n"
     ]
    },
    {
     "name": "stdout",
     "output_type": "stream",
     "text": [
      "Applying strategy: delete_ghost_exchanges\n"
     ]
    },
    {
     "name": "stdout",
     "output_type": "stream",
     "text": [
      "Applying strategy: delete_exchanges_missing_activity\n"
     ]
    },
    {
     "name": "stdout",
     "output_type": "stream",
     "text": [
      "\n",
      "Applying strategy: link_internal_technosphere_by_composite_code\n"
     ]
    },
    {
     "name": "stdout",
     "output_type": "stream",
     "text": [
      "Applying strategy: drop_unspecified_subcategories\n",
      "Applying strategy: link_biosphere_by_flow_uuid"
     ]
    },
    {
     "name": "stdout",
     "output_type": "stream",
     "text": [
      "Applying strategy: assign_single_product_as_activity\n",
      "Applying strategy: create_composite_code\n"
     ]
    },
    {
     "name": "stdout",
     "output_type": "stream",
     "text": [
      "Applying strategy: remove_unnamed_parameters\n",
      "Applying strategy: es2_assign_only_product_with_amount_as_reference_product\n"
     ]
    },
    {
     "name": "stdout",
     "output_type": "stream",
     "text": [
      "Applying strategy: remove_zero_amount_inputs_with_no_activity\n"
     ]
    },
    {
     "name": "stdout",
     "output_type": "stream",
     "text": [
      "Applying strategy: remove_zero_amount_coproducts\n"
     ]
    },
    {
     "name": "stdout",
     "output_type": "stream",
     "text": [
      "Applying strategy: normalize_units\n"
     ]
    }
   ],
   "source": [
    "ei32.apply_strategies()"
   ]
  },
  {
   "cell_type": "code",
   "execution_count": 10,
   "metadata": {
    "autoscroll": "json-false",
    "collapsed": false,
    "ein.tags": [
     "worksheet-0"
    ],
    "slideshow": {
     "slide_type": "-"
    }
   },
   "outputs": [
    {
     "data": {
      "text/plain": [
       "(13831, 501148, 0)"
      ]
     },
     "execution_count": 10,
     "metadata": {},
     "output_type": "execute_result"
    },
    {
     "name": "stdout",
     "output_type": "stream",
     "text": [
      "13831 datasets\n",
      "501148 exchanges\n",
      "0 unlinked exchanges\n",
      "  \n"
     ]
    }
   ],
   "source": [
    "ei32.statistics()"
   ]
  },
  {
   "cell_type": "code",
   "execution_count": 14,
   "metadata": {
    "autoscroll": "json-false",
    "collapsed": false,
    "ein.tags": [
     "worksheet-0"
    ],
    "slideshow": {
     "slide_type": "-"
    }
   },
   "outputs": [
    {
     "data": {
      "text/plain": [
       "Brightway2 SQLiteBackend: ecoinvent 3.2 cutoff"
      ]
     },
     "execution_count": 14,
     "metadata": {},
     "output_type": "execute_result"
    },
    {
     "name": "stdout",
     "output_type": "stream",
     "text": [
      "Created database: ecoinvent 3.2 cutoff\n"
     ]
    },
    {
     "name": "stdout",
     "output_type": "stream",
     "text": [
      "Title: Writing activities to SQLite3 database:\n",
      "  Started: 03/15/2017 10:36:28\n",
      "  Finished: 03/15/2017 10:39:07\n",
      "  Total time elapsed: 00:02:39\n",
      "  CPU %: 82.50\n",
      "  Memory %: 14.53\n"
     ]
    },
    {
     "name": "stdout",
     "output_type": "stream",
     "text": [
      "\n",
      "Total time elapsed: 00:02:39\n"
     ]
    },
    {
     "name": "stdout",
     "output_type": "stream",
     "text": [
      " | ETA: 00:00:00"
     ]
    },
    {
     "name": "stdout",
     "output_type": "stream",
     "text": [
      "\r",
      "[##############################]"
     ]
    },
    {
     "name": "stdout",
     "output_type": "stream",
     "text": [
      " | ETA: 00:00:00"
     ]
    },
    {
     "name": "stdout",
     "output_type": "stream",
     "text": [
      "\r",
      "[##############################]"
     ]
    },
    {
     "name": "stdout",
     "output_type": "stream",
     "text": [
      " | ETA: 00:00:05"
     ]
    },
    {
     "name": "stdout",
     "output_type": "stream",
     "text": [
      "\r",
      "[############################# ]"
     ]
    },
    {
     "name": "stdout",
     "output_type": "stream",
     "text": [
      " | ETA: 00:00:10"
     ]
    },
    {
     "name": "stdout",
     "output_type": "stream",
     "text": [
      "\r",
      "[############################  ]"
     ]
    },
    {
     "name": "stdout",
     "output_type": "stream",
     "text": [
      " | ETA: 00:00:15"
     ]
    },
    {
     "name": "stdout",
     "output_type": "stream",
     "text": [
      "\r",
      "[###########################   ]"
     ]
    },
    {
     "name": "stdout",
     "output_type": "stream",
     "text": [
      " | ETA: 00:00:21"
     ]
    },
    {
     "name": "stdout",
     "output_type": "stream",
     "text": [
      "\r",
      "[##########################    ]"
     ]
    },
    {
     "name": "stdout",
     "output_type": "stream",
     "text": [
      " | ETA: 00:00:26"
     ]
    },
    {
     "name": "stdout",
     "output_type": "stream",
     "text": [
      "\r",
      "[#########################     ]"
     ]
    },
    {
     "name": "stdout",
     "output_type": "stream",
     "text": [
      " | ETA: 00:00:31"
     ]
    },
    {
     "name": "stdout",
     "output_type": "stream",
     "text": [
      "\r",
      "[########################      ]"
     ]
    },
    {
     "name": "stdout",
     "output_type": "stream",
     "text": [
      " | ETA: 00:00:37"
     ]
    },
    {
     "name": "stdout",
     "output_type": "stream",
     "text": [
      "\r",
      "[#######################       ]"
     ]
    },
    {
     "name": "stdout",
     "output_type": "stream",
     "text": [
      " | ETA: 00:00:43"
     ]
    },
    {
     "name": "stdout",
     "output_type": "stream",
     "text": [
      "\r",
      "[######################        ]"
     ]
    },
    {
     "name": "stdout",
     "output_type": "stream",
     "text": [
      " | ETA: 00:00:49"
     ]
    },
    {
     "name": "stdout",
     "output_type": "stream",
     "text": [
      "\r",
      "[#####################         ]"
     ]
    },
    {
     "name": "stdout",
     "output_type": "stream",
     "text": [
      " | ETA: 00:00:53"
     ]
    },
    {
     "name": "stdout",
     "output_type": "stream",
     "text": [
      "\r",
      "[####################          ]"
     ]
    },
    {
     "name": "stdout",
     "output_type": "stream",
     "text": [
      " | ETA: 00:00:59"
     ]
    },
    {
     "name": "stdout",
     "output_type": "stream",
     "text": [
      "\r",
      "[###################           ]"
     ]
    },
    {
     "name": "stdout",
     "output_type": "stream",
     "text": [
      " | ETA: 00:01:05"
     ]
    },
    {
     "name": "stdout",
     "output_type": "stream",
     "text": [
      "\r",
      "[##################            ]"
     ]
    },
    {
     "name": "stdout",
     "output_type": "stream",
     "text": [
      " | ETA: 00:01:10"
     ]
    },
    {
     "name": "stdout",
     "output_type": "stream",
     "text": [
      "\r",
      "[#################             ]"
     ]
    },
    {
     "name": "stdout",
     "output_type": "stream",
     "text": [
      " | ETA: 00:01:16"
     ]
    },
    {
     "name": "stdout",
     "output_type": "stream",
     "text": [
      "\r",
      "[################              ]"
     ]
    },
    {
     "name": "stdout",
     "output_type": "stream",
     "text": [
      " | ETA: 00:01:21"
     ]
    },
    {
     "name": "stdout",
     "output_type": "stream",
     "text": [
      "\r",
      "[###############               ]"
     ]
    },
    {
     "name": "stdout",
     "output_type": "stream",
     "text": [
      " | ETA: 00:01:28"
     ]
    },
    {
     "name": "stdout",
     "output_type": "stream",
     "text": [
      "\r",
      "[##############                ]"
     ]
    },
    {
     "name": "stdout",
     "output_type": "stream",
     "text": [
      " | ETA: 00:01:35"
     ]
    },
    {
     "name": "stdout",
     "output_type": "stream",
     "text": [
      "\r",
      "[#############                 ]"
     ]
    },
    {
     "name": "stdout",
     "output_type": "stream",
     "text": [
      " | ETA: 00:01:41"
     ]
    },
    {
     "name": "stdout",
     "output_type": "stream",
     "text": [
      "\r",
      "[############                  ]"
     ]
    },
    {
     "name": "stdout",
     "output_type": "stream",
     "text": [
      " | ETA: 00:01:46"
     ]
    },
    {
     "name": "stdout",
     "output_type": "stream",
     "text": [
      "\r",
      "[###########                   ]"
     ]
    },
    {
     "name": "stdout",
     "output_type": "stream",
     "text": [
      " | ETA: 00:01:53"
     ]
    },
    {
     "name": "stdout",
     "output_type": "stream",
     "text": [
      "\r",
      "[##########                    ]"
     ]
    },
    {
     "name": "stdout",
     "output_type": "stream",
     "text": [
      " | ETA: 00:02:02"
     ]
    },
    {
     "name": "stdout",
     "output_type": "stream",
     "text": [
      "\r",
      "[#########                     ]"
     ]
    },
    {
     "name": "stdout",
     "output_type": "stream",
     "text": [
      " | ETA: 00:02:05"
     ]
    },
    {
     "name": "stdout",
     "output_type": "stream",
     "text": [
      "\r",
      "[########                      ]"
     ]
    },
    {
     "name": "stdout",
     "output_type": "stream",
     "text": [
      " | ETA: 00:02:09"
     ]
    },
    {
     "name": "stdout",
     "output_type": "stream",
     "text": [
      "\r",
      "[#######                       ]"
     ]
    },
    {
     "name": "stdout",
     "output_type": "stream",
     "text": [
      " | ETA: 00:02:18"
     ]
    },
    {
     "name": "stdout",
     "output_type": "stream",
     "text": [
      "\r",
      "[######                        ]"
     ]
    },
    {
     "name": "stdout",
     "output_type": "stream",
     "text": [
      " | ETA: 00:02:26"
     ]
    },
    {
     "name": "stdout",
     "output_type": "stream",
     "text": [
      "\r",
      "[#####                         ]"
     ]
    },
    {
     "name": "stdout",
     "output_type": "stream",
     "text": [
      " | ETA: 00:02:18"
     ]
    },
    {
     "name": "stdout",
     "output_type": "stream",
     "text": [
      "\r",
      "[####                          ]"
     ]
    },
    {
     "name": "stdout",
     "output_type": "stream",
     "text": [
      " | ETA: 00:02:09"
     ]
    },
    {
     "name": "stdout",
     "output_type": "stream",
     "text": [
      "\r",
      "[###                           ]"
     ]
    },
    {
     "name": "stdout",
     "output_type": "stream",
     "text": [
      " | ETA: 00:02:20"
     ]
    },
    {
     "name": "stdout",
     "output_type": "stream",
     "text": [
      "\r",
      "[##                            ]"
     ]
    },
    {
     "name": "stdout",
     "output_type": "stream",
     "text": [
      " | ETA: 00:02:53"
     ]
    },
    {
     "name": "stdout",
     "output_type": "stream",
     "text": [
      "\r",
      "[#                             ]"
     ]
    },
    {
     "name": "stdout",
     "output_type": "stream",
     "text": [
      "[                              ]"
     ]
    },
    {
     "name": "stdout",
     "output_type": "stream",
     "text": [
      "0%                          100%\n"
     ]
    },
    {
     "name": "stdout",
     "output_type": "stream",
     "text": [
      "Writing activities to SQLite3 database:\n"
     ]
    }
   ],
   "source": [
    "ei32.write_database()"
   ]
  },
  {
   "cell_type": "code",
   "execution_count": 15,
   "metadata": {
    "autoscroll": "json-false",
    "collapsed": false,
    "ein.tags": [
     "worksheet-0"
    ],
    "slideshow": {
     "slide_type": "-"
    }
   },
   "outputs": [],
   "source": [
    "ei32 = None"
   ]
  },
  {
   "cell_type": "code",
   "execution_count": 14,
   "metadata": {
    "autoscroll": "json-false",
    "collapsed": false,
    "ein.tags": [
     "worksheet-0"
    ],
    "slideshow": {
     "slide_type": "-"
    }
   },
   "outputs": [
    {
     "name": "stdout",
     "output_type": "stream",
     "text": [
      "Applying strategy: link_iterable_by_fields\n"
     ]
    }
   ],
   "source": [
    "spO.match_database('ecoinvent 3.2 cutoff',ignore_categories=True)"
   ]
  },
  {
   "cell_type": "code",
   "execution_count": 16,
   "metadata": {
    "autoscroll": "json-false",
    "collapsed": false,
    "ein.tags": [
     "worksheet-0"
    ],
    "slideshow": {
     "slide_type": "-"
    }
   },
   "outputs": [],
   "source": [
    "dbO = Database('ecoinvent 3.2 cutoff')"
   ]
  },
  {
   "cell_type": "code",
   "execution_count": 17,
   "metadata": {
    "autoscroll": "json-false",
    "collapsed": false,
    "ein.tags": [
     "worksheet-0"
    ],
    "slideshow": {
     "slide_type": "-"
    }
   },
   "outputs": [
    {
     "data": {
      "text/plain": [
       "(11, 135, 10)"
      ]
     },
     "execution_count": 17,
     "metadata": {},
     "output_type": "execute_result"
    },
    {
     "name": "stdout",
     "output_type": "stream",
     "text": [
      "11 datasets\n",
      "135 exchanges\n",
      "10 unlinked exchanges\n",
      "  Type biosphere: 3 unique unlinked exchanges\n",
      "  Type technosphere: 3 unique unlinked exchanges\n"
     ]
    },
    {
     "name": "stdout",
     "output_type": "stream",
     "text": [
      "Applying strategy: link_iterable_by_fields\n"
     ]
    }
   ],
   "source": [
    "import functools\n",
    "from bw2io.strategies import link_iterable_by_fields\n",
    "\n",
    "spO.apply_strategy(functools.partial(\n",
    "        link_iterable_by_fields, \n",
    "        other=Database('ecoinvent 3.2 cutoff'),\n",
    "        kind='technosphere',\n",
    "        fields=['reference product', 'name', 'unit', 'location']\n",
    "))\n",
    "spO.statistics()"
   ]
  },
  {
   "cell_type": "code",
   "execution_count": 18,
   "metadata": {
    "autoscroll": "json-false",
    "collapsed": false,
    "ein.tags": [
     "worksheet-0"
    ],
    "slideshow": {
     "slide_type": "-"
    }
   },
   "outputs": [
    {
     "name": "stdout",
     "output_type": "stream",
     "text": [
      "Wrote matching file to:\n",
      "/home/oney/.local/share/Brightway3/Import-ZHAW-Olivenol-v3.856a27a24e53bcf5945b4dfa6f47e3c7/output/db-matching-ZHAW-Olivenol.xlsx\n"
     ]
    }
   ],
   "source": [
    "spO.write_excel()"
   ]
  },
  {
   "cell_type": "markdown",
   "metadata": {
    "ein.tags": [
     "worksheet-0"
    ],
    "slideshow": {
     "slide_type": "-"
    }
   },
   "source": [
    "#### technosphere: link organophosphorous data set"
   ]
  },
  {
   "cell_type": "code",
   "execution_count": 19,
   "metadata": {
    "autoscroll": "json-false",
    "collapsed": false,
    "ein.tags": [
     "worksheet-0"
    ],
    "slideshow": {
     "slide_type": "-"
    }
   },
   "outputs": [
    {
     "name": "stdout",
     "output_type": "stream",
     "text": [
      "Nitrogen dioxide kilogram ('air',)\n",
      "Organophosphorus-compound, unspecified {RER}| production | Alloc Rec, U kilogram ('Materials/fuels',)\n",
      "Pesticide, unspecified {RER}| production | Alloc Rec, U kilogram ('Materials/fuels',)\n",
      "Fenthion kilogram ('soil', 'agricultural')\n",
      "Methidathion kilogram ('soil', 'agricultural')\n",
      "Transport, freight, lorry, unspecified {GLO}| market for | Alloc Rec, U ton kilometer ('Materials/fuels',)\n"
     ]
    }
   ],
   "source": [
    "for i, e in enumerate(spO.unlinked):\n",
    "    print(e['name'], e['unit'], e['categories'])\n",
    "    if i > 20:\n",
    "        break"
   ]
  },
  {
   "cell_type": "code",
   "execution_count": 38,
   "metadata": {
    "autoscroll": "json-false",
    "collapsed": false,
    "ein.tags": [
     "worksheet-0"
    ],
    "slideshow": {
     "slide_type": "-"
    }
   },
   "outputs": [
    {
     "name": "stdout",
     "output_type": "stream",
     "text": [
      "['organophosphorus-compound production, unspecified' (kilogram, RoW, None), 'organophosphorus-compound production, unspecified' (kilogram, RER, None), 'market for organophosphorus-compound, unspecified' (kilogram, GLO, None)]\n"
     ]
    }
   ],
   "source": [
    "results = dbO.search('organophosphorus')\n",
    "print(results)"
   ]
  },
  {
   "cell_type": "code",
   "execution_count": 0,
   "metadata": {
    "autoscroll": "json-false",
    "collapsed": false,
    "ein.tags": [
     "worksheet-0"
    ],
    "slideshow": {
     "slide_type": "-"
    }
   },
   "outputs": [],
   "source": [
    "my_input = input()"
   ]
  },
  {
   "cell_type": "code",
   "execution_count": 4,
   "metadata": {
    "autoscroll": "json-false",
    "collapsed": false,
    "ein.tags": [
     "worksheet-0"
    ],
    "slideshow": {
     "slide_type": "-"
    }
   },
   "outputs": [
    {
     "name": "stderr",
     "output_type": "stream",
     "text": [
      "Warning: Widget._keys_default is deprecated in traitlets 4.1: use @default decorator instead.\n",
      "Warning: The 'warn' method is deprecated, use 'warning' instead\n",
      "Widget Javascript not detected.  It may not be installed properly. Did you enable the widgetsnbextension? If not, then run \"jupyter nbextension enable --py --sys-prefix widgetsnbextension\"\n"
     ]
    }
   ],
   "source": [
    "\n",
    "# enable widgets: $ jupyter nbextension enable --py --sys-prefix widgetsnbextension\n",
    "import ipywidgets as widgets\n",
    "widgets.Dropdown(\n",
    "    options=['organophosphorus-compound production, unspecified', 'organophosphorus-compound production, unspecified', 'market for organophosphorus-compound, unspecified'],\n",
    "    # value='2',\n",
    "    description='test',\n",
    "    disabled=False,\n",
    "    button_style='' # 'success', 'info', 'warning', 'danger' or ''\n",
    ")"
   ]
  },
  {
   "cell_type": "code",
   "execution_count": 5,
   "metadata": {
    "autoscroll": "json-false",
    "collapsed": false,
    "ein.tags": [
     "worksheet-0"
    ],
    "slideshow": {
     "slide_type": "-"
    }
   },
   "outputs": [
    {
     "name": "stdout",
     "output_type": "stream",
     "text": [
      "Widget Javascript not detected.  It may not be installed properly. Did you enable the widgetsnbextension? If not, then run \"jupyter nbextension enable --py --sys-prefix widgetsnbextension\"\n"
     ]
    }
   ],
   "source": [
    "from ipywidgets import IntSlider\n",
    "from IPython.display import display\n",
    "slider = IntSlider(min=1, max=10)\n",
    "display(slider)"
   ]
  },
  {
   "cell_type": "code",
   "execution_count": 0,
   "metadata": {
    "autoscroll": "json-false",
    "collapsed": false,
    "ein.tags": [
     "worksheet-0"
    ],
    "slideshow": {
     "slide_type": "-"
    }
   },
   "outputs": [],
   "source": []
  },
  {
   "cell_type": "code",
   "execution_count": 0,
   "metadata": {
    "autoscroll": "json-false",
    "collapsed": false,
    "ein.tags": [
     "worksheet-0"
    ],
    "slideshow": {
     "slide_type": "-"
    }
   },
   "outputs": [],
   "source": [
    "def search_migrate_match(self, unlinked_exchanges, db):\n",
    "\tTBD"
   ]
  },
  {
   "cell_type": "code",
   "execution_count": 22,
   "metadata": {
    "autoscroll": "json-false",
    "collapsed": false,
    "ein.tags": [
     "worksheet-0"
    ],
    "slideshow": {
     "slide_type": "-"
    }
   },
   "outputs": [],
   "source": [
    "migration_data_org = {\n",
    "    'fields': ['name',],\n",
    "    'data': [\n",
    "        (\n",
    "            # First element is input data in the order of `fields` above\n",
    "            ('Organophosphorus-compound, unspecified {RER}| production | Alloc Rec, U',),\n",
    "            # Second element is new values \n",
    "            {\n",
    "                'name': 'organophosphorus-compound production, unspecified',\n",
    "                'reference product':'organophosphorus-compound, unspecified',\n",
    "                'location': 'RER',\n",
    "            }\n",
    "        )\n",
    "    ]\n",
    "}\n",
    "\n",
    "Migration('new-ecoinvent-org').write(\n",
    "    migration_data_org, \n",
    "    description='New datasets in ecoinvent 3.2'\n",
    ")"
   ]
  },
  {
   "cell_type": "code",
   "execution_count": 23,
   "metadata": {
    "autoscroll": "json-false",
    "collapsed": false,
    "ein.tags": [
     "worksheet-0"
    ],
    "slideshow": {
     "slide_type": "-"
    }
   },
   "outputs": [
    {
     "data": {
      "text/plain": [
       "(11, 135, 9)"
      ]
     },
     "execution_count": 23,
     "metadata": {},
     "output_type": "execute_result"
    },
    {
     "name": "stdout",
     "output_type": "stream",
     "text": [
      "11 datasets\n",
      "135 exchanges\n",
      "9 unlinked exchanges\n",
      "  Type biosphere: 3 unique unlinked exchanges\n",
      "  Type technosphere: 2 unique unlinked exchanges\n"
     ]
    },
    {
     "name": "stdout",
     "output_type": "stream",
     "text": [
      "Applying strategy: migrate_datasets\n",
      "Applying strategy: migrate_exchanges\n",
      "Applying strategy: link_iterable_by_fields\n"
     ]
    }
   ],
   "source": [
    "spO.migrate('new-ecoinvent-org')\n",
    "spO.match_database('ecoinvent 3.2 cutoff',ignore_categories=True)\n",
    "spO.statistics()"
   ]
  },
  {
   "cell_type": "code",
   "execution_count": 21,
   "metadata": {
    "autoscroll": "json-false",
    "collapsed": false,
    "ein.tags": [
     "worksheet-0"
    ],
    "slideshow": {
     "slide_type": "-"
    }
   },
   "outputs": [
    {
     "name": "stdout",
     "output_type": "stream",
     "text": [
      "Nitrogen dioxide kilogram ('air',)\n",
      "Pesticide, unspecified {RER}| production | Alloc Rec, U kilogram ('Materials/fuels',)\n",
      "Fenthion kilogram ('soil', 'agricultural')\n",
      "Methidathion kilogram ('soil', 'agricultural')\n",
      "Transport, freight, lorry, unspecified {GLO}| market for | Alloc Rec, U ton kilometer ('Materials/fuels',)\n"
     ]
    }
   ],
   "source": [
    "for i, e in enumerate(spO.unlinked):\n",
    "    print(e['name'], e['unit'], e['categories'])\n",
    "    if i > 20:\n",
    "        break"
   ]
  },
  {
   "cell_type": "markdown",
   "metadata": {
    "ein.tags": [
     "worksheet-0"
    ],
    "slideshow": {
     "slide_type": "-"
    }
   },
   "source": [
    "#### technosphere: link Pesticide dataset"
   ]
  },
  {
   "cell_type": "code",
   "execution_count": 22,
   "metadata": {
    "autoscroll": "json-false",
    "collapsed": false,
    "ein.tags": [
     "worksheet-0"
    ],
    "slideshow": {
     "slide_type": "-"
    }
   },
   "outputs": [
    {
     "data": {
      "text/plain": [
       "['dichloropropene to generic market for pesticide, unspecified' (kilogram, GLO, None),\n 'pesticide production, unspecified' (kilogram, RER, None),\n 'market for pesticide, unspecified' (kilogram, GLO, None),\n 'pesticide production, unspecified' (kilogram, RoW, None)]"
      ]
     },
     "execution_count": 22,
     "metadata": {},
     "output_type": "execute_result"
    }
   ],
   "source": [
    "dbO.search('pesticide, unspecified')"
   ]
  },
  {
   "cell_type": "code",
   "execution_count": 23,
   "metadata": {
    "autoscroll": "json-false",
    "collapsed": false,
    "ein.tags": [
     "worksheet-0"
    ],
    "slideshow": {
     "slide_type": "-"
    }
   },
   "outputs": [],
   "source": [
    "migration_data_pest = {\n",
    "    'fields': ['name',],\n",
    "    'data': [\n",
    "        (\n",
    "            # First element is input data in the order of `fields` above\n",
    "            ('Pesticide, unspecified {RER}| production | Alloc Rec, U',),\n",
    "            # Second element is new values \n",
    "            {\n",
    "                'name': 'pesticide production, unspecified',\n",
    "                'reference product':'pesticide, unspecified',\n",
    "                'location': 'RER',\n",
    "            }\n",
    "        )\n",
    "    ]\n",
    "}\n",
    "\n",
    "Migration('new-ecoinvent-pest').write(\n",
    "    migration_data_pest, \n",
    "    description='New datasets in ecoinvent 3.2'\n",
    ")"
   ]
  },
  {
   "cell_type": "code",
   "execution_count": 24,
   "metadata": {
    "autoscroll": "json-false",
    "collapsed": false,
    "ein.tags": [
     "worksheet-0"
    ],
    "slideshow": {
     "slide_type": "-"
    }
   },
   "outputs": [
    {
     "data": {
      "text/plain": [
       "(11, 135, 7)"
      ]
     },
     "execution_count": 24,
     "metadata": {},
     "output_type": "execute_result"
    },
    {
     "name": "stdout",
     "output_type": "stream",
     "text": [
      "Applying strategy: migrate_datasets\n",
      "Applying strategy: migrate_exchanges\n",
      "Applying strategy: link_iterable_by_fields\n",
      "11 datasets\n",
      "135 exchanges\n",
      "7 unlinked exchanges\n",
      "  Type biosphere: 3 unique unlinked exchanges\n",
      "  Type technosphere: 1 unique unlinked exchanges\n"
     ]
    }
   ],
   "source": [
    "spO.migrate('new-ecoinvent-pest')\n",
    "spO.match_database('ecoinvent 3.2 cutoff',ignore_categories=True)\n",
    "spO.statistics()"
   ]
  },
  {
   "cell_type": "markdown",
   "metadata": {
    "ein.tags": [
     "worksheet-0"
    ],
    "slideshow": {
     "slide_type": "-"
    }
   },
   "source": [
    "#### technosphere: link  transport "
   ]
  },
  {
   "cell_type": "code",
   "execution_count": 25,
   "metadata": {
    "autoscroll": "json-false",
    "collapsed": false,
    "ein.tags": [
     "worksheet-0"
    ],
    "slideshow": {
     "slide_type": "-"
    }
   },
   "outputs": [
    {
     "name": "stdout",
     "output_type": "stream",
     "text": [
      "Nitrogen dioxide kilogram ('air',)\n",
      "Fenthion kilogram ('soil', 'agricultural')\n",
      "Methidathion kilogram ('soil', 'agricultural')\n",
      "Transport, freight, lorry, unspecified {GLO}| market for | Alloc Rec, U ton kilometer ('Materials/fuels',)\n"
     ]
    }
   ],
   "source": [
    "for i, e in enumerate(spO.unlinked):\n",
    "    print(e['name'], e['unit'], e['categories'])\n",
    "    if i > 20:\n",
    "        break"
   ]
  },
  {
   "cell_type": "code",
   "execution_count": 26,
   "metadata": {
    "autoscroll": "json-false",
    "collapsed": false,
    "ein.tags": [
     "worksheet-0"
    ],
    "slideshow": {
     "slide_type": "-"
    }
   },
   "outputs": [
    {
     "data": {
      "text/plain": [
       "['transport, freight, lorry, all sizes, EURO3 to generic market for transport, freight, lorry, unspecified' (ton kilometer, RoW, None),\n 'transport, freight, lorry, all sizes, EURO3 to generic market for transport, freight, lorry, unspecified' (ton kilometer, RER, None),\n 'transport, freight, lorry, all sizes, EURO5 to generic market for transport, freight, lorry, unspecified' (ton kilometer, RoW, None),\n 'transport, freight, lorry, all sizes, EURO4 to generic market for transport, freight, lorry, unspecified' (ton kilometer, RER, None),\n 'transport, freight, lorry, all sizes, EURO5 to generic market for transport, freight, lorry, unspecified' (ton kilometer, RER, None),\n 'transport, freight, lorry, all sizes, EURO6 to generic market for transport, freight, lorry, unspecified' (ton kilometer, RoW, None),\n 'transport, freight, lorry, all sizes, EURO6 to generic market for transport, freight, lorry, unspecified' (ton kilometer, RER, None),\n 'transport, freight, lorry, all sizes, EURO4 to generic market for transport, freight, lorry, unspecified' (ton kilometer, RoW, None),\n 'transport, freight, lorry with reefer, freezing' (ton kilometer, GLO, None),\n 'transport, freight, lorry with reefer, cooling' (ton kilometer, GLO, None),\n 'market for transport, freight, lorry, unspecified' (ton kilometer, GLO, None),\n 'transport, freight, lorry >32 metric ton, EURO6' (ton kilometer, RoW, None),\n 'transport, freight, lorry >32 metric ton, EURO5' (ton kilometer, RoW, None),\n 'transport, freight, lorry >32 metric ton, EURO4' (ton kilometer, RoW, None),\n 'transport, freight, lorry >32 metric ton, EURO3' (ton kilometer, RoW, None),\n 'transport, freight, lorry >32 metric ton, EURO5' (ton kilometer, RER, None),\n 'transport, freight, lorry >32 metric ton, EURO3' (ton kilometer, RER, None),\n 'transport, freight, lorry >32 metric ton, EURO6' (ton kilometer, RER, None),\n 'transport, freight, lorry >32 metric ton, EURO4' (ton kilometer, RER, None),\n 'transport, freight, lorry 16-32 metric ton, EURO4' (ton kilometer, RoW, None),\n 'transport, freight, lorry 3.5-7.5 metric ton, EURO3' (ton kilometer, RoW, None),\n 'transport, freight, lorry 7.5-16 metric ton, EURO5' (ton kilometer, RoW, None),\n 'transport, freight, lorry 16-32 metric ton, EURO3' (ton kilometer, RoW, None),\n 'transport, freight, lorry 16-32 metric ton, EURO6' (ton kilometer, RoW, None),\n 'transport, freight, lorry 7.5-16 metric ton, EURO4' (ton kilometer, RoW, None)]"
      ]
     },
     "execution_count": 26,
     "metadata": {},
     "output_type": "execute_result"
    }
   ],
   "source": [
    "dbO.search('transport, freight, lorry')"
   ]
  },
  {
   "cell_type": "code",
   "execution_count": 27,
   "metadata": {
    "autoscroll": "json-false",
    "collapsed": false,
    "ein.tags": [
     "worksheet-0"
    ],
    "slideshow": {
     "slide_type": "-"
    }
   },
   "outputs": [],
   "source": [
    "migration_data_trans = {\n",
    "    'fields': ['name',],\n",
    "    'data': [\n",
    "        (\n",
    "            # First element is input data in the order of `fields` above\n",
    "            ('Transport, freight, lorry, unspecified {GLO}| market for | Alloc Rec, U',),\n",
    "            # Second element is new values \n",
    "            {\n",
    "                'name': 'market for transport, freight, lorry, unspecified',\n",
    "                'reference product': 'Transport, freight, lorry, unspecified',\n",
    "                'location': 'GLO',\n",
    "                \n",
    "            }\n",
    "        )\n",
    "    ]\n",
    "}\n",
    "\n",
    "Migration('new-ecoinvent-trans').write(\n",
    "    migration_data_trans, \n",
    "    description='New datasets in ecoinvent 3.2'\n",
    ")"
   ]
  },
  {
   "cell_type": "code",
   "execution_count": 28,
   "metadata": {
    "autoscroll": "json-false",
    "collapsed": false,
    "ein.tags": [
     "worksheet-0"
    ],
    "slideshow": {
     "slide_type": "-"
    }
   },
   "outputs": [
    {
     "data": {
      "text/plain": [
       "(11, 135, 3)"
      ]
     },
     "execution_count": 28,
     "metadata": {},
     "output_type": "execute_result"
    },
    {
     "name": "stdout",
     "output_type": "stream",
     "text": [
      "Applying strategy: migrate_datasets\n",
      "Applying strategy: migrate_exchanges\n",
      "Applying strategy: link_iterable_by_fields\n",
      "11 datasets\n",
      "135 exchanges\n",
      "3 unlinked exchanges\n",
      "  Type biosphere: 3 unique unlinked exchanges\n"
     ]
    }
   ],
   "source": [
    "spO.migrate('new-ecoinvent-trans')\n",
    "spO.match_database('ecoinvent 3.2 cutoff',ignore_categories=True)\n",
    "spO.statistics()"
   ]
  },
  {
   "cell_type": "code",
   "execution_count": 29,
   "metadata": {
    "autoscroll": "json-false",
    "collapsed": false,
    "ein.tags": [
     "worksheet-0"
    ],
    "slideshow": {
     "slide_type": "-"
    }
   },
   "outputs": [
    {
     "name": "stdout",
     "output_type": "stream",
     "text": [
      "Wrote matching file to:\n",
      "/Users/ioconnor/Library/Application Support/Brightway3/Import-ZHAW-Olivenol-v3.856a27a24e53bcf5945b4dfa6f47e3c7/output/db-matching-ZHAW-Olivenol.xlsx\n"
     ]
    }
   ],
   "source": [
    "spO.write_excel()"
   ]
  },
  {
   "cell_type": "markdown",
   "metadata": {
    "ein.tags": [
     "worksheet-0"
    ],
    "slideshow": {
     "slide_type": "-"
    }
   },
   "source": [
    "####  biosphere: link nitrogen dioxid "
   ]
  },
  {
   "cell_type": "code",
   "execution_count": 30,
   "metadata": {
    "autoscroll": "json-false",
    "collapsed": false,
    "ein.tags": [
     "worksheet-0"
    ],
    "slideshow": {
     "slide_type": "-"
    }
   },
   "outputs": [
    {
     "name": "stdout",
     "output_type": "stream",
     "text": [
      "Nitrogen dioxide kilogram ('air',)\n",
      "Fenthion kilogram ('soil', 'agricultural')\n",
      "Methidathion kilogram ('soil', 'agricultural')\n"
     ]
    }
   ],
   "source": [
    "for i, e in enumerate(spO.unlinked):\n",
    "    print(e['name'], e['unit'], e['categories'])\n",
    "    if i > 20:\n",
    "        break"
   ]
  },
  {
   "cell_type": "code",
   "execution_count": 31,
   "metadata": {
    "autoscroll": "json-false",
    "collapsed": false,
    "ein.tags": [
     "worksheet-0"
    ],
    "slideshow": {
     "slide_type": "-"
    }
   },
   "outputs": [],
   "source": [
    "dbB = Database('biosphere3')"
   ]
  },
  {
   "cell_type": "code",
   "execution_count": 32,
   "metadata": {
    "autoscroll": "json-false",
    "collapsed": false,
    "ein.tags": [
     "worksheet-0"
    ],
    "slideshow": {
     "slide_type": "-"
    }
   },
   "outputs": [
    {
     "data": {
      "text/plain": [
       "['Nitrogen' (kilogram, None, ('soil', 'industrial')),\n 'Nitrogen' (kilogram, None, ('soil', 'forestry')),\n 'Nitrogen' (kilogram, None, ('soil', 'agricultural')),\n 'Nitrogen' (kilogram, None, ('water', 'surface water')),\n 'Nitrogen' (kilogram, None, ('soil',)),\n 'Nitrogen' (kilogram, None, ('natural resource', 'in air')),\n 'Nitrogen' (kilogram, None, ('air',)),\n 'Nitrogen' (kilogram, None, ('water', 'ocean')),\n 'Nitrogen' (kilogram, None, ('water', 'ground-')),\n 'Nitrogen' (kilogram, None, ('water', 'ground-, long-term')),\n 'Nitrogen' (kilogram, None, ('water',)),\n 'Nitrogen fluoride' (kilogram, None, ('air', 'low population density, long-term')),\n 'Nitrogen oxides' (kilogram, None, ('air',)),\n 'Nitrogen oxides' (kilogram, None, ('air', 'non-urban air or from high stacks')),\n 'Nitrogen fluoride' (kilogram, None, ('air', 'urban air close to ground')),\n 'Nitrogen fluoride' (kilogram, None, ('air',)),\n 'Nitrogen fluoride' (kilogram, None, ('air', 'lower stratosphere + upper troposphere')),\n 'Nitrogen oxides' (kilogram, None, ('air', 'lower stratosphere + upper troposphere')),\n 'Nitrogen fluoride' (kilogram, None, ('air', 'non-urban air or from high stacks')),\n 'Nitrogen oxides' (kilogram, None, ('air', 'low population density, long-term')),\n 'Nitrogen oxides' (kilogram, None, ('air', 'urban air close to ground')),\n 'Nitrogen, organic bound' (kilogram, None, ('water', 'ground-, long-term')),\n 'Nitrogen, organic bound' (kilogram, None, ('water',)),\n 'Nitrogen, organic bound' (kilogram, None, ('water', 'ground-')),\n 'Nitrogen, organic bound' (kilogram, None, ('water', 'ocean'))]"
      ]
     },
     "execution_count": 32,
     "metadata": {},
     "output_type": "execute_result"
    }
   ],
   "source": [
    "dbB.search('nitrogen ')"
   ]
  },
  {
   "cell_type": "code",
   "execution_count": 33,
   "metadata": {
    "autoscroll": "json-false",
    "collapsed": false,
    "ein.tags": [
     "worksheet-0"
    ],
    "slideshow": {
     "slide_type": "-"
    }
   },
   "outputs": [],
   "source": [
    "migration_data_nitro = {\n",
    "    'fields': ['name',],\n",
    "    'data': [\n",
    "        (\n",
    "            # First element is input data in the order of `fields` above\n",
    "            ('Nitrogen dioxide',),\n",
    "            # Second element is new values \n",
    "            {\n",
    "                'name': 'Nitrogen oxides',\n",
    "                \n",
    "            }\n",
    "        )\n",
    "    ]\n",
    "}\n",
    "\n",
    "migration=Migration('new-ecoinvent-nitro')\n",
    "migration.write(\n",
    "    migration_data_nitro, \n",
    "    description='New datasets in ecoinvent 3.2'\n",
    ")"
   ]
  },
  {
   "cell_type": "code",
   "execution_count": 34,
   "metadata": {
    "autoscroll": "json-false",
    "collapsed": false,
    "ein.tags": [
     "worksheet-0"
    ],
    "slideshow": {
     "slide_type": "-"
    }
   },
   "outputs": [
    {
     "name": "stdout",
     "output_type": "stream",
     "text": [
      "Applying strategy: migrate_datasets\n",
      "Applying strategy: migrate_exchanges\n",
      "Applying strategy: normalize_units\n",
      "Applying strategy: assign_only_product_as_production\n",
      "Applying strategy: drop_unspecified_subcategories\n",
      "Applying strategy: sp_allocate_products\n",
      "Applying strategy: fix_zero_allocation_products\n",
      "Applying strategy: split_simapro_name_geo\n",
      "Applying strategy: strip_biosphere_exc_locations\n",
      "Applying strategy: migrate_datasets\n",
      "Applying strategy: migrate_exchanges\n",
      "Applying strategy: set_code_by_activity_hash\n",
      "Applying strategy: link_technosphere_based_on_name_unit_location\n",
      "Applying strategy: change_electricity_unit_mj_to_kwh\n",
      "Applying strategy: normalize_biosphere_categories\n",
      "Applying strategy: normalize_simapro_biosphere_categories\n",
      "Applying strategy: normalize_biosphere_names\n",
      "Applying strategy: normalize_simapro_biosphere_names\n",
      "Applying strategy: migrate_exchanges\n",
      "Applying strategy: fix_localized_water_flows\n",
      "Applying strategy: link_iterable_by_fields\n",
      "Applied 19 strategies in 0.32 seconds\n",
      "Applying strategy: link_iterable_by_fields\n"
     ]
    }
   ],
   "source": [
    "spO.migrate('new-ecoinvent-nitro')\n",
    "spO.apply_strategies()\n",
    "\n",
    "spO.match_database('ecoinvent 3.2 cutoff',ignore_categories=True)"
   ]
  },
  {
   "cell_type": "code",
   "execution_count": 35,
   "metadata": {
    "autoscroll": "json-false",
    "collapsed": false,
    "ein.tags": [
     "worksheet-0"
    ],
    "slideshow": {
     "slide_type": "-"
    }
   },
   "outputs": [
    {
     "data": {
      "text/plain": [
       "(11, 135, 2)"
      ]
     },
     "execution_count": 35,
     "metadata": {},
     "output_type": "execute_result"
    },
    {
     "name": "stdout",
     "output_type": "stream",
     "text": [
      "11 datasets\n",
      "135 exchanges\n",
      "2 unlinked exchanges\n",
      "  Type biosphere: 2 unique unlinked exchanges\n"
     ]
    }
   ],
   "source": [
    "spO.statistics()"
   ]
  },
  {
   "cell_type": "code",
   "execution_count": 36,
   "metadata": {
    "autoscroll": "json-false",
    "collapsed": false,
    "ein.tags": [
     "worksheet-0"
    ],
    "slideshow": {
     "slide_type": "-"
    }
   },
   "outputs": [
    {
     "name": "stdout",
     "output_type": "stream",
     "text": [
      "Wrote matching file to:\n",
      "/Users/ioconnor/Library/Application Support/Brightway3/Import-ZHAW-Olivenol-v3.856a27a24e53bcf5945b4dfa6f47e3c7/output/db-matching-ZHAW-Olivenol.xlsx\n"
     ]
    }
   ],
   "source": [
    "spO.write_excel()"
   ]
  },
  {
   "cell_type": "markdown",
   "metadata": {
    "ein.tags": [
     "worksheet-0"
    ],
    "slideshow": {
     "slide_type": "-"
    }
   },
   "source": [
    "#### DROP UNLINKED BIOSPHERE EXCHANGES BECAUSE  FOR GWP NOT RELEVANT"
   ]
  },
  {
   "cell_type": "code",
   "execution_count": 37,
   "metadata": {
    "autoscroll": "json-false",
    "collapsed": false,
    "ein.tags": [
     "worksheet-0"
    ],
    "slideshow": {
     "slide_type": "-"
    }
   },
   "outputs": [
    {
     "name": "stdout",
     "output_type": "stream",
     "text": [
      "Applying strategy: drop_unlinked\n",
      "Applied 1 strategies in 0.00 seconds\n"
     ]
    }
   ],
   "source": [
    "spO.drop_unlinked(i_am_reckless=True)"
   ]
  },
  {
   "cell_type": "code",
   "execution_count": 38,
   "metadata": {
    "autoscroll": "json-false",
    "collapsed": false,
    "ein.tags": [
     "worksheet-0"
    ],
    "slideshow": {
     "slide_type": "-"
    }
   },
   "outputs": [
    {
     "name": "stdout",
     "output_type": "stream",
     "text": [
      "Applying strategy: link_iterable_by_fields\n"
     ]
    }
   ],
   "source": [
    "spO.match_database('ecoinvent 3.2 cutoff',ignore_categories=True)"
   ]
  },
  {
   "cell_type": "code",
   "execution_count": 39,
   "metadata": {
    "autoscroll": "json-false",
    "collapsed": false,
    "ein.tags": [
     "worksheet-0"
    ],
    "slideshow": {
     "slide_type": "-"
    }
   },
   "outputs": [
    {
     "data": {
      "text/plain": [
       "(11, 133, 0)"
      ]
     },
     "execution_count": 39,
     "metadata": {},
     "output_type": "execute_result"
    },
    {
     "name": "stdout",
     "output_type": "stream",
     "text": [
      "11 datasets\n",
      "133 exchanges\n",
      "0 unlinked exchanges\n",
      "  \n"
     ]
    }
   ],
   "source": [
    "spO.statistics()"
   ]
  },
  {
   "cell_type": "markdown",
   "metadata": {
    "ein.tags": [
     "worksheet-0"
    ],
    "slideshow": {
     "slide_type": "-"
    }
   },
   "source": [
    "#### write database"
   ]
  },
  {
   "cell_type": "code",
   "execution_count": 40,
   "metadata": {
    "autoscroll": "json-false",
    "collapsed": false,
    "ein.tags": [
     "worksheet-0"
    ],
    "slideshow": {
     "slide_type": "-"
    }
   },
   "outputs": [
    {
     "name": "stdout",
     "output_type": "stream",
     "text": [
      "Title: Writing activities to SQLite3 database:\n",
      "  Started: 03/03/2017 16:10:48\n",
      "  Finished: 03/03/2017 16:10:48\n",
      "  Total time elapsed: 00:00:00\n",
      "  CPU %: 102.80\n",
      "  Memory %: 9.43\n",
      "Created database: ZHAW-Olivenol\n"
     ]
    },
    {
     "name": "stdout",
     "output_type": "stream",
     "text": [
      "Writing activities to SQLite3 database:\n",
      "0%       100%\n",
      "[###########] | ETA: 00:00:00 | ETA: 00:00:00 | ETA: 00:00:00 | ETA: 00:00:00 | ETA: 00:00:00 | ETA: 00:00:00 | ETA: 00:00:00 | ETA: 00:00:00 | ETA: 00:00:00 | ETA: 00:00:00 | ETA: 00:00:00\n",
      "Total time elapsed: 00:00:00\n"
     ]
    }
   ],
   "source": [
    "zhawdata = spO.write_database()"
   ]
  },
  {
   "cell_type": "code",
   "execution_count": 41,
   "metadata": {
    "autoscroll": "json-false",
    "collapsed": false,
    "ein.tags": [
     "worksheet-0"
    ],
    "slideshow": {
     "slide_type": "-"
    }
   },
   "outputs": [
    {
     "data": {
      "text/plain": [
       "Brightway2 SQLiteBackend: ZHAW-Olivenol"
      ]
     },
     "execution_count": 41,
     "metadata": {},
     "output_type": "execute_result"
    }
   ],
   "source": [
    "zhawdata"
   ]
  },
  {
   "cell_type": "code",
   "execution_count": 0,
   "metadata": {
    "autoscroll": "json-false",
    "collapsed": false,
    "ein.tags": [
     "worksheet-0"
    ],
    "slideshow": {
     "slide_type": "-"
    }
   },
   "outputs": [],
   "source": []
  },
  {
   "cell_type": "code",
   "execution_count": 0,
   "metadata": {
    "autoscroll": "json-false",
    "collapsed": false,
    "ein.tags": [
     "worksheet-0"
    ],
    "slideshow": {
     "slide_type": "-"
    }
   },
   "outputs": [],
   "source": []
  },
  {
   "cell_type": "code",
   "execution_count": 0,
   "metadata": {
    "autoscroll": "json-false",
    "collapsed": false,
    "ein.tags": [
     "worksheet-0"
    ],
    "slideshow": {
     "slide_type": "-"
    }
   },
   "outputs": [],
   "source": []
  },
  {
   "cell_type": "code",
   "execution_count": 0,
   "metadata": {
    "autoscroll": "json-false",
    "collapsed": false,
    "ein.tags": [
     "worksheet-0"
    ],
    "slideshow": {
     "slide_type": "-"
    }
   },
   "outputs": [],
   "source": []
  },
  {
   "cell_type": "code",
   "execution_count": 0,
   "metadata": {
    "autoscroll": "json-false",
    "collapsed": false,
    "ein.tags": [
     "worksheet-0"
    ],
    "slideshow": {
     "slide_type": "-"
    }
   },
   "outputs": [],
   "source": []
  },
  {
   "cell_type": "code",
   "execution_count": 0,
   "metadata": {
    "autoscroll": "json-false",
    "collapsed": false,
    "ein.tags": [
     "worksheet-0"
    ],
    "slideshow": {
     "slide_type": "-"
    }
   },
   "outputs": [],
   "source": []
  },
  {
   "cell_type": "code",
   "execution_count": 0,
   "metadata": {
    "autoscroll": "json-false",
    "collapsed": false,
    "ein.tags": [
     "worksheet-0"
    ],
    "slideshow": {
     "slide_type": "-"
    }
   },
   "outputs": [],
   "source": []
  },
  {
   "cell_type": "code",
   "execution_count": 0,
   "metadata": {
    "autoscroll": "json-false",
    "collapsed": false,
    "ein.tags": [
     "worksheet-0"
    ],
    "slideshow": {
     "slide_type": "-"
    }
   },
   "outputs": [],
   "source": []
  },
  {
   "cell_type": "code",
   "execution_count": 0,
   "metadata": {
    "autoscroll": "json-false",
    "collapsed": false,
    "ein.tags": [
     "worksheet-0"
    ],
    "slideshow": {
     "slide_type": "-"
    }
   },
   "outputs": [],
   "source": []
  },
  {
   "cell_type": "code",
   "execution_count": 0,
   "metadata": {
    "autoscroll": "json-false",
    "collapsed": false,
    "ein.tags": [
     "worksheet-0"
    ],
    "slideshow": {
     "slide_type": "-"
    }
   },
   "outputs": [],
   "source": []
  },
  {
   "cell_type": "code",
   "execution_count": 0,
   "metadata": {
    "autoscroll": "json-false",
    "collapsed": false,
    "ein.tags": [
     "worksheet-0"
    ],
    "slideshow": {
     "slide_type": "-"
    }
   },
   "outputs": [],
   "source": []
  },
  {
   "cell_type": "code",
   "execution_count": 0,
   "metadata": {
    "autoscroll": "json-false",
    "collapsed": false,
    "ein.tags": [
     "worksheet-0"
    ],
    "slideshow": {
     "slide_type": "-"
    }
   },
   "outputs": [],
   "source": []
  },
  {
   "cell_type": "code",
   "execution_count": 0,
   "metadata": {
    "autoscroll": "json-false",
    "collapsed": false,
    "ein.tags": [
     "worksheet-0"
    ],
    "slideshow": {
     "slide_type": "-"
    }
   },
   "outputs": [],
   "source": []
  },
  {
   "cell_type": "code",
   "execution_count": 0,
   "metadata": {
    "autoscroll": "json-false",
    "collapsed": false,
    "ein.tags": [
     "worksheet-0"
    ],
    "slideshow": {
     "slide_type": "-"
    }
   },
   "outputs": [],
   "source": []
  },
  {
   "cell_type": "code",
   "execution_count": 0,
   "metadata": {
    "autoscroll": "json-false",
    "collapsed": false,
    "ein.tags": [
     "worksheet-0"
    ],
    "slideshow": {
     "slide_type": "-"
    }
   },
   "outputs": [],
   "source": []
  },
  {
   "cell_type": "code",
   "execution_count": 0,
   "metadata": {
    "autoscroll": "json-false",
    "collapsed": false,
    "ein.tags": [
     "worksheet-0"
    ],
    "slideshow": {
     "slide_type": "-"
    }
   },
   "outputs": [],
   "source": []
  },
  {
   "cell_type": "code",
   "execution_count": 0,
   "metadata": {
    "autoscroll": "json-false",
    "collapsed": false,
    "ein.tags": [
     "worksheet-0"
    ],
    "slideshow": {
     "slide_type": "-"
    }
   },
   "outputs": [],
   "source": []
  },
  {
   "cell_type": "code",
   "execution_count": 0,
   "metadata": {
    "autoscroll": "json-false",
    "collapsed": false,
    "ein.tags": [
     "worksheet-0"
    ],
    "slideshow": {
     "slide_type": "-"
    }
   },
   "outputs": [],
   "source": []
  },
  {
   "cell_type": "code",
   "execution_count": 43,
   "metadata": {
    "autoscroll": "json-false",
    "collapsed": false,
    "ein.tags": [
     "worksheet-0"
    ],
    "slideshow": {
     "slide_type": "-"
    }
   },
   "outputs": [
    {
     "data": {
      "text/plain": [
       "['ZHAW-Olivenol', 'ecoinvent 3.2 cutoff', 'biosphere3']"
      ]
     },
     "execution_count": 43,
     "metadata": {},
     "output_type": "execute_result"
    }
   ],
   "source": [
    "list(databases)"
   ]
  },
  {
   "cell_type": "markdown",
   "metadata": {
    "ein.tags": [
     "worksheet-0"
    ],
    "slideshow": {
     "slide_type": "-"
    }
   },
   "source": [
    "# calculate LCIA"
   ]
  },
  {
   "cell_type": "code",
   "execution_count": 44,
   "metadata": {
    "autoscroll": "json-false",
    "collapsed": false,
    "ein.tags": [
     "worksheet-0"
    ],
    "slideshow": {
     "slide_type": "-"
    }
   },
   "outputs": [
    {
     "data": {
      "text/plain": [
       "[]"
      ]
     },
     "execution_count": 44,
     "metadata": {},
     "output_type": "execute_result"
    }
   ],
   "source": [
    "act = Database('ZHAW-Olivenol').search('rape seed')\n",
    "act"
   ]
  },
  {
   "cell_type": "code",
   "execution_count": 45,
   "metadata": {
    "autoscroll": "json-false",
    "collapsed": false,
    "ein.tags": [
     "worksheet-0"
    ],
    "slideshow": {
     "slide_type": "-"
    }
   },
   "outputs": [
    {
     "data": {
      "text/plain": [
       "'olive oil, extra-virgin, at oil mill, organic' (kilogram, IT, None)"
      ]
     },
     "execution_count": 45,
     "metadata": {},
     "output_type": "execute_result"
    }
   ],
   "source": [
    "act = Database('ZHAW-Olivenol').search('oil')[0]\n",
    "act"
   ]
  },
  {
   "cell_type": "code",
   "execution_count": 46,
   "metadata": {
    "autoscroll": "json-false",
    "collapsed": false,
    "ein.tags": [
     "worksheet-0"
    ],
    "slideshow": {
     "slide_type": "-"
    }
   },
   "outputs": [
    {
     "data": {
      "text/plain": [
       "5.3297187799607695"
      ]
     },
     "execution_count": 46,
     "metadata": {},
     "output_type": "execute_result"
    }
   ],
   "source": [
    "lca = LCA(\n",
    "    {act.key: 1}, \n",
    "    method=('IPCC 2013', 'climate change', 'GWP 100a'),\n",
    ")\n",
    "lca.lci()\n",
    "lca.lcia()\n",
    "lca.score\n"
   ]
  },
  {
   "cell_type": "code",
   "execution_count": 0,
   "metadata": {
    "autoscroll": "json-false",
    "collapsed": false,
    "ein.tags": [
     "worksheet-0"
    ],
    "slideshow": {
     "slide_type": "-"
    }
   },
   "outputs": [],
   "source": []
  },
  {
   "cell_type": "markdown",
   "metadata": {
    "ein.tags": [
     "worksheet-0"
    ],
    "slideshow": {
     "slide_type": "-"
    }
   },
   "source": [
    "## Contribution analysis"
   ]
  },
  {
   "cell_type": "code",
   "execution_count": 47,
   "metadata": {
    "autoscroll": "json-false",
    "collapsed": false,
    "ein.tags": [
     "worksheet-0"
    ],
    "slideshow": {
     "slide_type": "-"
    }
   },
   "outputs": [],
   "source": [
    "from bw2analyzer import ContributionAnalysis"
   ]
  },
  {
   "cell_type": "code",
   "execution_count": 48,
   "metadata": {
    "autoscroll": "json-false",
    "collapsed": false,
    "ein.tags": [
     "worksheet-0"
    ],
    "slideshow": {
     "slide_type": "-"
    }
   },
   "outputs": [
    {
     "data": {
      "text/plain": [
       "[(1.0997271689823023,\n  0.26388149141422423,\n  'Power sawing, with catalytic converter(rape oil) '),\n (0.65010816373795322,\n  8.6758115598223817,\n  'diesel, burned in building machine'),\n (0.45821638296592371,\n  0.35401882170333931,\n  'transport, freight, light commercial vehicle'),\n (0.34964298447127984,\n  2.8072500047849123,\n  'olive branches burned in open fire'),\n (0.29468161596768239,\n  0.14533120823892767,\n  'polyethylene production, high density, granulate'),\n (0.15513255846104046, 0.0018696551420661249, 'tillage, ploughing'),\n (0.14553088806561681,\n  0.071772987022643994,\n  'polyethylene production, high density, granulate'),\n (0.12945442039349375,\n  0.76561003971144082,\n  'heat production, anthracite, at stove 5-15kW'),\n (0.11893755971520144, 5.6145000095698245, 'Olives, at farm, organic/kg'),\n (0.11214325143588721, 1.9915849722199859, 'refinery gas, burned in furnace'),\n (0.085196338636335162, 0.10240806114897126, 'hard coal mine operation'),\n (0.071075633892836332,\n  0.064773110415935475,\n  'quicklime production, in pieces, loose'),\n (0.067083541464194707,\n  0.19258308961542109,\n  'rape seed production, Swiss integrated production, intensive'),\n (0.058235956132383644, 0.068150069280341757, 'pig iron production'),\n (0.057388007380584007,\n  0.75662195307625379,\n  'heavy fuel oil, burned in refinery furnace'),\n (0.050120757773304936,\n  0.43362663785068944,\n  'heat production, at hard coal industrial furnace 1-10MW'),\n (0.039427857219951207,\n  0.043049819374427714,\n  'electricity production, hard coal'),\n (0.037879626805636564,\n  0.55499183825619913,\n  'sweet gas, burned in gas turbine'),\n (0.037237941379294183,\n  0.0021415269739967924,\n  'natural gas venting from petroleum/natural gas production'),\n (0.032381099843383158,\n  0.57506547211987935,\n  'refinery gas, burned in furnace'),\n (0.031684874983333673,\n  0.46344637006235256,\n  'treatment of waste natural gas, sweet, burned in production flare'),\n (0.031117974888374967,\n  0.075948256410185863,\n  'rape seed production, Swiss integrated production, extensive'),\n (0.031070492843007849, 0.070244529236774489, 'hard coal mine operation'),\n (0.026685086267058535,\n  0.022502257293081109,\n  'electricity production, lignite'),\n (0.026589074688219853,\n  0.019097575532300959,\n  'electricity production, hard coal')]"
      ]
     },
     "execution_count": 48,
     "metadata": {},
     "output_type": "execute_result"
    }
   ],
   "source": [
    "ContributionAnalysis().annotated_top_processes(lca)"
   ]
  },
  {
   "cell_type": "code",
   "execution_count": 49,
   "metadata": {
    "autoscroll": "json-false",
    "collapsed": false,
    "ein.tags": [
     "worksheet-0"
    ],
    "slideshow": {
     "slide_type": "-"
    }
   },
   "outputs": [
    {
     "data": {
      "text/plain": [
       "[(2.0017436887913251, 2.0017436887913242, 'Carbon dioxide, fossil'),\n (1.248058726145252, 1.2480587261452518, 'Carbon dioxide, fossil'),\n (0.90257904226740004, 0.90257904226740115, 'Carbon dioxide, fossil'),\n (0.34964298447127984, 0.14036250233080985, 'Carbon monoxide, non-fossil'),\n (0.17867904904836066, 0.043983619294377239, 'Carbon monoxide, fossil'),\n (0.15742416248200583, 0.0053004767150862898, 'Methane, fossil'),\n (0.13472019892480883, 0.00050876210398521037, 'Dinitrogen monoxide'),\n (0.10889902140939441, 0.0036666336232988169, 'Methane, fossil'),\n (0.10357075767199266, 0.00039112825697321563, 'Dinitrogen monoxide'),\n (0.051118540479129469, 0.012583335512994035, 'Carbon monoxide, fossil'),\n (0.038274085574111577, 0.00014453960475268519, 'Dinitrogen monoxide'),\n (0.037469650383133324, 0.0092235259048143673, 'Carbon monoxide, fossil'),\n (0.0072553844287769273, 0.00024428903173061203, 'Methane, fossil'),\n (0.0039780541448742159, 0.00013958084718856896, 'Methane, non-fossil'),\n (0.0039736645765265713, 1.6904304894071691e-07, 'Sulfur hexafluoride'),\n (-0.0031604189683478714, -0.00011089189362624121, 'Methane, non-fossil'),\n (0.0015178171644136163,\n  0.001517817164413616,\n  'Carbon dioxide, from soil or biomass stock'),\n (0.0012319189912388796,\n  1.8592813833226497e-07,\n  'Methane, tetrafluoro-, R-14'),\n (0.00057421196497733592, 2.442746221495524e-08, 'Sulfur hexafluoride'),\n (0.00041770219401892538,\n  2.4165997911549092e-07,\n  'Methane, tetrachloro-, R-10'),\n (0.00038347670531113187,\n  4.463078250328031e-08,\n  'Ethane, 1,2-dichloro-1,1,2,2-tetrafluoro-, CFC-114'),\n (0.00030018132651663426,\n  0.00012050635652412939,\n  'Carbon monoxide, non-fossil'),\n (0.00029491022390803513,\n  4.6873425851238822e-08,\n  'Methane, bromotrifluoro-, Halon 1301'),\n (0.0001769243338392885,\n  0.00017692433383928848,\n  'Carbon dioxide, from soil or biomass stock'),\n (0.00017174711136455547,\n  9.7327574852832079e-08,\n  'Methane, chlorodifluoro-, HCFC-22')]"
      ]
     },
     "execution_count": 49,
     "metadata": {},
     "output_type": "execute_result"
    }
   ],
   "source": [
    "ContributionAnalysis().annotated_top_emissions(lca)"
   ]
  },
  {
   "cell_type": "markdown",
   "metadata": {
    "ein.tags": [
     "worksheet-0"
    ],
    "slideshow": {
     "slide_type": "-"
    }
   },
   "source": [
    "## Create report\n"
   ]
  },
  {
   "cell_type": "code",
   "execution_count": 50,
   "metadata": {
    "autoscroll": "json-false",
    "collapsed": false,
    "ein.tags": [
     "worksheet-0"
    ],
    "slideshow": {
     "slide_type": "-"
    }
   },
   "outputs": [],
   "source": [
    "from bw2analyzer.report import SerializedLCAReport\n",
    "test = SerializedLCAReport(\n",
    "    {act.key: 1}, \n",
    "    method=('IPCC 2013', 'climate change', 'GWP 100a'),\n",
    ")"
   ]
  },
  {
   "cell_type": "code",
   "execution_count": 51,
   "metadata": {
    "autoscroll": "json-false",
    "collapsed": false,
    "ein.tags": [
     "worksheet-0"
    ],
    "slideshow": {
     "slide_type": "-"
    }
   },
   "outputs": [
    {
     "ename": "InvalidParamsError",
     "evalue": "Real, positive scale (sigma) values are required for lognormal uncertainties.",
     "output_type": "error",
     "traceback": [
      "\u001b[0;31m---------------------------------------------------------------------------\u001b[0m",
      "\u001b[0;31mRemoteTraceback\u001b[0m                           Traceback (most recent call last)",
      "\u001b[0;31mRemoteTraceback\u001b[0m: \n\"\"\"\nTraceback (most recent call last):\n  File \"/Users/ioconnor/Documents/bw2/envs/bw2/lib/python3.4/multiprocessing/pool.py\", line 119, in worker\n    result = (True, func(*args, **kwds))\n  File \"/Users/ioconnor/Documents/bw2/envs/bw2/lib/python3.4/multiprocessing/pool.py\", line 44, in mapstar\n    return list(map(*args))\n  File \"/Users/ioconnor/Documents/bw2/envs/bw2/lib/python3.4/site-packages/bw2calc/monte_carlo.py\", line 156, in single_worker\n    return [next(mc) for x in range(iterations)]\n  File \"/Users/ioconnor/Documents/bw2/envs/bw2/lib/python3.4/site-packages/bw2calc/monte_carlo.py\", line 156, in <listcomp>\n    return [next(mc) for x in range(iterations)]\n  File \"/Users/ioconnor/Documents/bw2/envs/bw2/lib/python3.4/site-packages/bw2calc/monte_carlo.py\", line 93, in __next__\n    self.load_data()\n  File \"/Users/ioconnor/Documents/bw2/envs/bw2/lib/python3.4/site-packages/bw2calc/monte_carlo.py\", line 82, in load_data\n    self.tech_rng = MCRandomNumberGenerator(self.tech_params, seed=self.seed)\n  File \"/Users/ioconnor/Documents/bw2/envs/bw2/lib/python3.4/site-packages/stats_arrays/random.py\", line 145, in __init__\n    self.verify_params()\n  File \"/Users/ioconnor/Documents/bw2/envs/bw2/lib/python3.4/site-packages/stats_arrays/random.py\", line 167, in verify_params\n    uncertainty_type.validate(self.params[mask])\n  File \"/Users/ioconnor/Documents/bw2/envs/bw2/lib/python3.4/site-packages/stats_arrays/distributions/lognormal.py\", line 23, in validate\n    \"Real, positive scale (sigma) values are required for\"\nstats_arrays.errors.InvalidParamsError: Real, positive scale (sigma) values are required for lognormal uncertainties.\n\"\"\"",
      "\nThe above exception was the direct cause of the following exception:\n",
      "\u001b[0;31mInvalidParamsError\u001b[0m                        Traceback (most recent call last)",
      "\u001b[0;32m<ipython-input-51-6e1508b2d7be>\u001b[0m in \u001b[0;36m<module>\u001b[0;34m()\u001b[0m\n\u001b[0;32m----> 1\u001b[0;31m \u001b[0mtest\u001b[0m\u001b[0;34m.\u001b[0m\u001b[0mcalculate\u001b[0m\u001b[0;34m(\u001b[0m\u001b[0;34m)\u001b[0m\u001b[0;34m\u001b[0m\u001b[0m\n\u001b[0m",
      "\u001b[0;32m/Users/ioconnor/Documents/bw2/envs/bw2/lib/python3.4/site-packages/bw2analyzer/report.py\u001b[0m in \u001b[0;36mcalculate\u001b[0;34m(self)\u001b[0m\n\u001b[1;32m     48\u001b[0m         \u001b[0mconcentration\u001b[0m \u001b[0;34m=\u001b[0m \u001b[0mconcentration_ratio\u001b[0m\u001b[0;34m(\u001b[0m\u001b[0mlca\u001b[0m\u001b[0;34m.\u001b[0m\u001b[0mcharacterized_inventory\u001b[0m\u001b[0;34m.\u001b[0m\u001b[0mdata\u001b[0m\u001b[0;34m)\u001b[0m\u001b[0;34m\u001b[0m\u001b[0m\n\u001b[1;32m     49\u001b[0m         \u001b[0mprint\u001b[0m\u001b[0;34m(\u001b[0m\u001b[0;34m\"MC:\"\u001b[0m\u001b[0;34m)\u001b[0m\u001b[0;34m\u001b[0m\u001b[0m\n\u001b[0;32m---> 50\u001b[0;31m         \u001b[0mmonte_carlo\u001b[0m \u001b[0;34m=\u001b[0m \u001b[0mself\u001b[0m\u001b[0;34m.\u001b[0m\u001b[0mget_monte_carlo\u001b[0m\u001b[0;34m(\u001b[0m\u001b[0;34m)\u001b[0m\u001b[0;34m\u001b[0m\u001b[0m\n\u001b[0m\u001b[1;32m     51\u001b[0m \u001b[0;34m\u001b[0m\u001b[0m\n\u001b[1;32m     52\u001b[0m         \u001b[0mactivity_data\u001b[0m \u001b[0;34m=\u001b[0m \u001b[0;34m[\u001b[0m\u001b[0;34m]\u001b[0m\u001b[0;34m\u001b[0m\u001b[0m\n",
      "\u001b[0;32m/Users/ioconnor/Documents/bw2/envs/bw2/lib/python3.4/site-packages/bw2analyzer/report.py\u001b[0m in \u001b[0;36mget_monte_carlo\u001b[0;34m(self)\u001b[0m\n\u001b[1;32m     93\u001b[0m             \u001b[0mself\u001b[0m\u001b[0;34m.\u001b[0m\u001b[0mmethod\u001b[0m\u001b[0;34m,\u001b[0m\u001b[0;34m\u001b[0m\u001b[0m\n\u001b[1;32m     94\u001b[0m             \u001b[0miterations\u001b[0m\u001b[0;34m=\u001b[0m\u001b[0mself\u001b[0m\u001b[0;34m.\u001b[0m\u001b[0miterations\u001b[0m\u001b[0;34m,\u001b[0m\u001b[0;34m\u001b[0m\u001b[0m\n\u001b[0;32m---> 95\u001b[0;31m             \u001b[0mcpus\u001b[0m\u001b[0;34m=\u001b[0m\u001b[0mself\u001b[0m\u001b[0;34m.\u001b[0m\u001b[0mcpus\u001b[0m\u001b[0;34m\u001b[0m\u001b[0m\n\u001b[0m\u001b[1;32m     96\u001b[0m         ).calculate()\n\u001b[1;32m     97\u001b[0m         \u001b[0mprint\u001b[0m\u001b[0;34m(\u001b[0m\u001b[0;34m\"Converting to array\"\u001b[0m\u001b[0;34m)\u001b[0m\u001b[0;34m\u001b[0m\u001b[0m\n",
      "\u001b[0;32m/Users/ioconnor/Documents/bw2/envs/bw2/lib/python3.4/site-packages/bw2calc/monte_carlo.py\u001b[0m in \u001b[0;36mcalculate\u001b[0;34m(self, worker)\u001b[0m\n\u001b[1;32m    187\u001b[0m                 [\n\u001b[1;32m    188\u001b[0m                     \u001b[0;34m(\u001b[0m\u001b[0mprojects\u001b[0m\u001b[0;34m.\u001b[0m\u001b[0mcurrent\u001b[0m\u001b[0;34m,\u001b[0m \u001b[0mself\u001b[0m\u001b[0;34m.\u001b[0m\u001b[0mdemand\u001b[0m\u001b[0;34m,\u001b[0m \u001b[0mself\u001b[0m\u001b[0;34m.\u001b[0m\u001b[0mmethod\u001b[0m\u001b[0;34m,\u001b[0m \u001b[0mself\u001b[0m\u001b[0;34m.\u001b[0m\u001b[0mchunk_size\u001b[0m\u001b[0;34m)\u001b[0m\u001b[0;34m\u001b[0m\u001b[0m\n\u001b[0;32m--> 189\u001b[0;31m                     \u001b[0;32mfor\u001b[0m \u001b[0m_\u001b[0m \u001b[0;32min\u001b[0m \u001b[0mrange\u001b[0m\u001b[0;34m(\u001b[0m\u001b[0mself\u001b[0m\u001b[0;34m.\u001b[0m\u001b[0mnum_jobs\u001b[0m\u001b[0;34m)\u001b[0m\u001b[0;34m\u001b[0m\u001b[0m\n\u001b[0m\u001b[1;32m    190\u001b[0m                 ]\n\u001b[1;32m    191\u001b[0m             )\n",
      "\u001b[0;32m/Users/ioconnor/Documents/bw2/envs/bw2/lib/python3.4/multiprocessing/pool.py\u001b[0m in \u001b[0;36mmap\u001b[0;34m(self, func, iterable, chunksize)\u001b[0m\n\u001b[1;32m    258\u001b[0m         \u001b[0;32min\u001b[0m \u001b[0ma\u001b[0m \u001b[0mlist\u001b[0m \u001b[0mthat\u001b[0m \u001b[0;32mis\u001b[0m \u001b[0mreturned\u001b[0m\u001b[0;34m.\u001b[0m\u001b[0;34m\u001b[0m\u001b[0m\n\u001b[1;32m    259\u001b[0m         '''\n\u001b[0;32m--> 260\u001b[0;31m         \u001b[0;32mreturn\u001b[0m \u001b[0mself\u001b[0m\u001b[0;34m.\u001b[0m\u001b[0m_map_async\u001b[0m\u001b[0;34m(\u001b[0m\u001b[0mfunc\u001b[0m\u001b[0;34m,\u001b[0m \u001b[0miterable\u001b[0m\u001b[0;34m,\u001b[0m \u001b[0mmapstar\u001b[0m\u001b[0;34m,\u001b[0m \u001b[0mchunksize\u001b[0m\u001b[0;34m)\u001b[0m\u001b[0;34m.\u001b[0m\u001b[0mget\u001b[0m\u001b[0;34m(\u001b[0m\u001b[0;34m)\u001b[0m\u001b[0;34m\u001b[0m\u001b[0m\n\u001b[0m\u001b[1;32m    261\u001b[0m \u001b[0;34m\u001b[0m\u001b[0m\n\u001b[1;32m    262\u001b[0m     \u001b[0;32mdef\u001b[0m \u001b[0mstarmap\u001b[0m\u001b[0;34m(\u001b[0m\u001b[0mself\u001b[0m\u001b[0;34m,\u001b[0m \u001b[0mfunc\u001b[0m\u001b[0;34m,\u001b[0m \u001b[0miterable\u001b[0m\u001b[0;34m,\u001b[0m \u001b[0mchunksize\u001b[0m\u001b[0;34m=\u001b[0m\u001b[0;32mNone\u001b[0m\u001b[0;34m)\u001b[0m\u001b[0;34m:\u001b[0m\u001b[0;34m\u001b[0m\u001b[0m\n",
      "\u001b[0;32m/Users/ioconnor/Documents/bw2/envs/bw2/lib/python3.4/multiprocessing/pool.py\u001b[0m in \u001b[0;36mget\u001b[0;34m(self, timeout)\u001b[0m\n\u001b[1;32m    606\u001b[0m             \u001b[0;32mreturn\u001b[0m \u001b[0mself\u001b[0m\u001b[0;34m.\u001b[0m\u001b[0m_value\u001b[0m\u001b[0;34m\u001b[0m\u001b[0m\n\u001b[1;32m    607\u001b[0m         \u001b[0;32melse\u001b[0m\u001b[0;34m:\u001b[0m\u001b[0;34m\u001b[0m\u001b[0m\n\u001b[0;32m--> 608\u001b[0;31m             \u001b[0;32mraise\u001b[0m \u001b[0mself\u001b[0m\u001b[0;34m.\u001b[0m\u001b[0m_value\u001b[0m\u001b[0;34m\u001b[0m\u001b[0m\n\u001b[0m\u001b[1;32m    609\u001b[0m \u001b[0;34m\u001b[0m\u001b[0m\n\u001b[1;32m    610\u001b[0m     \u001b[0;32mdef\u001b[0m \u001b[0m_set\u001b[0m\u001b[0;34m(\u001b[0m\u001b[0mself\u001b[0m\u001b[0;34m,\u001b[0m \u001b[0mi\u001b[0m\u001b[0;34m,\u001b[0m \u001b[0mobj\u001b[0m\u001b[0;34m)\u001b[0m\u001b[0;34m:\u001b[0m\u001b[0;34m\u001b[0m\u001b[0m\n",
      "\u001b[0;31mInvalidParamsError\u001b[0m: Real, positive scale (sigma) values are required for lognormal uncertainties."
     ]
    },
    {
     "name": "stdout",
     "output_type": "stream",
     "text": [
      "FD\n",
      "CA\n",
      "hinton\n",
      "treemap\n",
      "herfindahl\n",
      "concentration\n",
      "MC:\n",
      "Entered get_monte_carlo\n"
     ]
    }
   ],
   "source": [
    "test.calculate()"
   ]
  },
  {
   "cell_type": "code",
   "execution_count": 0,
   "metadata": {
    "autoscroll": "json-false",
    "collapsed": false,
    "ein.tags": [
     "worksheet-0"
    ],
    "slideshow": {
     "slide_type": "-"
    }
   },
   "outputs": [],
   "source": [
    "test.report['monte carlo']['histogram']= list(test.report['monte carlo']['histogram'])"
   ]
  },
  {
   "cell_type": "code",
   "execution_count": 0,
   "metadata": {
    "autoscroll": "json-false",
    "collapsed": false,
    "ein.tags": [
     "worksheet-0"
    ],
    "slideshow": {
     "slide_type": "-"
    }
   },
   "outputs": [],
   "source": [
    "test.report['monte carlo']['smoothed'] = list(test.report['monte carlo']['smoothed'])"
   ]
  },
  {
   "cell_type": "code",
   "execution_count": 0,
   "metadata": {
    "autoscroll": "json-false",
    "collapsed": false,
    "ein.tags": [
     "worksheet-0"
    ],
    "slideshow": {
     "slide_type": "-"
    }
   },
   "outputs": [],
   "source": [
    "test.write()"
   ]
  },
  {
   "cell_type": "code",
   "execution_count": 0,
   "metadata": {
    "autoscroll": "json-false",
    "collapsed": false,
    "ein.tags": [
     "worksheet-0"
    ],
    "slideshow": {
     "slide_type": "-"
    }
   },
   "outputs": [],
   "source": [
    "test.report"
   ]
  },
  {
   "cell_type": "markdown",
   "metadata": {
    "ein.tags": [
     "worksheet-0"
    ],
    "slideshow": {
     "slide_type": "-"
    }
   },
   "source": [
    "## See all flows and their characterization factors"
   ]
  },
  {
   "cell_type": "code",
   "execution_count": 44,
   "metadata": {
    "autoscroll": "json-false",
    "collapsed": false,
    "ein.tags": [
     "worksheet-0"
    ],
    "slideshow": {
     "slide_type": "-"
    }
   },
   "outputs": [
    {
     "name": "stdout",
     "output_type": "stream",
     "text": [
      "'Carbon dioxide, fossil' (kilogram, None, ('air', 'low population density, long-term')) 1.0\n",
      "'Carbon dioxide, fossil' (kilogram, None, ('air', 'lower stratosphere + upper troposphere')) 1.0\n",
      "'Carbon dioxide, fossil' (kilogram, None, ('air', 'non-urban air or from high stacks')) 1.0\n",
      "'Carbon dioxide, fossil' (kilogram, None, ('air',)) 1.0\n",
      "'Carbon dioxide, fossil' (kilogram, None, ('air', 'urban air close to ground')) 1.0\n",
      "'Carbon dioxide, from soil or biomass stock' (kilogram, None, ('air', 'low population density, long-term')) 1.0\n",
      "'Carbon dioxide, from soil or biomass stock' (kilogram, None, ('air', 'lower stratosphere + upper troposphere')) 1.0\n",
      "'Carbon dioxide, from soil or biomass stock' (kilogram, None, ('air', 'non-urban air or from high stacks')) 1.0\n",
      "'Carbon dioxide, from soil or biomass stock' (kilogram, None, ('air',)) 1.0\n",
      "'Carbon dioxide, from soil or biomass stock' (kilogram, None, ('air', 'urban air close to ground')) 1.0\n",
      "'Carbon dioxide, to soil or biomass stock' (kilogram, None, ('soil', 'agricultural')) -1.0\n",
      "'Carbon dioxide, to soil or biomass stock' (kilogram, None, ('soil', 'forestry')) -1.0\n",
      "'Carbon dioxide, to soil or biomass stock' (kilogram, None, ('soil', 'industrial')) -1.0\n",
      "'Carbon dioxide, to soil or biomass stock' (kilogram, None, ('soil',)) -1.0\n",
      "'Carbon monoxide, fossil' (kilogram, None, ('air', 'low population density, long-term')) 4.0624\n",
      "'Carbon monoxide, fossil' (kilogram, None, ('air', 'lower stratosphere + upper troposphere')) 4.0624\n",
      "'Carbon monoxide, fossil' (kilogram, None, ('air', 'non-urban air or from high stacks')) 4.0624\n",
      "'Carbon monoxide, fossil' (kilogram, None, ('air',)) 4.0624\n",
      "'Carbon monoxide, fossil' (kilogram, None, ('air', 'urban air close to ground')) 4.0624\n",
      "'Carbon monoxide, from soil or biomass stock' (kilogram, None, ('air', 'low population density, long-term')) 4.0624\n",
      "'Carbon monoxide, from soil or biomass stock' (kilogram, None, ('air', 'lower stratosphere + upper troposphere')) 4.0624\n",
      "'Carbon monoxide, from soil or biomass stock' (kilogram, None, ('air', 'non-urban air or from high stacks')) 4.0624\n",
      "'Carbon monoxide, from soil or biomass stock' (kilogram, None, ('air',)) 4.0624\n",
      "'Carbon monoxide, from soil or biomass stock' (kilogram, None, ('air', 'urban air close to ground')) 4.0624\n",
      "'Carbon monoxide, non-fossil' (kilogram, None, ('air', 'low population density, long-term')) 2.491\n",
      "'Carbon monoxide, non-fossil' (kilogram, None, ('air', 'lower stratosphere + upper troposphere')) 2.491\n",
      "'Carbon monoxide, non-fossil' (kilogram, None, ('air', 'non-urban air or from high stacks')) 2.491\n",
      "'Carbon monoxide, non-fossil' (kilogram, None, ('air',)) 2.491\n",
      "'Carbon monoxide, non-fossil' (kilogram, None, ('air', 'urban air close to ground')) 2.491\n",
      "'Chloroform' (kilogram, None, ('air', 'low population density, long-term')) 16.40180896\n",
      "'Chloroform' (kilogram, None, ('air', 'lower stratosphere + upper troposphere')) 16.40180896\n",
      "'Chloroform' (kilogram, None, ('air', 'non-urban air or from high stacks')) 16.40180896\n",
      "'Chloroform' (kilogram, None, ('air',)) 16.40180896\n",
      "'Chloroform' (kilogram, None, ('air', 'urban air close to ground')) 16.40180896\n",
      "'Dinitrogen monoxide' (kilogram, None, ('air', 'low population density, long-term')) 264.8\n",
      "'Dinitrogen monoxide' (kilogram, None, ('air', 'lower stratosphere + upper troposphere')) 264.8\n",
      "'Dinitrogen monoxide' (kilogram, None, ('air', 'non-urban air or from high stacks')) 264.8\n",
      "'Dinitrogen monoxide' (kilogram, None, ('air',)) 264.8\n",
      "'Dinitrogen monoxide' (kilogram, None, ('air', 'urban air close to ground')) 264.8\n",
      "'Ethane, 1,1,1,2-tetrafluoro-, HFC-134a' (kilogram, None, ('air', 'low population density, long-term')) 1301.27019996\n",
      "'Ethane, 1,1,1,2-tetrafluoro-, HFC-134a' (kilogram, None, ('air', 'lower stratosphere + upper troposphere')) 1301.27019996\n",
      "'Ethane, 1,1,1,2-tetrafluoro-, HFC-134a' (kilogram, None, ('air', 'non-urban air or from high stacks')) 1301.27019996\n",
      "'Ethane, 1,1,1,2-tetrafluoro-, HFC-134a' (kilogram, None, ('air',)) 1301.27019996\n",
      "'Ethane, 1,1,1,2-tetrafluoro-, HFC-134a' (kilogram, None, ('air', 'urban air close to ground')) 1301.27019996\n",
      "'Ethane, 1,1,1-trichloro-, HCFC-140' (kilogram, None, ('air', 'low population density, long-term')) 160.09863099\n",
      "'Ethane, 1,1,1-trichloro-, HCFC-140' (kilogram, None, ('air', 'lower stratosphere + upper troposphere')) 160.09863099\n",
      "'Ethane, 1,1,1-trichloro-, HCFC-140' (kilogram, None, ('air', 'non-urban air or from high stacks')) 160.09863099\n",
      "'Ethane, 1,1,1-trichloro-, HCFC-140' (kilogram, None, ('air',)) 160.09863099\n",
      "'Ethane, 1,1,1-trichloro-, HCFC-140' (kilogram, None, ('air', 'urban air close to ground')) 160.09863099\n",
      "'Ethane, 1,1,1-trifluoro-, HFC-143a' (kilogram, None, ('air', 'low population density, long-term')) 4804.43907777\n",
      "'Ethane, 1,1,1-trifluoro-, HFC-143a' (kilogram, None, ('air', 'lower stratosphere + upper troposphere')) 4804.43907777\n",
      "'Ethane, 1,1,1-trifluoro-, HFC-143a' (kilogram, None, ('air', 'non-urban air or from high stacks')) 4804.43907777\n",
      "'Ethane, 1,1,1-trifluoro-, HFC-143a' (kilogram, None, ('air',)) 4804.43907777\n",
      "'Ethane, 1,1,1-trifluoro-, HFC-143a' (kilogram, None, ('air', 'urban air close to ground')) 4804.43907777\n",
      "'Ethane, 1,1,2-trichloro-1,2,2-trifluoro-, CFC-113' (kilogram, None, ('air', 'low population density, long-term')) 5823.72618701\n",
      "'Ethane, 1,1,2-trichloro-1,2,2-trifluoro-, CFC-113' (kilogram, None, ('air', 'lower stratosphere + upper troposphere')) 5823.72618701\n",
      "'Ethane, 1,1,2-trichloro-1,2,2-trifluoro-, CFC-113' (kilogram, None, ('air', 'non-urban air or from high stacks')) 5823.72618701\n",
      "'Ethane, 1,1,2-trichloro-1,2,2-trifluoro-, CFC-113' (kilogram, None, ('air',)) 5823.72618701\n",
      "'Ethane, 1,1,2-trichloro-1,2,2-trifluoro-, CFC-113' (kilogram, None, ('air', 'urban air close to ground')) 5823.72618701\n",
      "'Ethane, 1,1-dichloro-1-fluoro-, HCFC-141b' (kilogram, None, ('air', 'low population density, long-term')) 782.03725986\n",
      "'Ethane, 1,1-dichloro-1-fluoro-, HCFC-141b' (kilogram, None, ('air', 'lower stratosphere + upper troposphere')) 782.03725986\n",
      "'Ethane, 1,1-dichloro-1-fluoro-, HCFC-141b' (kilogram, None, ('air', 'non-urban air or from high stacks')) 782.03725986\n",
      "'Ethane, 1,1-dichloro-1-fluoro-, HCFC-141b' (kilogram, None, ('air',)) 782.03725986\n",
      "'Ethane, 1,1-dichloro-1-fluoro-, HCFC-141b' (kilogram, None, ('air', 'urban air close to ground')) 782.03725986\n",
      "'Ethane, 1,1-difluoro-, HFC-152a' (kilogram, None, ('air', 'low population density, long-term')) 137.56020393\n",
      "'Ethane, 1,1-difluoro-, HFC-152a' (kilogram, None, ('air', 'lower stratosphere + upper troposphere')) 137.56020393\n",
      "'Ethane, 1,1-difluoro-, HFC-152a' (kilogram, None, ('air', 'non-urban air or from high stacks')) 137.56020393\n",
      "'Ethane, 1,1-difluoro-, HFC-152a' (kilogram, None, ('air',)) 137.56020393\n",
      "'Ethane, 1,1-difluoro-, HFC-152a' (kilogram, None, ('air', 'urban air close to ground')) 137.56020393\n",
      "'Ethane, 1,2-dichloro-' (kilogram, None, ('air', 'low population density, long-term')) 0.89826217\n",
      "'Ethane, 1,2-dichloro-' (kilogram, None, ('air', 'lower stratosphere + upper troposphere')) 0.89826217\n",
      "'Ethane, 1,2-dichloro-' (kilogram, None, ('air', 'non-urban air or from high stacks')) 0.89826217\n",
      "'Ethane, 1,2-dichloro-' (kilogram, None, ('air',)) 0.89826217\n",
      "'Ethane, 1,2-dichloro-' (kilogram, None, ('air', 'urban air close to ground')) 0.89826217\n",
      "'Ethane, 1,2-dichloro-1,1,2,2-tetrafluoro-, CFC-114' (kilogram, None, ('air', 'low population density, long-term')) 8592.20208449\n",
      "'Ethane, 1,2-dichloro-1,1,2,2-tetrafluoro-, CFC-114' (kilogram, None, ('air', 'lower stratosphere + upper troposphere')) 8592.20208449\n",
      "'Ethane, 1,2-dichloro-1,1,2,2-tetrafluoro-, CFC-114' (kilogram, None, ('air', 'non-urban air or from high stacks')) 8592.20208449\n",
      "'Ethane, 1,2-dichloro-1,1,2,2-tetrafluoro-, CFC-114' (kilogram, None, ('air',)) 8592.20208449\n",
      "'Ethane, 1,2-dichloro-1,1,2,2-tetrafluoro-, CFC-114' (kilogram, None, ('air', 'urban air close to ground')) 8592.20208449\n",
      "'Ethane, 1-chloro-1,1-difluoro-, HCFC-142b' (kilogram, None, ('air', 'low population density, long-term')) 1982.03546266\n",
      "'Ethane, 1-chloro-1,1-difluoro-, HCFC-142b' (kilogram, None, ('air', 'lower stratosphere + upper troposphere')) 1982.03546266\n",
      "'Ethane, 1-chloro-1,1-difluoro-, HCFC-142b' (kilogram, None, ('air', 'non-urban air or from high stacks')) 1982.03546266\n",
      "'Ethane, 1-chloro-1,1-difluoro-, HCFC-142b' (kilogram, None, ('air',)) 1982.03546266\n",
      "'Ethane, 1-chloro-1,1-difluoro-, HCFC-142b' (kilogram, None, ('air', 'urban air close to ground')) 1982.03546266\n",
      "'Ethane, 2,2-dichloro-1,1,1-trifluoro-, HCFC-123' (kilogram, None, ('air', 'low population density, long-term')) 79.36717675\n",
      "'Ethane, 2,2-dichloro-1,1,1-trifluoro-, HCFC-123' (kilogram, None, ('air', 'lower stratosphere + upper troposphere')) 79.36717675\n",
      "'Ethane, 2,2-dichloro-1,1,1-trifluoro-, HCFC-123' (kilogram, None, ('air', 'non-urban air or from high stacks')) 79.36717675\n",
      "'Ethane, 2,2-dichloro-1,1,1-trifluoro-, HCFC-123' (kilogram, None, ('air',)) 79.36717675\n",
      "'Ethane, 2,2-dichloro-1,1,1-trifluoro-, HCFC-123' (kilogram, None, ('air', 'urban air close to ground')) 79.36717675\n",
      "'Ethane, 2-chloro-1,1,1,2-tetrafluoro-, HCFC-124' (kilogram, None, ('air', 'low population density, long-term')) 526.54777691\n",
      "'Ethane, 2-chloro-1,1,1,2-tetrafluoro-, HCFC-124' (kilogram, None, ('air', 'lower stratosphere + upper troposphere')) 526.54777691\n",
      "'Ethane, 2-chloro-1,1,1,2-tetrafluoro-, HCFC-124' (kilogram, None, ('air', 'non-urban air or from high stacks')) 526.54777691\n",
      "'Ethane, 2-chloro-1,1,1,2-tetrafluoro-, HCFC-124' (kilogram, None, ('air',)) 526.54777691\n",
      "'Ethane, 2-chloro-1,1,1,2-tetrafluoro-, HCFC-124' (kilogram, None, ('air', 'urban air close to ground')) 526.54777691\n",
      "'Ethane, chloropentafluoro-, CFC-115' (kilogram, None, ('air', 'low population density, long-term')) 7665.36131656\n",
      "'Ethane, chloropentafluoro-, CFC-115' (kilogram, None, ('air', 'lower stratosphere + upper troposphere')) 7665.36131656\n",
      "'Ethane, chloropentafluoro-, CFC-115' (kilogram, None, ('air', 'non-urban air or from high stacks')) 7665.36131656\n",
      "'Ethane, chloropentafluoro-, CFC-115' (kilogram, None, ('air',)) 7665.36131656\n",
      "'Ethane, chloropentafluoro-, CFC-115' (kilogram, None, ('air', 'urban air close to ground')) 7665.36131656\n",
      "'Ethane, hexafluoro-, HFC-116' (kilogram, None, ('air', 'low population density, long-term')) 11123.4939199\n",
      "'Ethane, hexafluoro-, HFC-116' (kilogram, None, ('air', 'lower stratosphere + upper troposphere')) 11123.4939199\n",
      "'Ethane, hexafluoro-, HFC-116' (kilogram, None, ('air', 'non-urban air or from high stacks')) 11123.4939199\n",
      "'Ethane, hexafluoro-, HFC-116' (kilogram, None, ('air',)) 11123.4939199\n",
      "'Ethane, hexafluoro-, HFC-116' (kilogram, None, ('air', 'urban air close to ground')) 11123.4939199\n",
      "'Ethane, pentafluoro-, HFC-125' (kilogram, None, ('air', 'low population density, long-term')) 3169.25517622\n",
      "'Ethane, pentafluoro-, HFC-125' (kilogram, None, ('air', 'lower stratosphere + upper troposphere')) 3169.25517622\n",
      "'Ethane, pentafluoro-, HFC-125' (kilogram, None, ('air', 'non-urban air or from high stacks')) 3169.25517622\n",
      "'Ethane, pentafluoro-, HFC-125' (kilogram, None, ('air',)) 3169.25517622\n",
      "'Ethane, pentafluoro-, HFC-125' (kilogram, None, ('air', 'urban air close to ground')) 3169.25517622\n",
      "'Methane' (kilogram, None, ('air', 'urban air close to ground')) 29.7\n",
      "'Methane, bromo-, Halon 1001' (kilogram, None, ('air', 'low population density, long-term')) 2.3545465\n",
      "'Methane, bromo-, Halon 1001' (kilogram, None, ('air', 'lower stratosphere + upper troposphere')) 2.3545465\n",
      "'Methane, bromo-, Halon 1001' (kilogram, None, ('air', 'non-urban air or from high stacks')) 2.3545465\n",
      "'Methane, bromo-, Halon 1001' (kilogram, None, ('air',)) 2.3545465\n",
      "'Methane, bromo-, Halon 1001' (kilogram, None, ('air', 'urban air close to ground')) 2.3545465\n",
      "'Methane, bromochlorodifluoro-, Halon 1211' (kilogram, None, ('air', 'low population density, long-term')) 1746.48198701\n",
      "'Methane, bromochlorodifluoro-, Halon 1211' (kilogram, None, ('air', 'lower stratosphere + upper troposphere')) 1746.48198701\n",
      "'Methane, bromochlorodifluoro-, Halon 1211' (kilogram, None, ('air', 'non-urban air or from high stacks')) 1746.48198701\n",
      "'Methane, bromochlorodifluoro-, Halon 1211' (kilogram, None, ('air',)) 1746.48198701\n",
      "'Methane, bromochlorodifluoro-, Halon 1211' (kilogram, None, ('air', 'urban air close to ground')) 1746.48198701\n",
      "'Methane, bromotrifluoro-, Halon 1301' (kilogram, None, ('air', 'low population density, long-term')) 6291.62957595\n",
      "'Methane, bromotrifluoro-, Halon 1301' (kilogram, None, ('air', 'lower stratosphere + upper troposphere')) 6291.62957595\n",
      "'Methane, bromotrifluoro-, Halon 1301' (kilogram, None, ('air', 'non-urban air or from high stacks')) 6291.62957595\n",
      "'Methane, bromotrifluoro-, Halon 1301' (kilogram, None, ('air',)) 6291.62957595\n",
      "'Methane, bromotrifluoro-, Halon 1301' (kilogram, None, ('air', 'urban air close to ground')) 6291.62957595\n",
      "'Methane, chlorodifluoro-, HCFC-22' (kilogram, None, ('air', 'low population density, long-term')) 1764.62950881\n",
      "'Methane, chlorodifluoro-, HCFC-22' (kilogram, None, ('air', 'lower stratosphere + upper troposphere')) 1764.62950881\n",
      "'Methane, chlorodifluoro-, HCFC-22' (kilogram, None, ('air', 'non-urban air or from high stacks')) 1764.62950881\n",
      "'Methane, chlorodifluoro-, HCFC-22' (kilogram, None, ('air',)) 1764.62950881\n",
      "'Methane, chlorodifluoro-, HCFC-22' (kilogram, None, ('air', 'urban air close to ground')) 1764.62950881\n",
      "'Methane, chlorotrifluoro-, CFC-13' (kilogram, None, ('air', 'low population density, long-term')) 13893.352601\n",
      "'Methane, chlorotrifluoro-, CFC-13' (kilogram, None, ('air', 'lower stratosphere + upper troposphere')) 13893.352601\n",
      "'Methane, chlorotrifluoro-, CFC-13' (kilogram, None, ('air', 'non-urban air or from high stacks')) 13893.352601\n",
      "'Methane, chlorotrifluoro-, CFC-13' (kilogram, None, ('air',)) 13893.352601\n",
      "'Methane, chlorotrifluoro-, CFC-13' (kilogram, None, ('air', 'urban air close to ground')) 13893.352601\n",
      "'Methane, dichloro-, HCC-30' (kilogram, None, ('air', 'low population density, long-term')) 8.9151946\n",
      "'Methane, dichloro-, HCC-30' (kilogram, None, ('air', 'lower stratosphere + upper troposphere')) 8.9151946\n",
      "'Methane, dichloro-, HCC-30' (kilogram, None, ('air', 'non-urban air or from high stacks')) 8.9151946\n",
      "'Methane, dichloro-, HCC-30' (kilogram, None, ('air',)) 8.9151946\n",
      "'Methane, dichloro-, HCC-30' (kilogram, None, ('air', 'urban air close to ground')) 8.9151946\n",
      "'Methane, dichlorodifluoro-, CFC-12' (kilogram, None, ('air', 'low population density, long-term')) 10239.2345992\n",
      "'Methane, dichlorodifluoro-, CFC-12' (kilogram, None, ('air', 'lower stratosphere + upper troposphere')) 10239.2345992\n",
      "'Methane, dichlorodifluoro-, CFC-12' (kilogram, None, ('air', 'non-urban air or from high stacks')) 10239.2345992\n",
      "'Methane, dichlorodifluoro-, CFC-12' (kilogram, None, ('air',)) 10239.2345992\n",
      "'Methane, dichlorodifluoro-, CFC-12' (kilogram, None, ('air', 'urban air close to ground')) 10239.2345992\n",
      "'Methane, dichlorofluoro-, HCFC-21' (kilogram, None, ('air', 'low population density, long-term')) 147.66224518\n",
      "'Methane, dichlorofluoro-, HCFC-21' (kilogram, None, ('air', 'lower stratosphere + upper troposphere')) 147.66224518\n",
      "'Methane, dichlorofluoro-, HCFC-21' (kilogram, None, ('air', 'non-urban air or from high stacks')) 147.66224518\n",
      "'Methane, dichlorofluoro-, HCFC-21' (kilogram, None, ('air',)) 147.66224518\n",
      "'Methane, dichlorofluoro-, HCFC-21' (kilogram, None, ('air', 'urban air close to ground')) 147.66224518\n",
      "'Methane, difluoro-, HFC-32' (kilogram, None, ('air', 'low population density, long-term')) 676.80778461\n",
      "'Methane, difluoro-, HFC-32' (kilogram, None, ('air', 'lower stratosphere + upper troposphere')) 676.80778461\n",
      "'Methane, difluoro-, HFC-32' (kilogram, None, ('air', 'non-urban air or from high stacks')) 676.80778461\n",
      "'Methane, difluoro-, HFC-32' (kilogram, None, ('air',)) 676.80778461\n",
      "'Methane, difluoro-, HFC-32' (kilogram, None, ('air', 'urban air close to ground')) 676.80778461\n",
      "'Methane, fossil' (kilogram, None, ('air', 'low population density, long-term')) 29.7\n",
      "'Methane, fossil' (kilogram, None, ('air', 'lower stratosphere + upper troposphere')) 29.7\n",
      "'Methane, fossil' (kilogram, None, ('air', 'non-urban air or from high stacks')) 29.7\n",
      "'Methane, fossil' (kilogram, None, ('air',)) 29.7\n",
      "'Methane, fossil' (kilogram, None, ('air', 'urban air close to ground')) 29.7\n",
      "'Methane, from soil or biomass stock' (kilogram, None, ('air', 'low population density, long-term')) 29.7\n",
      "'Methane, from soil or biomass stock' (kilogram, None, ('air', 'lower stratosphere + upper troposphere')) 29.7\n",
      "'Methane, from soil or biomass stock' (kilogram, None, ('air', 'non-urban air or from high stacks')) 29.7\n",
      "'Methane, from soil or biomass stock' (kilogram, None, ('air',)) 29.7\n",
      "'Methane, from soil or biomass stock' (kilogram, None, ('air', 'urban air close to ground')) 29.7\n",
      "'Methane, monochloro-, R-40' (kilogram, None, ('air', 'low population density, long-term')) 12.18322764\n",
      "'Methane, monochloro-, R-40' (kilogram, None, ('air', 'lower stratosphere + upper troposphere')) 12.18322764\n",
      "'Methane, monochloro-, R-40' (kilogram, None, ('air', 'non-urban air or from high stacks')) 12.18322764\n",
      "'Methane, monochloro-, R-40' (kilogram, None, ('air',)) 12.18322764\n",
      "'Methane, monochloro-, R-40' (kilogram, None, ('air', 'urban air close to ground')) 12.18322764\n",
      "'Methane, non-fossil' (kilogram, None, ('air', 'low population density, long-term')) 28.5\n",
      "'Methane, non-fossil' (kilogram, None, ('air', 'lower stratosphere + upper troposphere')) 28.5\n",
      "'Methane, non-fossil' (kilogram, None, ('air', 'non-urban air or from high stacks')) 28.5\n",
      "'Methane, non-fossil' (kilogram, None, ('air',)) 28.5\n",
      "'Methane, non-fossil' (kilogram, None, ('air', 'urban air close to ground')) 28.5\n",
      "'Methane, tetrachloro-, R-10' (kilogram, None, ('air', 'low population density, long-term')) 1728.47068126\n",
      "'Methane, tetrachloro-, R-10' (kilogram, None, ('air', 'lower stratosphere + upper troposphere')) 1728.47068126\n",
      "'Methane, tetrachloro-, R-10' (kilogram, None, ('air', 'non-urban air or from high stacks')) 1728.47068126\n",
      "'Methane, tetrachloro-, R-10' (kilogram, None, ('air',)) 1728.47068126\n",
      "'Methane, tetrachloro-, R-10' (kilogram, None, ('air', 'urban air close to ground')) 1728.47068126\n",
      "'Methane, tetrafluoro-, R-14' (kilogram, None, ('air', 'low population density, long-term')) 6625.78042077\n",
      "'Methane, tetrafluoro-, R-14' (kilogram, None, ('air', 'lower stratosphere + upper troposphere')) 6625.78042077\n",
      "'Methane, tetrafluoro-, R-14' (kilogram, None, ('air', 'non-urban air or from high stacks')) 6625.78042077\n",
      "'Methane, tetrafluoro-, R-14' (kilogram, None, ('air',)) 6625.78042077\n",
      "'Methane, tetrafluoro-, R-14' (kilogram, None, ('air', 'urban air close to ground')) 6625.78042077\n",
      "'Methane, trichlorofluoro-, CFC-11' (kilogram, None, ('air', 'low population density, long-term')) 4662.93699438\n",
      "'Methane, trichlorofluoro-, CFC-11' (kilogram, None, ('air', 'lower stratosphere + upper troposphere')) 4662.93699438\n",
      "'Methane, trichlorofluoro-, CFC-11' (kilogram, None, ('air', 'non-urban air or from high stacks')) 4662.93699438\n",
      "'Methane, trichlorofluoro-, CFC-11' (kilogram, None, ('air',)) 4662.93699438\n",
      "'Methane, trichlorofluoro-, CFC-11' (kilogram, None, ('air', 'urban air close to ground')) 4662.93699438\n",
      "'Methane, trifluoro-, HFC-23' (kilogram, None, ('air', 'low population density, long-term')) 12397.6034385\n",
      "'Methane, trifluoro-, HFC-23' (kilogram, None, ('air', 'lower stratosphere + upper troposphere')) 12397.6034385\n",
      "'Methane, trifluoro-, HFC-23' (kilogram, None, ('air', 'non-urban air or from high stacks')) 12397.6034385\n",
      "'Methane, trifluoro-, HFC-23' (kilogram, None, ('air',)) 12397.6034385\n",
      "'Methane, trifluoro-, HFC-23' (kilogram, None, ('air', 'urban air close to ground')) 12397.6034385\n",
      "'Nitrogen fluoride' (kilogram, None, ('air', 'low population density, long-term')) 16069.997634\n",
      "'Nitrogen fluoride' (kilogram, None, ('air', 'lower stratosphere + upper troposphere')) 16069.997634\n",
      "'Nitrogen fluoride' (kilogram, None, ('air', 'non-urban air or from high stacks')) 16069.997634\n",
      "'Nitrogen fluoride' (kilogram, None, ('air',)) 16069.997634\n",
      "'Nitrogen fluoride' (kilogram, None, ('air', 'urban air close to ground')) 16069.997634\n",
      "'Perfluoropentane' (kilogram, None, ('air',)) 8546.70453046\n",
      "'Sulfur hexafluoride' (kilogram, None, ('air', 'low population density, long-term')) 23506.8199932\n",
      "'Sulfur hexafluoride' (kilogram, None, ('air', 'lower stratosphere + upper troposphere')) 23506.8199932\n",
      "'Sulfur hexafluoride' (kilogram, None, ('air', 'non-urban air or from high stacks')) 23506.8199932\n",
      "'Sulfur hexafluoride' (kilogram, None, ('air',)) 23506.8199932\n",
      "'Sulfur hexafluoride' (kilogram, None, ('air', 'urban air close to ground')) 23506.8199932\n"
     ]
    }
   ],
   "source": [
    "from brightway2 import *\n",
    "method = methods.random()\n",
    "for key, cf in Method(('IPCC 2013', 'climate change', 'GWP 100a')).load():\n",
    "    print(get_activity(key), cf)"
   ]
  },
  {
   "cell_type": "code",
   "execution_count": 0,
   "metadata": {
    "autoscroll": "json-false",
    "collapsed": false,
    "ein.tags": [
     "worksheet-0"
    ],
    "slideshow": {
     "slide_type": "-"
    }
   },
   "outputs": [],
   "source": []
  },
  {
   "cell_type": "code",
   "execution_count": 0,
   "metadata": {
    "autoscroll": "json-false",
    "collapsed": false,
    "ein.tags": [
     "worksheet-0"
    ],
    "slideshow": {
     "slide_type": "-"
    }
   },
   "outputs": [],
   "source": []
  },
  {
   "cell_type": "code",
   "execution_count": 0,
   "metadata": {
    "autoscroll": "json-false",
    "collapsed": false,
    "ein.tags": [
     "worksheet-0"
    ],
    "slideshow": {
     "slide_type": "-"
    }
   },
   "outputs": [],
   "source": []
  },
  {
   "cell_type": "code",
   "execution_count": 0,
   "metadata": {
    "autoscroll": "json-false",
    "collapsed": false,
    "ein.tags": [
     "worksheet-0"
    ],
    "slideshow": {
     "slide_type": "-"
    }
   },
   "outputs": [],
   "source": []
  },
  {
   "cell_type": "code",
   "execution_count": 0,
   "metadata": {
    "autoscroll": "json-false",
    "collapsed": false,
    "ein.tags": [
     "worksheet-0"
    ],
    "slideshow": {
     "slide_type": "-"
    }
   },
   "outputs": [],
   "source": []
  },
  {
   "cell_type": "code",
   "execution_count": 0,
   "metadata": {
    "autoscroll": "json-false",
    "collapsed": false,
    "ein.tags": [
     "worksheet-0"
    ],
    "slideshow": {
     "slide_type": "-"
    }
   },
   "outputs": [],
   "source": []
  },
  {
   "cell_type": "code",
   "execution_count": 0,
   "metadata": {
    "autoscroll": "json-false",
    "collapsed": false,
    "ein.tags": [
     "worksheet-0"
    ],
    "slideshow": {
     "slide_type": "-"
    }
   },
   "outputs": [],
   "source": []
  },
  {
   "cell_type": "code",
   "execution_count": 0,
   "metadata": {
    "autoscroll": "json-false",
    "collapsed": false,
    "ein.tags": [
     "worksheet-0"
    ],
    "slideshow": {
     "slide_type": "-"
    }
   },
   "outputs": [],
   "source": []
  },
  {
   "cell_type": "code",
   "execution_count": 0,
   "metadata": {
    "autoscroll": "json-false",
    "collapsed": false,
    "ein.tags": [
     "worksheet-0"
    ],
    "slideshow": {
     "slide_type": "-"
    }
   },
   "outputs": [],
   "source": []
  },
  {
   "cell_type": "code",
   "execution_count": 0,
   "metadata": {
    "autoscroll": "json-false",
    "collapsed": false,
    "ein.tags": [
     "worksheet-0"
    ],
    "slideshow": {
     "slide_type": "-"
    }
   },
   "outputs": [],
   "source": []
  },
  {
   "cell_type": "code",
   "execution_count": 0,
   "metadata": {
    "autoscroll": "json-false",
    "collapsed": false,
    "ein.tags": [
     "worksheet-0"
    ],
    "slideshow": {
     "slide_type": "-"
    }
   },
   "outputs": [],
   "source": []
  },
  {
   "cell_type": "code",
   "execution_count": 0,
   "metadata": {
    "autoscroll": "json-false",
    "collapsed": false,
    "ein.tags": [
     "worksheet-0"
    ],
    "slideshow": {
     "slide_type": "-"
    }
   },
   "outputs": [],
   "source": []
  },
  {
   "cell_type": "code",
   "execution_count": 0,
   "metadata": {
    "autoscroll": "json-false",
    "collapsed": false,
    "ein.tags": [
     "worksheet-0"
    ],
    "slideshow": {
     "slide_type": "-"
    }
   },
   "outputs": [],
   "source": []
  },
  {
   "cell_type": "code",
   "execution_count": 0,
   "metadata": {
    "autoscroll": "json-false",
    "collapsed": false,
    "ein.tags": [
     "worksheet-0"
    ],
    "slideshow": {
     "slide_type": "-"
    }
   },
   "outputs": [],
   "source": []
  }
 ],
 "metadata": {
  "anaconda-cloud": {},
  "kernelspec": {
   "display_name": "Python 3",
   "name": "python3"
  },
  "language_info": {
   "codemirror_mode": {
    "name": "ipython",
    "version": 3
   },
   "file_extension": ".py",
   "mimetype": "text/x-python",
   "name": "python",
   "nbconvert_exporter": "python",
   "pygments_lexer": "ipython3",
   "version": "3.4.5"
  },
  "name": "import-zhaw-olivenöl-v3.ipynb"
 },
 "nbformat": 4,
 "nbformat_minor": 0
}
