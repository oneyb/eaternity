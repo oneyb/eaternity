{
 "cells": [
  {
   "cell_type": "markdown",
   "metadata": {
    "ein.tags": [
     "worksheet-0"
    ],
    "slideshow": {
     "slide_type": "-"
    }
   },
   "source": [
    "## Import data"
   ]
  },
  {
   "cell_type": "code",
   "execution_count": 7,
   "metadata": {
    "autoscroll": "json-false",
    "collapsed": false,
    "ein.tags": [
     "worksheet-0"
    ],
    "slideshow": {
     "slide_type": "-"
    }
   },
   "outputs": [],
   "source": [
    "from brightway2 import *"
   ]
  },
  {
   "cell_type": "code",
   "execution_count": 8,
   "metadata": {
    "autoscroll": "json-false",
    "collapsed": false,
    "ein.tags": [
     "worksheet-0"
    ],
    "slideshow": {
     "slide_type": "-"
    }
   },
   "outputs": [],
   "source": [
    "projects.set_current('Import Quantis OFP - version 4') "
   ]
  },
  {
   "cell_type": "code",
   "execution_count": 0,
   "metadata": {
    "autoscroll": "json-false",
    "collapsed": false,
    "ein.tags": [
     "worksheet-0"
    ],
    "slideshow": {
     "slide_type": "-"
    }
   },
   "outputs": [
    {
     "name": "stdout",
     "output_type": "stream",
     "text": [
      "Biosphere database already present!!! No setup is needed\n"
     ]
    }
   ],
   "source": [
    "bw2setup()"
   ]
  },
  {
   "cell_type": "markdown",
   "metadata": {
    "ein.tags": [
     "worksheet-0"
    ],
    "slideshow": {
     "slide_type": "-"
    }
   },
   "source": [
    "### Load Quantis data"
   ]
  },
  {
   "cell_type": "markdown",
   "metadata": {
    "ein.tags": [
     "worksheet-0"
    ],
    "slideshow": {
     "slide_type": "-"
    }
   },
   "source": [
    "Das import file wurde wie folgt verändert\n",
    "- Renaming der Systemprozesse: replace /UK S durch SP/UK\n",
    "- Renaming der Unitprozesse: replace /UK U durch UP/UK\n",
    "--> so werden location richtig erkannt (war vorher nicht der Fall)"
   ]
  },
  {
   "cell_type": "code",
   "execution_count": 3,
   "metadata": {
    "autoscroll": "json-false",
    "collapsed": false,
    "ein.tags": [
     "worksheet-0"
    ],
    "slideshow": {
     "slide_type": "-"
    }
   },
   "outputs": [
    {
     "name": "stdout",
     "output_type": "stream",
     "text": [
      "Extracted 294 unallocated datasets in 8.27 seconds\n",
      "294 datasets\n",
      "100893 exchanges\n",
      "100893 unlinked exchanges\n",
      "  Type biosphere: 2923 unique unlinked exchanges\n",
      "  Type production: 403 unique unlinked exchanges\n",
      "  Type technosphere: 621 unique unlinked exchanges\n"
     ]
    },
    {
     "data": {
      "text/plain": [
       "(294, 100893, 100893)"
      ]
     },
     "execution_count": 3,
     "metadata": {},
     "output_type": "execute_result"
    }
   ],
   "source": [
    "# sp2 = SimaProCSVImporter('/Users/ioconnor/Google Drive/Eaternity/Science (SCI)/08. LCA/Quantis/EaternityMeatDatasets_v3_iocN_3.CSV', 'MeatDatasets')\n",
    "sp2 = SimaProCSVImporter('/d/documents/eaternity/data/EaternityMeatDatasets_v3_iocN_3.csv', 'MeatDatasets')\n",
    "sp2.statistics()"
   ]
  },
  {
   "cell_type": "code",
   "execution_count": 5,
   "metadata": {
    "autoscroll": "json-false",
    "collapsed": false,
    "ein.tags": [
     "worksheet-0"
    ],
    "slideshow": {
     "slide_type": "-"
    }
   },
   "outputs": [
    {
     "name": "stdout",
     "output_type": "stream",
     "text": [
      "Applying strategy: migrate_datasets\n",
      "Applying strategy: migrate_exchanges\n",
      "Applying strategy: migrate_datasets\n",
      "Applying strategy: migrate_exchanges\n",
      "Applying strategy: normalize_units\n",
      "Applying strategy: assign_only_product_as_production\n",
      "Applying strategy: drop_unspecified_subcategories\n",
      "Applying strategy: sp_allocate_products\n",
      "Applying strategy: fix_zero_allocation_products\n",
      "Applying strategy: split_simapro_name_geo\n",
      "Applying strategy: strip_biosphere_exc_locations\n",
      "Applying strategy: migrate_datasets\n",
      "Applying strategy: migrate_exchanges\n",
      "Applying strategy: set_code_by_activity_hash\n",
      "Applying strategy: link_technosphere_based_on_name_unit_location\n",
      "Applying strategy: change_electricity_unit_mj_to_kwh\n",
      "Applying strategy: normalize_biosphere_categories\n",
      "Applying strategy: normalize_simapro_biosphere_categories\n",
      "Applying strategy: normalize_biosphere_names\n",
      "Applying strategy: normalize_simapro_biosphere_names\n",
      "Applying strategy: migrate_exchanges\n",
      "Applying strategy: fix_localized_water_flows\n",
      "Applying strategy: link_iterable_by_fields\n",
      "Applied 19 strategies in 8.62 seconds\n"
     ]
    }
   ],
   "source": [
    "sp2.migrate('simapro-ecoinvent-3.3')\n",
    "sp2.migrate('default-units')\n",
    "sp2.apply_strategies()"
   ]
  },
  {
   "cell_type": "markdown",
   "metadata": {
    "ein.tags": [
     "worksheet-0"
    ],
    "slideshow": {
     "slide_type": "-"
    }
   },
   "source": [
    "### Load ecoinvent"
   ]
  },
  {
   "cell_type": "code",
   "execution_count": 6,
   "metadata": {
    "autoscroll": "json-false",
    "collapsed": false,
    "ein.tags": [
     "worksheet-0"
    ],
    "slideshow": {
     "slide_type": "-"
    }
   },
   "outputs": [
    {
     "name": "stdout",
     "output_type": "stream",
     "text": [
      "Extracting XML data from 13831 datasets\n",
      "Extracted 13831 datasets in 76.09 seconds\n"
     ]
    }
   ],
   "source": [
    "# ei2 = SingleOutputEcospold2Importer('/Users/ioconnor/Documents/ecoinvent 3.3/datasets', 'ecoinvent 3.3 cutoff')\n",
    "ei2 = SingleOutputEcospold2Importer('/d/documents/eaternity/data/3.3/datasets', 'ecoinvent 3.3 cutoff')"
   ]
  },
  {
   "cell_type": "code",
   "execution_count": 7,
   "metadata": {
    "autoscroll": "json-false",
    "collapsed": false,
    "ein.tags": [
     "worksheet-0"
    ],
    "slideshow": {
     "slide_type": "-"
    }
   },
   "outputs": [
    {
     "name": "stdout",
     "output_type": "stream",
     "text": [
      "Applying strategy: normalize_units\n",
      "Applying strategy: remove_zero_amount_coproducts\n",
      "Applying strategy: remove_zero_amount_inputs_with_no_activity\n",
      "Applying strategy: remove_unnamed_parameters\n",
      "Applying strategy: es2_assign_only_product_with_amount_as_reference_product\n",
      "Applying strategy: assign_single_product_as_activity\n",
      "Applying strategy: create_composite_code\n",
      "Applying strategy: drop_unspecified_subcategories\n",
      "Applying strategy: link_biosphere_by_flow_uuid\n",
      "Applying strategy: link_internal_technosphere_by_composite_code\n",
      "Applying strategy: delete_exchanges_missing_activity\n",
      "Applying strategy: delete_ghost_exchanges\n",
      "Applying strategy: nuncertainty\n",
      "Applied 13 strategies in 5.88 seconds\n",
      "13831 datasets\n",
      "501148 exchanges\n",
      "0 unlinked exchanges\n",
      "  \n"
     ]
    },
    {
     "data": {
      "text/plain": [
       "(13831, 501148, 0)"
      ]
     },
     "execution_count": 7,
     "metadata": {},
     "output_type": "execute_result"
    }
   ],
   "source": [
    "ei2.apply_strategies()\n",
    "ei2.statistics()"
   ]
  },
  {
   "cell_type": "code",
   "execution_count": 8,
   "metadata": {
    "autoscroll": "json-false",
    "collapsed": false,
    "ein.tags": [
     "worksheet-0"
    ],
    "slideshow": {
     "slide_type": "-"
    }
   },
   "outputs": [
    {
     "name": "stdout",
     "output_type": "stream",
     "text": [
      "Title: Writing activities to SQLite3 database:\n",
      "  Started: 03/16/2017 16:04:03\n",
      "  Finished: 03/16/2017 16:06:36\n",
      "  Total time elapsed: 00:02:33\n",
      "  CPU %: 83.40\n",
      "  Memory %: 15.92\n",
      "Created database: ecoinvent 3.3 cutoff\n",
      "Writing activities to SQLite3 database:\n",
      "0%                          100%\n",
      "[##############################] | ETA: 00:00:00\n",
      "Total time elapsed: 00:02:33\n"
     ]
    },
    {
     "data": {
      "text/plain": [
       "Brightway2 SQLiteBackend: ecoinvent 3.3 cutoff"
      ]
     },
     "execution_count": 8,
     "metadata": {},
     "output_type": "execute_result"
    }
   ],
   "source": [
    "ei2.write_database()"
   ]
  },
  {
   "cell_type": "code",
   "execution_count": 9,
   "metadata": {
    "autoscroll": "json-false",
    "collapsed": false,
    "ein.tags": [
     "worksheet-0"
    ],
    "slideshow": {
     "slide_type": "-"
    }
   },
   "outputs": [],
   "source": [
    "ei2 = None\n",
    "# why not: del ei2?"
   ]
  },
  {
   "cell_type": "code",
   "execution_count": 10,
   "metadata": {
    "autoscroll": "json-false",
    "collapsed": false,
    "ein.tags": [
     "worksheet-0"
    ],
    "slideshow": {
     "slide_type": "-"
    }
   },
   "outputs": [
    {
     "name": "stdout",
     "output_type": "stream",
     "text": [
      "Applying strategy: link_iterable_by_fields\n",
      "Couldn't apply strategy link_iterable_by_fields:\n",
      "\tObject in source database can't be uniquely linked to target database.\n",
      "Problematic dataset is:\n",
      "{'filename': '(missing)',\n",
      " 'location': 'RER',\n",
      " 'name': 'diammonium phosphate production',\n",
      " 'unit': 'kilogram'}\n",
      "Possible targets include (at least one not shown):\n",
      "[{'filename': 'ecd7c263-eab8-4217-8b5c-95c11b094bc3_5321a299-0c03-4bfc-9dda-d020456f6b2e.spold',\n",
      "  'location': 'RER',\n",
      "  'name': 'diammonium phosphate production',\n",
      "  'unit': 'kilogram'}]\n"
     ]
    }
   ],
   "source": [
    "sp2.match_database('ecoinvent 3.3 cutoff', ignore_categories=True)"
   ]
  },
  {
   "cell_type": "code",
   "execution_count": 11,
   "metadata": {
    "autoscroll": "json-false",
    "collapsed": false,
    "ein.tags": [
     "worksheet-0"
    ],
    "slideshow": {
     "slide_type": "-"
    }
   },
   "outputs": [],
   "source": [
    "db = Database('ecoinvent 3.3 cutoff')"
   ]
  },
  {
   "cell_type": "code",
   "execution_count": 12,
   "metadata": {
    "autoscroll": "json-false",
    "collapsed": false,
    "ein.tags": [
     "worksheet-0"
    ],
    "slideshow": {
     "slide_type": "-"
    }
   },
   "outputs": [
    {
     "name": "stdout",
     "output_type": "stream",
     "text": [
      "Applying strategy: link_iterable_by_fields\n",
      "403 datasets\n",
      "101204 exchanges\n",
      "2508 unlinked exchanges\n",
      "  Type biosphere: 192 unique unlinked exchanges\n",
      "  Type technosphere: 26 unique unlinked exchanges\n"
     ]
    },
    {
     "data": {
      "text/plain": [
       "(403, 101204, 2508)"
      ]
     },
     "execution_count": 12,
     "metadata": {},
     "output_type": "execute_result"
    }
   ],
   "source": [
    "import functools\n",
    "from bw2io.strategies import link_iterable_by_fields\n",
    "\n",
    "sp2.apply_strategy(functools.partial(\n",
    "        link_iterable_by_fields, \n",
    "        other=Database('ecoinvent 3.3 cutoff'),\n",
    "        kind='technosphere',\n",
    "        fields=['reference product', 'name', 'unit', 'location']\n",
    "))\n",
    "sp2.statistics()"
   ]
  },
  {
   "cell_type": "code",
   "execution_count": 13,
   "metadata": {
    "autoscroll": "json-false",
    "collapsed": false,
    "ein.tags": [
     "worksheet-0"
    ],
    "slideshow": {
     "slide_type": "-"
    }
   },
   "outputs": [
    {
     "name": "stdout",
     "output_type": "stream",
     "text": [
      "Sugar beet pulp, dried, from pulp drying, at plant Economic/DE kilogram ('Materials/fuels',)\n",
      "Maize gluten meal, consumption mix, at feed compound plant Economic/NL kilogram ('Materials/fuels',)\n",
      "Wheat grain, conventional, national average, animal feed, at farm gate kilogram ('Materials/fuels',)\n",
      "Municipal waste collection service by 21 metric ton lorry {GLO}| market for | Alloc Rec, U ton kilometer ('Electricity/heat',)\n",
      "Sunflower seed meal, consumption mix, at feed compound plant Economic/NL kilogram ('Materials/fuels',)\n",
      "Linseed, at farm Economic/DE kilogram ('Materials/fuels',)\n",
      "Triticale, at farm Economic/DE kilogram ('Materials/fuels',)\n",
      "Waste in incineration kilogram ('Final waste flows',)\n",
      "Waste in inert landfill kilogram ('Final waste flows',)\n",
      "Cathode loss kilogram ('Final waste flows',)\n",
      "Dross kilogram ('Final waste flows',)\n",
      "Dross for recycling kilogram ('Final waste flows',)\n",
      "Aluminium waste kilogram ('Final waste flows',)\n",
      "Cathode iron ingots waste kilogram ('Final waste flows',)\n",
      "Mineral waste, from mining kilogram ('Final waste flows',)\n",
      "Waste in bioactive landfill kilogram ('Final waste flows',)\n",
      "Dust, unspecified kilogram ('Final waste flows',)\n",
      "Oxygen, liquid, at plant SP/RER kilogram ('Materials/fuels',)\n",
      "Electricity, low voltage, at grid SP/DE kilowatt hour ('Materials/fuels',)\n",
      "Light fuel oil, burned in boiler 100kW condensing, non-modulating SP/CH megajoule ('Materials/fuels',)\n",
      "Natural gas, burned in boiler condensing modulating <100kW SP/RER megajoule ('Materials/fuels',)\n",
      "market for transport, passenger car meter ('Materials/fuels',)\n",
      "Wastewater, average {GLO}| market for | Alloc Rec, U cubic meter ('Waste to treatment',)\n",
      "Harvester machine with engine, LT >10,000h production kilogram ('Materials/fuels',)\n",
      "Refined rapeseed oil, from crushing (pressing), at plant Economic/DE kilogram ('Materials/fuels',)\n",
      "Maize gluten meal, from wet milling (gluten drying), at plant Economic/DE kilogram ('Materials/fuels',)\n"
     ]
    }
   ],
   "source": [
    "for i, e in enumerate(sp2.unlinked):\n",
    "    if e['type'] == 'technosphere':\n",
    "        print(e['name'], e['unit'], e['categories'])\n",
    "    if i > 20000:\n",
    "        break"
   ]
  },
  {
   "cell_type": "markdown",
   "metadata": {
    "ein.tags": [
     "worksheet-0"
    ],
    "slideshow": {
     "slide_type": "-"
    }
   },
   "source": [
    "### Load both agribalyse  data sets"
   ]
  },
  {
   "cell_type": "code",
   "execution_count": 14,
   "metadata": {
    "autoscroll": "json-false",
    "collapsed": false,
    "ein.tags": [
     "worksheet-0"
    ],
    "slideshow": {
     "slide_type": "-"
    }
   },
   "outputs": [
    {
     "name": "stdout",
     "output_type": "stream",
     "text": [
      "Extracted 2 unallocated datasets in 0.36 seconds\n",
      "403 datasets\n",
      "101204 exchanges\n",
      "2508 unlinked exchanges\n",
      "  Type biosphere: 192 unique unlinked exchanges\n",
      "  Type technosphere: 26 unique unlinked exchanges\n"
     ]
    },
    {
     "data": {
      "text/plain": [
       "(403, 101204, 2508)"
      ]
     },
     "execution_count": 14,
     "metadata": {},
     "output_type": "execute_result"
    }
   ],
   "source": [
    "# sp = SimaProCSVImporter('/Users/ioconnor/Google Drive/Eaternity/Science (SCI)/08. LCA/Quantis/Harvester&BritishGrain.CSV', 'AGs')\n",
    "sp = SimaProCSVImporter('/d/documents/eaternity/data/Harvester&BritishGrain.CSV', 'AGs')\n",
    "sp2.statistics()"
   ]
  },
  {
   "cell_type": "code",
   "execution_count": 15,
   "metadata": {
    "autoscroll": "json-false",
    "collapsed": false,
    "ein.tags": [
     "worksheet-0"
    ],
    "slideshow": {
     "slide_type": "-"
    }
   },
   "outputs": [
    {
     "name": "stdout",
     "output_type": "stream",
     "text": [
      "Applying strategy: migrate_datasets\n",
      "Applying strategy: migrate_exchanges\n",
      "Applying strategy: migrate_datasets\n",
      "Applying strategy: migrate_exchanges\n",
      "Applying strategy: normalize_units\n",
      "Applying strategy: assign_only_product_as_production\n",
      "Applying strategy: drop_unspecified_subcategories\n",
      "Applying strategy: sp_allocate_products\n",
      "Applying strategy: fix_zero_allocation_products\n",
      "Applying strategy: split_simapro_name_geo\n",
      "Applying strategy: strip_biosphere_exc_locations\n",
      "Applying strategy: migrate_datasets\n",
      "Applying strategy: migrate_exchanges\n",
      "Applying strategy: set_code_by_activity_hash\n",
      "Applying strategy: link_technosphere_based_on_name_unit_location\n",
      "Applying strategy: change_electricity_unit_mj_to_kwh\n",
      "Applying strategy: normalize_biosphere_categories\n",
      "Applying strategy: normalize_simapro_biosphere_categories\n",
      "Applying strategy: normalize_biosphere_names\n",
      "Applying strategy: normalize_simapro_biosphere_names\n",
      "Applying strategy: migrate_exchanges\n",
      "Applying strategy: fix_localized_water_flows\n",
      "Applying strategy: link_iterable_by_fields\n",
      "Applied 19 strategies in 0.85 seconds\n"
     ]
    }
   ],
   "source": [
    "sp.migrate('simapro-ecoinvent-3.3')\n",
    "sp.migrate('default-units')\n",
    "sp.apply_strategies()"
   ]
  },
  {
   "cell_type": "code",
   "execution_count": 16,
   "metadata": {
    "autoscroll": "json-false",
    "collapsed": false,
    "ein.tags": [
     "worksheet-0"
    ],
    "slideshow": {
     "slide_type": "-"
    }
   },
   "outputs": [
    {
     "name": "stdout",
     "output_type": "stream",
     "text": [
      "Applying strategy: link_iterable_by_fields\n"
     ]
    }
   ],
   "source": [
    "sp.match_database('ecoinvent 3.3 cutoff', ignore_categories=True)"
   ]
  },
  {
   "cell_type": "code",
   "execution_count": 17,
   "metadata": {
    "autoscroll": "json-false",
    "collapsed": false,
    "ein.tags": [
     "worksheet-0"
    ],
    "slideshow": {
     "slide_type": "-"
    }
   },
   "outputs": [
    {
     "name": "stdout",
     "output_type": "stream",
     "text": [
      "Applying strategy: link_iterable_by_fields\n",
      "2 datasets\n",
      "4335 exchanges\n",
      "107 unlinked exchanges\n",
      "  Type biosphere: 57 unique unlinked exchanges\n"
     ]
    },
    {
     "data": {
      "text/plain": [
       "(2, 4335, 107)"
      ]
     },
     "execution_count": 17,
     "metadata": {},
     "output_type": "execute_result"
    }
   ],
   "source": [
    "import functools\n",
    "from bw2io.strategies import link_iterable_by_fields\n",
    "\n",
    "sp.apply_strategy(functools.partial(\n",
    "        link_iterable_by_fields, \n",
    "        other=Database('ecoinvent 3.3 cutoff'),\n",
    "        kind='technosphere',\n",
    "        fields=['reference product', 'name', 'unit', 'location']\n",
    "))\n",
    "sp.statistics()"
   ]
  },
  {
   "cell_type": "code",
   "execution_count": 18,
   "metadata": {
    "autoscroll": "json-false",
    "collapsed": false,
    "ein.tags": [
     "worksheet-0"
    ],
    "slideshow": {
     "slide_type": "-"
    }
   },
   "outputs": [
    {
     "name": "stdout",
     "output_type": "stream",
     "text": [
      "Wrote matching file to:\n",
      "/home/oney/.local/share/Brightway3/Import-Quantis-OFP-version-4.ba90a3459a565ec10e14da8d23fa4b2d/output/db-matching-AGs.xlsx\n"
     ]
    }
   ],
   "source": [
    "sp.write_excel()"
   ]
  },
  {
   "cell_type": "markdown",
   "metadata": {
    "ein.tags": [
     "worksheet-0"
    ],
    "slideshow": {
     "slide_type": "-"
    }
   },
   "source": [
    "fix necessary biosphere flows"
   ]
  },
  {
   "cell_type": "markdown",
   "metadata": {
    "ein.tags": [
     "worksheet-0"
    ],
    "slideshow": {
     "slide_type": "-"
    }
   },
   "source": [
    "### fix necessary biosphere flows\n",
    "#### link methane, CO2 (2x),  NO"
   ]
  },
  {
   "cell_type": "markdown",
   "metadata": {
    "ein.tags": [
     "worksheet-0"
    ],
    "slideshow": {
     "slide_type": "-"
    }
   },
   "source": [
    "Meiste ersetzt analog zu Chris script  http://nbviewer.jupyter.org/urls/bitbucket.org/cmutel/brightway2/raw/default/notebooks/IO%20-%20importing%20FORWAST.ipynb.\n",
    "\n",
    "Beim 2ten CO2 bin ich mir nicht sicher ob fossil oder non-fossil gemeint ist. \n",
    "--> ich glaube, non-fossil CO2 hat CF=0? falls ja:\n",
    "-> AGrigalyse UP nachschauen, welches CO2 gemeint ist...\n"
   ]
  },
  {
   "cell_type": "code",
   "execution_count": 19,
   "metadata": {
    "autoscroll": "json-false",
    "collapsed": false,
    "ein.tags": [
     "worksheet-0"
    ],
    "slideshow": {
     "slide_type": "-"
    }
   },
   "outputs": [
    {
     "name": "stdout",
     "output_type": "stream",
     "text": [
      "Copper, Cu 0.2%, in mixed ore kilogram ('natural resource', 'in ground')\n",
      "Gold, Au 1.8E-4%, in mixed ore kilogram ('natural resource', 'in ground')\n",
      "Gold, Au 5.4E-4%, Ag 1.5E-5%, in ore kilogram ('natural resource', 'in ground')\n",
      "Gold, Au 6.8E-4%, Ag 1.5E-4%, in ore kilogram ('natural resource', 'in ground')\n",
      "Gold, Au 9.7E-5%, Ag 7.6E-5%, in ore kilogram ('natural resource', 'in ground')\n",
      "Lead, Pb 3.6E-1%, in mixed ore kilogram ('natural resource', 'in ground')\n",
      "Silver, Ag 1.5E-4%, Au 6.8E-4%, in ore kilogram ('natural resource', 'in ground')\n",
      "Silver, Ag 1.5E-5%, Au 5.4E-4%, in ore kilogram ('natural resource', 'in ground')\n",
      "Silver, Ag 5.4E-3%, in mixed ore kilogram ('natural resource', 'in ground')\n",
      "Silver, Ag 7.6E-5%, Au 9.7E-5%, in ore kilogram ('natural resource', 'in ground')\n",
      "Strontium kilogram ('natural resource', 'in ground')\n",
      "Transformation, from unspecified, natural square meter ('natural resource', 'land')\n",
      "Transformation, to annual crop, fallow square meter ('natural resource', 'land')\n",
      "Water, unspecified natural origin, IAI Area, Africa cubic meter ('natural resource', 'in water')\n",
      "Water, unspecified natural origin, IAI Area, Asia, without China and GCC cubic meter ('natural resource', 'in water')\n",
      "Water, unspecified natural origin, IAI Area, Gulf Cooperation Council cubic meter ('natural resource', 'in water')\n",
      "Water, unspecified natural origin, IAI Area, North America, without Quebec cubic meter ('natural resource', 'in water')\n",
      "Water, unspecified natural origin, IAI Area, Russia & RER w/o EU27 & EFTA cubic meter ('natural resource', 'in water')\n",
      "Water, unspecified natural origin, IAI Area, South America cubic meter ('natural resource', 'in water')\n",
      "Zinc, Zn 3.1%, in mixed ore kilogram ('natural resource', 'in ground')\n",
      "2-Methyl-4-chlorophenoxyacetic acid kilogram ('air', 'non-urban air or from high stacks')\n",
      "2,4-D, dimethylamine salt kilogram ('air', 'non-urban air or from high stacks')\n",
      "Benzo(a)anthracene kilogram ('air',)\n",
      "Butyric acid, 4-(2,4-dichlorophenoxy)- kilogram ('air', 'non-urban air or from high stacks')\n",
      "Carbon dioxide kilogram ('air',)\n",
      "Nitrogen, atmospheric kilogram ('air',)\n",
      "Pentane, 3-methyl- kilogram ('air', 'urban air close to ground')\n",
      "2-Methyl-4-chlorophenoxyacetic acid kilogram ('water', 'ground-')\n",
      "2-Methyl-4-chlorophenoxyacetic acid kilogram ('water', 'surface water')\n",
      "Pyraclostrobin (prop) kilogram ('water', 'ground-')\n",
      "Pyraclostrobin (prop) kilogram ('water', 'surface water')\n",
      "Water, IAI Area, Africa cubic meter ('water',)\n",
      "Water, IAI Area, Africa cubic meter ('water', 'ocean')\n",
      "Water, IAI Area, Africa cubic meter ('water', 'surface water')\n",
      "Water, IAI Area, Asia, without China and GCC cubic meter ('water',)\n",
      "Water, IAI Area, Asia, without China and GCC cubic meter ('water', 'ocean')\n",
      "Water, IAI Area, Asia, without China and GCC cubic meter ('water', 'surface water')\n",
      "Water, IAI Area, Gulf Cooperation Council cubic meter ('water',)\n",
      "Water, IAI Area, Gulf Cooperation Council cubic meter ('water', 'ocean')\n",
      "Water, IAI Area, Gulf Cooperation Council cubic meter ('water', 'surface water')\n",
      "Water, IAI Area, North America, without Quebec cubic meter ('water',)\n",
      "Water, IAI Area, North America, without Quebec cubic meter ('water', 'ocean')\n",
      "Water, IAI Area, North America, without Quebec cubic meter ('water', 'surface water')\n",
      "Water, IAI Area, Russia & RER w/o EU27 & EFTA cubic meter ('water',)\n",
      "Water, IAI Area, Russia & RER w/o EU27 & EFTA cubic meter ('water', 'ocean')\n",
      "Water, IAI Area, Russia & RER w/o EU27 & EFTA cubic meter ('water', 'surface water')\n",
      "Water, IAI Area, South America cubic meter ('water',)\n",
      "Water, IAI Area, South America cubic meter ('water', 'ocean')\n",
      "Water, IAI Area, South America cubic meter ('water', 'surface water')\n",
      "Butyric acid, 4-(2,4-dichlorophenoxy)- kilogram ('soil', 'agricultural')\n",
      "Carbon dioxide, in air kilogram ('natural resource',)\n",
      "Energy, gross calorific value, in biomass megajoule ('natural resource',)\n",
      "Methane kilogram ('air', 'non-urban air or from high stacks')\n",
      "Nitrogen monoxide kilogram ('air', 'non-urban air or from high stacks')\n",
      "Fluoxastrobin kilogram ('soil', 'agricultural')\n",
      "Fungicides, unspecified kilogram ('soil',)\n",
      "Herbicides, unspecified kilogram ('soil',)\n"
     ]
    }
   ],
   "source": [
    "for i, e in enumerate(sp.unlinked):\n",
    "    if e['type'] == 'biosphere':\n",
    "        print(e['name'], e['unit'], e['categories'])\n",
    "    if i > 20000:\n",
    "        break"
   ]
  },
  {
   "cell_type": "code",
   "execution_count": 20,
   "metadata": {
    "autoscroll": "json-false",
    "collapsed": false,
    "ein.tags": [
     "worksheet-0"
    ],
    "slideshow": {
     "slide_type": "-"
    }
   },
   "outputs": [],
   "source": [
    "bp=Database('biosphere3')"
   ]
  },
  {
   "cell_type": "code",
   "execution_count": 21,
   "metadata": {
    "autoscroll": "json-false",
    "collapsed": false,
    "ein.tags": [
     "worksheet-0"
    ],
    "slideshow": {
     "slide_type": "-"
    }
   },
   "outputs": [
    {
     "data": {
      "text/plain": [
       "['Carbon dioxide, fossil' (kilogram, None, ('air', 'urban air close to ground')),\n 'Carbon dioxide, fossil' (kilogram, None, ('air',)),\n 'Carbon dioxide, in air' (kilogram, None, ('natural resource', 'in air')),\n 'Carbon dioxide, fossil' (kilogram, None, ('air', 'non-urban air or from high stacks')),\n 'Carbon dioxide, fossil' (kilogram, None, ('air', 'lower stratosphere + upper troposphere')),\n 'Carbon dioxide, fossil' (kilogram, None, ('air', 'low population density, long-term')),\n 'Carbon dioxide, non-fossil' (kilogram, None, ('air', 'urban air close to ground')),\n 'Carbon dioxide, non-fossil' (kilogram, None, ('air', 'low population density, long-term')),\n 'Carbon dioxide, non-fossil' (kilogram, None, ('air', 'lower stratosphere + upper troposphere')),\n 'Carbon dioxide, non-fossil' (kilogram, None, ('air',)),\n 'Carbon dioxide, non-fossil' (kilogram, None, ('air', 'non-urban air or from high stacks')),\n 'Carbon dioxide, from soil or biomass stock' (kilogram, None, ('air', 'indoor')),\n 'Carbon dioxide, from soil or biomass stock' (kilogram, None, ('air', 'urban air close to ground')),\n 'Carbon dioxide, from soil or biomass stock' (kilogram, None, ('air',)),\n 'Carbon dioxide, to soil or biomass stock' (kilogram, None, ('soil',)),\n 'Carbon dioxide, to soil or biomass stock' (kilogram, None, ('soil', 'forestry')),\n 'Carbon dioxide, non-fossil, from calcination' (kilogram, None, ['air']),\n 'Carbon dioxide, from soil or biomass stock' (kilogram, None, ('air', 'non-urban air or from high stacks')),\n 'Carbon dioxide, from soil or biomass stock' (kilogram, None, ('air', 'lower stratosphere + upper troposphere')),\n 'Carbon dioxide, to soil or biomass stock' (kilogram, None, ('soil', 'industrial')),\n 'Carbon dioxide, from soil or biomass stock' (kilogram, None, ('air', 'low population density, long-term')),\n 'Carbon dioxide, to soil or biomass stock' (kilogram, None, ('soil', 'agricultural'))]"
      ]
     },
     "execution_count": 21,
     "metadata": {},
     "output_type": "execute_result"
    }
   ],
   "source": [
    "bp.search('carbon dioxide ')"
   ]
  },
  {
   "cell_type": "code",
   "execution_count": 22,
   "metadata": {
    "autoscroll": "json-false",
    "collapsed": false,
    "ein.tags": [
     "worksheet-0"
    ],
    "slideshow": {
     "slide_type": "-"
    }
   },
   "outputs": [],
   "source": [
    "migration_data_bioM = {\n",
    "    'fields': ['name','categories','type','unit'],\n",
    "    'data': [\n",
    "        (\n",
    "            # First element is input data in the order of `fields` above\n",
    "            ('Methane',('air',), 'biosphere', 'kilogram'),\n",
    "            # Second element is new values \n",
    "            { \n",
    "                'name': 'Methane, fossil',              \n",
    "            }\n",
    "        ),\n",
    "        (\n",
    "            \n",
    "            ('Carbon dioxide, in air',('natural resource',), 'biosphere', 'kilogram'),\n",
    "            \n",
    "            { \n",
    "                'categories': ('natural resource', 'in air',),              \n",
    "            }\n",
    "        ),\n",
    "        (\n",
    "            # Achtung: nicht sicher ob mit fossil oder non-fossil ersetzen->check CF!!\n",
    "            ('Carbon dioxide',('air',), 'biosphere', 'kilogram'),\n",
    "            \n",
    "            { \n",
    "                'name': 'Carbon dioxide, fossil',               \n",
    "            }\n",
    "        ),\n",
    "        (\n",
    "            \n",
    "            ('Nitrogen monoxide',('air', 'non-urban air or from high stacks'), 'biosphere', 'kilogram'),\n",
    "            \n",
    "            { \n",
    "                'name': 'Nitrogen oxides',              \n",
    "            }\n",
    "        ) \n",
    "    ]\n",
    "}\n",
    "\n",
    "Migration('new-ecoinvent-bioM').write(\n",
    "    migration_data_bioM, \n",
    "    description='New datasets in ecoinvent 3.3'\n",
    ")"
   ]
  },
  {
   "cell_type": "code",
   "execution_count": 23,
   "metadata": {
    "autoscroll": "json-false",
    "collapsed": false,
    "ein.tags": [
     "worksheet-0"
    ],
    "slideshow": {
     "slide_type": "-"
    }
   },
   "outputs": [
    {
     "name": "stdout",
     "output_type": "stream",
     "text": [
      "Applying strategy: migrate_datasets\n",
      "Applying strategy: migrate_exchanges\n",
      "Applying strategy: normalize_units\n",
      "Applying strategy: assign_only_product_as_production\n",
      "Applying strategy: drop_unspecified_subcategories\n",
      "Applying strategy: sp_allocate_products\n",
      "Applying strategy: fix_zero_allocation_products\n",
      "Applying strategy: split_simapro_name_geo\n",
      "Applying strategy: strip_biosphere_exc_locations\n",
      "Applying strategy: migrate_datasets\n",
      "Applying strategy: migrate_exchanges\n",
      "Applying strategy: set_code_by_activity_hash\n",
      "Applying strategy: link_technosphere_based_on_name_unit_location\n",
      "Applying strategy: change_electricity_unit_mj_to_kwh\n",
      "Applying strategy: normalize_biosphere_categories\n",
      "Applying strategy: normalize_simapro_biosphere_categories\n",
      "Applying strategy: normalize_biosphere_names\n",
      "Applying strategy: normalize_simapro_biosphere_names\n",
      "Applying strategy: migrate_exchanges\n",
      "Applying strategy: fix_localized_water_flows\n",
      "Applying strategy: link_iterable_by_fields\n",
      "Applied 19 strategies in 0.76 seconds\n",
      "2 datasets\n",
      "4335 exchanges\n",
      "103 unlinked exchanges\n",
      "  Type biosphere: 54 unique unlinked exchanges\n"
     ]
    },
    {
     "data": {
      "text/plain": [
       "(2, 4335, 103)"
      ]
     },
     "execution_count": 23,
     "metadata": {},
     "output_type": "execute_result"
    }
   ],
   "source": [
    "sp.migrate('new-ecoinvent-bioM')\n",
    "sp.apply_strategies()\n",
    "sp.statistics()"
   ]
  },
  {
   "cell_type": "code",
   "execution_count": 24,
   "metadata": {
    "autoscroll": "json-false",
    "collapsed": false,
    "ein.tags": [
     "worksheet-0"
    ],
    "slideshow": {
     "slide_type": "-"
    }
   },
   "outputs": [
    {
     "name": "stdout",
     "output_type": "stream",
     "text": [
      "Wrote matching file to:\n",
      "/home/oney/.local/share/Brightway3/Import-Quantis-OFP-version-4.ba90a3459a565ec10e14da8d23fa4b2d/output/db-matching-AGs.xlsx\n"
     ]
    }
   ],
   "source": [
    "sp.write_excel()"
   ]
  },
  {
   "cell_type": "markdown",
   "metadata": {
    "ein.tags": [
     "worksheet-0"
    ],
    "slideshow": {
     "slide_type": "-"
    }
   },
   "source": [
    "the remaining unlinked biopshere exchanges can be dropped for the moment (only interested in GWP)"
   ]
  },
  {
   "cell_type": "code",
   "execution_count": 25,
   "metadata": {
    "autoscroll": "json-false",
    "collapsed": false,
    "ein.tags": [
     "worksheet-0"
    ],
    "slideshow": {
     "slide_type": "-"
    }
   },
   "outputs": [
    {
     "name": "stdout",
     "output_type": "stream",
     "text": [
      "Applying strategy: drop_unlinked\n",
      "Applied 1 strategies in 0.01 seconds\n"
     ]
    }
   ],
   "source": [
    "sp.drop_unlinked(i_am_reckless=True)"
   ]
  },
  {
   "cell_type": "code",
   "execution_count": 26,
   "metadata": {
    "autoscroll": "json-false",
    "collapsed": false,
    "ein.tags": [
     "worksheet-0"
    ],
    "slideshow": {
     "slide_type": "-"
    }
   },
   "outputs": [
    {
     "name": "stdout",
     "output_type": "stream",
     "text": [
      "Applying strategy: link_iterable_by_fields\n"
     ]
    }
   ],
   "source": [
    "sp.match_database('ecoinvent 3.3 cutoff', ignore_categories=True)"
   ]
  },
  {
   "cell_type": "code",
   "execution_count": 27,
   "metadata": {
    "autoscroll": "json-false",
    "collapsed": false,
    "ein.tags": [
     "worksheet-0"
    ],
    "slideshow": {
     "slide_type": "-"
    }
   },
   "outputs": [
    {
     "name": "stdout",
     "output_type": "stream",
     "text": [
      "2 datasets\n",
      "4232 exchanges\n",
      "0 unlinked exchanges\n",
      "  \n"
     ]
    },
    {
     "data": {
      "text/plain": [
       "(2, 4232, 0)"
      ]
     },
     "execution_count": 27,
     "metadata": {},
     "output_type": "execute_result"
    }
   ],
   "source": [
    "sp.statistics()"
   ]
  },
  {
   "cell_type": "code",
   "execution_count": 28,
   "metadata": {
    "autoscroll": "json-false",
    "collapsed": false,
    "ein.tags": [
     "worksheet-0"
    ],
    "slideshow": {
     "slide_type": "-"
    }
   },
   "outputs": [
    {
     "name": "stdout",
     "output_type": "stream",
     "text": [
      "Title: Writing activities to SQLite3 database:\n",
      "  Started: 03/16/2017 16:09:38\n",
      "  Finished: 03/16/2017 16:09:40\n",
      "  Total time elapsed: 00:00:01\n",
      "  CPU %: 65.20\n",
      "  Memory %: 14.67\n",
      "Created database: AGs\n",
      "Writing activities to SQLite3 database:\n",
      "0%  100%\n",
      "[##] | ETA: 00:00:00\n",
      "Total time elapsed: 00:00:01\n"
     ]
    }
   ],
   "source": [
    "ag=sp.write_database()"
   ]
  },
  {
   "cell_type": "code",
   "execution_count": 29,
   "metadata": {
    "autoscroll": "json-false",
    "collapsed": false,
    "ein.tags": [
     "worksheet-0"
    ],
    "slideshow": {
     "slide_type": "-"
    }
   },
   "outputs": [
    {
     "data": {
      "text/plain": [
       "Brightway2 SQLiteBackend: AGs"
      ]
     },
     "execution_count": 29,
     "metadata": {},
     "output_type": "execute_result"
    }
   ],
   "source": [
    "ag"
   ]
  },
  {
   "cell_type": "markdown",
   "metadata": {
    "ein.tags": [
     "worksheet-0"
    ],
    "slideshow": {
     "slide_type": "-"
    }
   },
   "source": [
    "## Solve unlinked exchanges"
   ]
  },
  {
   "cell_type": "code",
   "execution_count": 30,
   "metadata": {
    "autoscroll": "json-false",
    "collapsed": false,
    "ein.tags": [
     "worksheet-0"
    ],
    "slideshow": {
     "slide_type": "-"
    }
   },
   "outputs": [
    {
     "name": "stdout",
     "output_type": "stream",
     "text": [
      "403 datasets\n",
      "101204 exchanges\n",
      "2508 unlinked exchanges\n",
      "  Type biosphere: 192 unique unlinked exchanges\n",
      "  Type technosphere: 26 unique unlinked exchanges\n"
     ]
    },
    {
     "data": {
      "text/plain": [
       "(403, 101204, 2508)"
      ]
     },
     "execution_count": 30,
     "metadata": {},
     "output_type": "execute_result"
    }
   ],
   "source": [
    "sp2.statistics()"
   ]
  },
  {
   "cell_type": "code",
   "execution_count": 31,
   "metadata": {
    "autoscroll": "json-false",
    "collapsed": false,
    "ein.tags": [
     "worksheet-0"
    ],
    "slideshow": {
     "slide_type": "-"
    }
   },
   "outputs": [
    {
     "name": "stdout",
     "output_type": "stream",
     "text": [
      "Sugar beet pulp, dried, from pulp drying, at plant Economic/DE kilogram ('Materials/fuels',)\n",
      "Maize gluten meal, consumption mix, at feed compound plant Economic/NL kilogram ('Materials/fuels',)\n",
      "Wheat grain, conventional, national average, animal feed, at farm gate kilogram ('Materials/fuels',)\n",
      "Municipal waste collection service by 21 metric ton lorry {GLO}| market for | Alloc Rec, U ton kilometer ('Electricity/heat',)\n",
      "Sunflower seed meal, consumption mix, at feed compound plant Economic/NL kilogram ('Materials/fuels',)\n",
      "Linseed, at farm Economic/DE kilogram ('Materials/fuels',)\n",
      "Triticale, at farm Economic/DE kilogram ('Materials/fuels',)\n",
      "Waste in incineration kilogram ('Final waste flows',)\n",
      "Waste in inert landfill kilogram ('Final waste flows',)\n",
      "Cathode loss kilogram ('Final waste flows',)\n",
      "Dross kilogram ('Final waste flows',)\n",
      "Dross for recycling kilogram ('Final waste flows',)\n",
      "Aluminium waste kilogram ('Final waste flows',)\n",
      "Cathode iron ingots waste kilogram ('Final waste flows',)\n",
      "Mineral waste, from mining kilogram ('Final waste flows',)\n",
      "Waste in bioactive landfill kilogram ('Final waste flows',)\n",
      "Dust, unspecified kilogram ('Final waste flows',)\n",
      "Oxygen, liquid, at plant SP/RER kilogram ('Materials/fuels',)\n",
      "Electricity, low voltage, at grid SP/DE kilowatt hour ('Materials/fuels',)\n",
      "Light fuel oil, burned in boiler 100kW condensing, non-modulating SP/CH megajoule ('Materials/fuels',)\n",
      "Natural gas, burned in boiler condensing modulating <100kW SP/RER megajoule ('Materials/fuels',)\n",
      "market for transport, passenger car meter ('Materials/fuels',)\n",
      "Wastewater, average {GLO}| market for | Alloc Rec, U cubic meter ('Waste to treatment',)\n",
      "Harvester machine with engine, LT >10,000h production kilogram ('Materials/fuels',)\n",
      "Refined rapeseed oil, from crushing (pressing), at plant Economic/DE kilogram ('Materials/fuels',)\n",
      "Maize gluten meal, from wet milling (gluten drying), at plant Economic/DE kilogram ('Materials/fuels',)\n"
     ]
    }
   ],
   "source": [
    "for i, e in enumerate(sp2.unlinked):\n",
    "    if e['type'] == 'technosphere':\n",
    "        print(e['name'], e['unit'], e['categories'])\n",
    "    if i > 20000:\n",
    "        break"
   ]
  },
  {
   "cell_type": "code",
   "execution_count": 32,
   "metadata": {
    "autoscroll": "json-false",
    "collapsed": false,
    "ein.tags": [
     "worksheet-0"
    ],
    "slideshow": {
     "slide_type": "-"
    }
   },
   "outputs": [
    {
     "data": {
      "text/plain": [
       "['market for wastewater, average' (cubic meter, Europe without Switzerland, None),\n 'market for wastewater, average' (cubic meter, CH, None),\n 'market for wastewater, average' (cubic meter, RoW, None),\n 'primary lead production from concentrate' (kilogram, GLO, None),\n 'primary lead production from concentrate' (kilogram, GLO, None),\n 'primary lead production from concentrate' (kilogram, GLO, None)]"
      ]
     },
     "execution_count": 32,
     "metadata": {},
     "output_type": "execute_result"
    }
   ],
   "source": [
    "db.search('wastewater average market')"
   ]
  },
  {
   "cell_type": "code",
   "execution_count": 33,
   "metadata": {
    "autoscroll": "json-false",
    "collapsed": false,
    "ein.tags": [
     "worksheet-0"
    ],
    "slideshow": {
     "slide_type": "-"
    }
   },
   "outputs": [],
   "source": [
    "migration_data_wwav = {\n",
    "    'fields': ['name'],\n",
    "    'data': [\n",
    "        (\n",
    "            # First element is input data in the order of `fields` above\n",
    "            ('Wastewater, average {GLO}| market for | Alloc Rec, U',),\n",
    "            # Second element is new values \n",
    "            { \n",
    "                'name': 'market for wastewater, average',\n",
    "                'location': 'Europe without Switzerland',\n",
    "            }\n",
    "        ),\n",
    "        (\n",
    "            # First element is input data in the order of `fields` above\n",
    "            ('Municipal waste collection service by 21 metric ton lorry {GLO}| market for | Alloc Rec, U',),\n",
    "            # Second element is new values \n",
    "            { \n",
    "                'name': 'market for municipal waste collection service by 21 metric ton lorry',\n",
    "                'location': 'RoW',\n",
    "            }\n",
    "        ),\n",
    "        (\n",
    "            # First element is input data in the order of `fields` above\n",
    "            ('Electricity, low voltage, at grid SP/DE',),\n",
    "            # Second element is new values \n",
    "            { \n",
    "                'name': 'market for electricity, low voltage',\n",
    "                'location': 'DE',\n",
    "            }\n",
    "        ),\n",
    "        (\n",
    "            # First element is input data in the order of `fields` above\n",
    "            ('Light fuel oil, burned in boiler 100kW condensing, non-modulating SP/CH',),\n",
    "            # Second element is new values \n",
    "            { \n",
    "                'name': 'heat production, light fuel oil, at boiler 100kW condensing, non-modulating',\n",
    "                'location': 'Europe without Switzerland',\n",
    "            }\n",
    "        ),\n",
    "        (\n",
    "            # First element is input data in the order of `fields` above \n",
    "            ('market for transport, passenger car','meter',),\n",
    "            # Second element is new values \n",
    "            {\n",
    "                'name': 'market for transport, passenger car',\n",
    "                'reference product': 'transport, passenger car',\n",
    "                'unit': 'kilometer',\n",
    "                'multiplier': 1e-3\n",
    "                \n",
    "            }\n",
    "        ),\n",
    "        (\n",
    "            # First element is input data in the order of `fields` above\n",
    "            ('Natural gas, burned in boiler condensing modulating <100kW SP/RER',),\n",
    "            # Second element is new values \n",
    "            { \n",
    "                'name': 'heat production, natural gas, at boiler condensing modulating <100kW',\n",
    "                'location': 'Europe without Switzerland',\n",
    "            }\n",
    "        ),\n",
    "        (\n",
    "            # First element is input data in the order of `fields` above\n",
    "            ('Oxygen, liquid, at plant SP/RER',('Materials/fuels',)),\n",
    "            # Second element is new values \n",
    "            { \n",
    "                'name': 'market for oxygen, liquid',\n",
    "                'location': 'RER',\n",
    "            }\n",
    "        )\n",
    "    ]\n",
    "}\n",
    "\n",
    "Migration('new-ecoinvent-wwav').write(\n",
    "    migration_data_wwav, \n",
    "    description='New datasets in ecoinvent 3.3'\n",
    ")"
   ]
  },
  {
   "cell_type": "code",
   "execution_count": 34,
   "metadata": {
    "autoscroll": "json-false",
    "collapsed": false,
    "ein.tags": [
     "worksheet-0"
    ],
    "slideshow": {
     "slide_type": "-"
    }
   },
   "outputs": [
    {
     "name": "stdout",
     "output_type": "stream",
     "text": [
      "Applying strategy: migrate_datasets\n",
      "Applying strategy: migrate_exchanges\n",
      "Applying strategy: link_iterable_by_fields\n",
      "403 datasets\n",
      "101204 exchanges\n",
      "2488 unlinked exchanges\n",
      "  Type biosphere: 192 unique unlinked exchanges\n",
      "  Type technosphere: 19 unique unlinked exchanges\n"
     ]
    },
    {
     "data": {
      "text/plain": [
       "(403, 101204, 2488)"
      ]
     },
     "execution_count": 34,
     "metadata": {},
     "output_type": "execute_result"
    }
   ],
   "source": [
    "sp2.migrate('new-ecoinvent-wwav')\n",
    "sp2.match_database('ecoinvent 3.3 cutoff',ignore_categories=True)\n",
    "sp2.statistics()"
   ]
  },
  {
   "cell_type": "code",
   "execution_count": 35,
   "metadata": {
    "autoscroll": "json-false",
    "collapsed": false,
    "ein.tags": [
     "worksheet-0"
    ],
    "slideshow": {
     "slide_type": "-"
    }
   },
   "outputs": [
    {
     "name": "stdout",
     "output_type": "stream",
     "text": [
      "Wrote matching file to:\n",
      "/home/oney/.local/share/Brightway3/Import-Quantis-OFP-version-4.ba90a3459a565ec10e14da8d23fa4b2d/output/db-matching-MeatDatasets.xlsx\n"
     ]
    }
   ],
   "source": [
    "sp2.write_excel()"
   ]
  },
  {
   "cell_type": "markdown",
   "metadata": {
    "ein.tags": [
     "worksheet-0"
    ],
    "slideshow": {
     "slide_type": "-"
    }
   },
   "source": []
  },
  {
   "cell_type": "code",
   "execution_count": 0,
   "metadata": {
    "autoscroll": "json-false",
    "collapsed": false,
    "ein.tags": [
     "worksheet-0"
    ],
    "slideshow": {
     "slide_type": "-"
    }
   },
   "outputs": [],
   "source": []
  },
  {
   "cell_type": "code",
   "execution_count": 0,
   "metadata": {
    "autoscroll": "json-false",
    "collapsed": false,
    "ein.tags": [
     "worksheet-0"
    ],
    "slideshow": {
     "slide_type": "-"
    }
   },
   "outputs": [],
   "source": []
  },
  {
   "cell_type": "code",
   "execution_count": 0,
   "metadata": {
    "autoscroll": "json-false",
    "collapsed": false,
    "ein.tags": [
     "worksheet-0"
    ],
    "slideshow": {
     "slide_type": "-"
    }
   },
   "outputs": [],
   "source": []
  },
  {
   "cell_type": "markdown",
   "metadata": {
    "ein.tags": [
     "worksheet-0"
    ],
    "slideshow": {
     "slide_type": "-"
    }
   },
   "source": [
    "#### link wheat agri"
   ]
  },
  {
   "cell_type": "markdown",
   "metadata": {
    "ein.tags": [
     "worksheet-0"
    ],
    "slideshow": {
     "slide_type": "-"
    }
   },
   "source": [
    "irgendwie wird so der harvester aus ag auch automatisch verlinkt"
   ]
  },
  {
   "cell_type": "code",
   "execution_count": 36,
   "metadata": {
    "autoscroll": "json-false",
    "collapsed": false,
    "ein.tags": [
     "worksheet-0"
    ],
    "slideshow": {
     "slide_type": "-"
    }
   },
   "outputs": [
    {
     "data": {
      "text/plain": [
       "['Wheat grain, conventional, national average, animal feed, at farm gate' (kilogram, GB, None)]"
      ]
     },
     "execution_count": 36,
     "metadata": {},
     "output_type": "execute_result"
    }
   ],
   "source": [
    "ag.search('wheat')"
   ]
  },
  {
   "cell_type": "code",
   "execution_count": 37,
   "metadata": {
    "autoscroll": "json-false",
    "collapsed": false,
    "ein.tags": [
     "worksheet-0"
    ],
    "slideshow": {
     "slide_type": "-"
    }
   },
   "outputs": [],
   "source": [
    "migration_data_whAG = {\n",
    "    'fields': ['name',],\n",
    "    'data': [\n",
    "        (\n",
    "            # First element is input data in the order of `fields` above\n",
    "            ('Wheat grain, conventional, national average, animal feed, at farm gate',),\n",
    "            # Second element is new values \n",
    "            { \n",
    "                'name': 'Wheat grain, conventional, national average, animal feed, at farm gate',\n",
    "            }\n",
    "        )\n",
    "    ]\n",
    "}\n",
    "\n",
    "Migration('new-ecoinvent-whAG').write(\n",
    "    migration_data_whAG, \n",
    "    description='New datasets in ecoinvent 3.3'\n",
    ")"
   ]
  },
  {
   "cell_type": "code",
   "execution_count": 38,
   "metadata": {
    "autoscroll": "json-false",
    "collapsed": false,
    "ein.tags": [
     "worksheet-0"
    ],
    "slideshow": {
     "slide_type": "-"
    }
   },
   "outputs": [
    {
     "name": "stdout",
     "output_type": "stream",
     "text": [
      "Applying strategy: migrate_datasets\n",
      "Applying strategy: migrate_exchanges\n",
      "Applying strategy: link_iterable_by_fields\n",
      "403 datasets\n",
      "101204 exchanges\n",
      "2479 unlinked exchanges\n",
      "  Type biosphere: 192 unique unlinked exchanges\n",
      "  Type technosphere: 17 unique unlinked exchanges\n"
     ]
    },
    {
     "data": {
      "text/plain": [
       "(403, 101204, 2479)"
      ]
     },
     "execution_count": 38,
     "metadata": {},
     "output_type": "execute_result"
    }
   ],
   "source": [
    "sp2.migrate('new-ecoinvent-whAG')\n",
    "sp2.match_database('AGs',ignore_categories=True)\n",
    "sp2.statistics()"
   ]
  },
  {
   "cell_type": "code",
   "execution_count": 39,
   "metadata": {
    "autoscroll": "json-false",
    "collapsed": false,
    "ein.tags": [
     "worksheet-0"
    ],
    "slideshow": {
     "slide_type": "-"
    }
   },
   "outputs": [
    {
     "name": "stdout",
     "output_type": "stream",
     "text": [
      "Sugar beet pulp, dried, from pulp drying, at plant Economic/DE kilogram ('Materials/fuels',)\n",
      "Maize gluten meal, consumption mix, at feed compound plant Economic/NL kilogram ('Materials/fuels',)\n",
      "Sunflower seed meal, consumption mix, at feed compound plant Economic/NL kilogram ('Materials/fuels',)\n",
      "Linseed, at farm Economic/DE kilogram ('Materials/fuels',)\n",
      "Triticale, at farm Economic/DE kilogram ('Materials/fuels',)\n",
      "Waste in incineration kilogram ('Final waste flows',)\n",
      "Waste in inert landfill kilogram ('Final waste flows',)\n",
      "Cathode loss kilogram ('Final waste flows',)\n",
      "Dross kilogram ('Final waste flows',)\n",
      "Dross for recycling kilogram ('Final waste flows',)\n",
      "Aluminium waste kilogram ('Final waste flows',)\n",
      "Cathode iron ingots waste kilogram ('Final waste flows',)\n",
      "Mineral waste, from mining kilogram ('Final waste flows',)\n",
      "Waste in bioactive landfill kilogram ('Final waste flows',)\n",
      "Dust, unspecified kilogram ('Final waste flows',)\n",
      "Refined rapeseed oil, from crushing (pressing), at plant Economic/DE kilogram ('Materials/fuels',)\n",
      "Maize gluten meal, from wet milling (gluten drying), at plant Economic/DE kilogram ('Materials/fuels',)\n"
     ]
    }
   ],
   "source": [
    "for i, e in enumerate(sp2.unlinked):\n",
    "    if e['type'] == 'technosphere':\n",
    "        print(e['name'], e['unit'], e['categories'])\n",
    "    if i > 20000:\n",
    "        break"
   ]
  },
  {
   "cell_type": "code",
   "execution_count": 40,
   "metadata": {
    "autoscroll": "json-false",
    "collapsed": false,
    "ein.tags": [
     "worksheet-0"
    ],
    "slideshow": {
     "slide_type": "-"
    }
   },
   "outputs": [
    {
     "name": "stdout",
     "output_type": "stream",
     "text": [
      "Wrote matching file to:\n",
      "/home/oney/.local/share/Brightway3/Import-Quantis-OFP-version-4.ba90a3459a565ec10e14da8d23fa4b2d/output/db-matching-MeatDatasets.xlsx\n"
     ]
    }
   ],
   "source": [
    "sp2.write_excel()"
   ]
  },
  {
   "cell_type": "markdown",
   "metadata": {
    "ein.tags": [
     "worksheet-0"
    ],
    "slideshow": {
     "slide_type": "-"
    }
   },
   "source": [
    "## replace blonks data"
   ]
  },
  {
   "cell_type": "markdown",
   "metadata": {
    "ein.tags": [
     "worksheet-0"
    ],
    "slideshow": {
     "slide_type": "-"
    }
   },
   "source": [
    "#### Used by Raphael: refined rape oil "
   ]
  },
  {
   "cell_type": "markdown",
   "metadata": {
    "ein.tags": [
     "worksheet-0"
    ],
    "slideshow": {
     "slide_type": "-"
    }
   },
   "source": [
    "datensatz ist doppelt.  Einer haben wir im file selber umbenannt zu rape oil mill operation4. \n",
    "Aufgrund des final GWP scheint es so zu sein, dass der ohne 4 der richtige ist."
   ]
  },
  {
   "cell_type": "code",
   "execution_count": 41,
   "metadata": {
    "autoscroll": "json-false",
    "collapsed": false,
    "ein.tags": [
     "worksheet-0"
    ],
    "slideshow": {
     "slide_type": "-"
    }
   },
   "outputs": [
    {
     "data": {
      "text/plain": [
       "['rape oil mill operation' (kilogram, Europe without Switzerland, None),\n 'rape oil mill operation' (kilogram, RoW, None),\n 'rape oil mill operation' (kilogram, CH, None),\n 'rape oil mill operation' (kilogram, Europe without Switzerland, None),\n 'rape oil mill operation' (kilogram, RoW, None),\n 'rape oil mill operation' (kilogram, CH, None),\n 'cottonseed oil mill operation' (kilogram, GLO, None),\n 'cottonseed oil mill operation' (kilogram, GLO, None)]"
      ]
     },
     "execution_count": 41,
     "metadata": {},
     "output_type": "execute_result"
    }
   ],
   "source": [
    "db.search('rape oil mill operation')"
   ]
  },
  {
   "cell_type": "code",
   "execution_count": 42,
   "metadata": {
    "autoscroll": "json-false",
    "collapsed": false,
    "ein.tags": [
     "worksheet-0"
    ],
    "slideshow": {
     "slide_type": "-"
    }
   },
   "outputs": [],
   "source": [
    "migration_data_rap = {\n",
    "    'fields': ['name','categories'],\n",
    "    'data': [\n",
    "        (\n",
    "            # First element is input data in the order of `fields` above\n",
    "            ('Refined rapeseed oil, from crushing (pressing), at plant Economic/DE',('Materials/fuels',)),\n",
    "            # Second element is new values \n",
    "            { \n",
    "                'name': 'rape oil mill operation',\n",
    "                'reference product':'rape oil, crude',\n",
    "                'unit':'kilogram',\n",
    "                'location': 'Europe without Switzerland',\n",
    "                \n",
    "            }\n",
    "        )\n",
    "    ]\n",
    "}\n",
    "\n",
    "Migration('new-ecoinvent_rap').write(\n",
    "    migration_data_rap, \n",
    "    description='New datasets in ecoinvent 3.3'\n",
    ")"
   ]
  },
  {
   "cell_type": "code",
   "execution_count": 43,
   "metadata": {
    "autoscroll": "json-false",
    "collapsed": false,
    "ein.tags": [
     "worksheet-0"
    ],
    "slideshow": {
     "slide_type": "-"
    }
   },
   "outputs": [
    {
     "name": "stdout",
     "output_type": "stream",
     "text": [
      "Applying strategy: migrate_datasets\n",
      "Applying strategy: migrate_exchanges\n",
      "Applying strategy: link_iterable_by_fields\n",
      "Couldn't apply strategy link_iterable_by_fields:\n",
      "\tObject in source database can't be uniquely linked to target database.\n",
      "Problematic dataset is:\n",
      "{'filename': '(missing)',\n",
      " 'location': 'Europe without Switzerland',\n",
      " 'name': 'rape oil mill operation',\n",
      " 'unit': 'kilogram'}\n",
      "Possible targets include (at least one not shown):\n",
      "[{'filename': 'b5810020-570c-4d70-a208-c28f4048a4bb_3719fbf0-0ae5-4e1d-9668-e5f2cecf9a43.spold',\n",
      "  'location': 'Europe without Switzerland',\n",
      "  'name': 'rape oil mill operation',\n",
      "  'unit': 'kilogram'}]\n",
      "403 datasets\n",
      "101204 exchanges\n",
      "2479 unlinked exchanges\n",
      "  Type biosphere: 192 unique unlinked exchanges\n",
      "  Type technosphere: 17 unique unlinked exchanges\n"
     ]
    },
    {
     "data": {
      "text/plain": [
       "(403, 101204, 2479)"
      ]
     },
     "execution_count": 43,
     "metadata": {},
     "output_type": "execute_result"
    }
   ],
   "source": [
    "sp2.migrate('new-ecoinvent_rap')\n",
    "sp2.match_database('ecoinvent 3.3 cutoff',ignore_categories=True)\n",
    "sp2.statistics()"
   ]
  },
  {
   "cell_type": "markdown",
   "metadata": {
    "ein.tags": [
     "worksheet-0"
    ],
    "slideshow": {
     "slide_type": "-"
    }
   },
   "source": [
    "#### Used by Raphael:  Maize gluten meal, from wet milling"
   ]
  },
  {
   "cell_type": "code",
   "execution_count": 44,
   "metadata": {
    "autoscroll": "json-false",
    "collapsed": false,
    "ein.tags": [
     "worksheet-0"
    ],
    "slideshow": {
     "slide_type": "-"
    }
   },
   "outputs": [
    {
     "data": {
      "text/plain": [
       "['maize grain, feed production, organic' (kilogram, CH, None),\n 'market for maize grain, feed, organic' (kilogram, GLO, None),\n 'maize grain, feed production, organic' (kilogram, RoW, None),\n 'maize grain, feed production' (kilogram, RoW, None),\n 'maize grain, feed production' (kilogram, CA-QC, None),\n 'barley grain, feed production, organic' (kilogram, CH, None),\n 'wheat grain, feed production, organic' (kilogram, CH, None),\n 'rye grain, feed production, organic' (kilogram, CH, None)]"
      ]
     },
     "execution_count": 44,
     "metadata": {},
     "output_type": "execute_result"
    }
   ],
   "source": [
    "db.search('maize grain feed organic')"
   ]
  },
  {
   "cell_type": "code",
   "execution_count": 45,
   "metadata": {
    "autoscroll": "json-false",
    "collapsed": false,
    "ein.tags": [
     "worksheet-0"
    ],
    "slideshow": {
     "slide_type": "-"
    }
   },
   "outputs": [],
   "source": [
    "migration_data_ma = {\n",
    "    'fields': ['name', 'categories'],\n",
    "    'data': [\n",
    "        (\n",
    "            # First element is input data in the order of `fields` above\n",
    "            ('Maize gluten meal, from wet milling (gluten drying), at plant Economic/DE',('Materials/fuels',)),\n",
    "            # Second element is new values \n",
    "            { \n",
    "                'name': 'maize grain, feed production, organic',\n",
    "                'reference product':'maize grain, feed, organic',\n",
    "                'location': 'CH',\n",
    "                'unit':'kilogram',\n",
    "            }\n",
    "        )\n",
    "    ]\n",
    "}\n",
    "\n",
    "Migration('new-ecoinvent_ma').write(\n",
    "    migration_data_ma, \n",
    "    description='New datasets in ecoinvent 3.3'\n",
    ")"
   ]
  },
  {
   "cell_type": "code",
   "execution_count": 46,
   "metadata": {
    "autoscroll": "json-false",
    "collapsed": false,
    "ein.tags": [
     "worksheet-0"
    ],
    "slideshow": {
     "slide_type": "-"
    }
   },
   "outputs": [
    {
     "name": "stdout",
     "output_type": "stream",
     "text": [
      "Applying strategy: migrate_datasets\n",
      "Applying strategy: migrate_exchanges\n",
      "Applying strategy: link_iterable_by_fields\n",
      "Couldn't apply strategy link_iterable_by_fields:\n",
      "\tObject in source database can't be uniquely linked to target database.\n",
      "Problematic dataset is:\n",
      "{'filename': '(missing)',\n",
      " 'location': 'Europe without Switzerland',\n",
      " 'name': 'rape oil mill operation',\n",
      " 'unit': 'kilogram'}\n",
      "Possible targets include (at least one not shown):\n",
      "[{'filename': 'b5810020-570c-4d70-a208-c28f4048a4bb_1ef8a081-f479-4c8e-bba3-aba6d37de904.spold',\n",
      "  'location': 'Europe without Switzerland',\n",
      "  'name': 'rape oil mill operation',\n",
      "  'unit': 'kilogram'}]\n",
      "403 datasets\n",
      "101204 exchanges\n",
      "2479 unlinked exchanges\n",
      "  Type biosphere: 192 unique unlinked exchanges\n",
      "  Type technosphere: 17 unique unlinked exchanges\n"
     ]
    },
    {
     "data": {
      "text/plain": [
       "(403, 101204, 2479)"
      ]
     },
     "execution_count": 46,
     "metadata": {},
     "output_type": "execute_result"
    }
   ],
   "source": [
    "sp2.migrate('new-ecoinvent_ma')\n",
    "sp2.match_database('ecoinvent 3.3 cutoff',ignore_categories=True)\n",
    "sp2.statistics()"
   ]
  },
  {
   "cell_type": "markdown",
   "metadata": {
    "ein.tags": [
     "worksheet-0"
    ],
    "slideshow": {
     "slide_type": "-"
    }
   },
   "source": [
    "#### Used by Deborah"
   ]
  },
  {
   "cell_type": "markdown",
   "metadata": {
    "ein.tags": [
     "worksheet-0"
    ],
    "slideshow": {
     "slide_type": "-"
    }
   },
   "source": [
    "check\n",
    "- besser market oder production\n",
    "- sunflower seed meal nicht in ecoinvent \n",
    "\n",
    "rest einigermassen ok\n",
    "    "
   ]
  },
  {
   "cell_type": "code",
   "execution_count": 47,
   "metadata": {
    "autoscroll": "json-false",
    "collapsed": false,
    "ein.tags": [
     "worksheet-0"
    ],
    "slideshow": {
     "slide_type": "-"
    }
   },
   "outputs": [
    {
     "name": "stdout",
     "output_type": "stream",
     "text": [
      "Sugar beet pulp, dried, from pulp drying, at plant Economic/DE kilogram ('Materials/fuels',)\n",
      "Maize gluten meal, consumption mix, at feed compound plant Economic/NL kilogram ('Materials/fuels',)\n",
      "Sunflower seed meal, consumption mix, at feed compound plant Economic/NL kilogram ('Materials/fuels',)\n",
      "Linseed, at farm Economic/DE kilogram ('Materials/fuels',)\n",
      "Triticale, at farm Economic/DE kilogram ('Materials/fuels',)\n",
      "Waste in incineration kilogram ('Final waste flows',)\n",
      "Waste in inert landfill kilogram ('Final waste flows',)\n",
      "Cathode loss kilogram ('Final waste flows',)\n",
      "Dross kilogram ('Final waste flows',)\n",
      "Dross for recycling kilogram ('Final waste flows',)\n",
      "Aluminium waste kilogram ('Final waste flows',)\n",
      "Cathode iron ingots waste kilogram ('Final waste flows',)\n",
      "Mineral waste, from mining kilogram ('Final waste flows',)\n",
      "Waste in bioactive landfill kilogram ('Final waste flows',)\n",
      "Dust, unspecified kilogram ('Final waste flows',)\n",
      "rape oil mill operation kilogram ('Materials/fuels',)\n",
      "maize grain, feed production, organic kilogram ('Materials/fuels',)\n"
     ]
    }
   ],
   "source": [
    "for i, e in enumerate(sp2.unlinked):\n",
    "    if e['type'] == 'technosphere':\n",
    "        print(e['name'], e['unit'], e['categories'])\n",
    "    if i > 20000:\n",
    "        break"
   ]
  },
  {
   "cell_type": "code",
   "execution_count": 48,
   "metadata": {
    "autoscroll": "json-false",
    "collapsed": false,
    "ein.tags": [
     "worksheet-0"
    ],
    "slideshow": {
     "slide_type": "-"
    }
   },
   "outputs": [
    {
     "data": {
      "text/plain": [
       "['sunflower production' (kilogram, UA, None),\n 'sunflower production' (kilogram, HU, None),\n 'sunflower production' (kilogram, RU, None),\n 'sunflower production' (kilogram, FR, None),\n 'sunflower production' (kilogram, RoW, None),\n 'sunflower production' (kilogram, ES, None),\n 'market for sunflower silage' (kilogram, GLO, None),\n 'market for sunflower seed' (kilogram, GLO, None),\n 'catch crop growing, sunflower, August-October, organic fertiliser 30 kg N' (kilogram, CH, None),\n 'catch crop growing, sunflower, August-October, organic fertiliser 20 kg N' (kilogram, RoW, None),\n 'catch crop growing, sunflower, August-October, organic fertiliser 20 kg N' (kilogram, CH, None),\n 'catch crop growing, sunflower, August-October, organic fertiliser 30 kg N' (kilogram, RoW, None),\n 'sunflower seed production, for sowing' (kilogram, GLO, None),\n 'market for sunflower seed, for sowing' (kilogram, GLO, None),\n 'sunflower production, Swiss integrated production, intensive' (kilogram, CH, None),\n 'market for sunflower seed, Swiss integrated production' (kilogram, GLO, None)]"
      ]
     },
     "execution_count": 48,
     "metadata": {},
     "output_type": "execute_result"
    }
   ],
   "source": [
    "db.search('sunflower')"
   ]
  },
  {
   "cell_type": "code",
   "execution_count": 49,
   "metadata": {
    "autoscroll": "json-false",
    "collapsed": false,
    "ein.tags": [
     "worksheet-0"
    ],
    "slideshow": {
     "slide_type": "-"
    }
   },
   "outputs": [],
   "source": [
    "migration_data_li = {\n",
    "    'fields': ['name', 'categories'],\n",
    "    'data': [\n",
    "        (\n",
    "            # First element is input data in the order of `fields` above\n",
    "            ('Linseed, at farm Economic/DE',('Materials/fuels',)),\n",
    "            # Second element is new values \n",
    "            { \n",
    "                'name': 'market for linseed seed, at farm',\n",
    "                'location': 'GLO',\n",
    "\n",
    "            }\n",
    "        ),\n",
    "        (\n",
    "            # First element is input data in the order of `fields` above\n",
    "            ('Triticale, at farm Economic/DE',('Materials/fuels',)),\n",
    "            # Second element is new values \n",
    "            { \n",
    "                'name': 'wheat grain, feed production, organic',\n",
    "                'location': 'CH',\n",
    "\n",
    "            }\n",
    "        ),\n",
    "        (\n",
    "            # First element is input data in the order of `fields` above\n",
    "            ('Sugar beet pulp, dried, from pulp drying, at plant Economic/DE',('Materials/fuels',)),\n",
    "            # Second element is new values \n",
    "            { \n",
    "                'name': 'market for sugar beet pulp',\n",
    "                'location': 'GLO',\n",
    "\n",
    "            }\n",
    "        ),\n",
    "        (\n",
    "            # First element is input data in the order of `fields` above\n",
    "            ('Maize gluten meal, consumption mix, at feed compound plant Economic/NL',('Materials/fuels',)),\n",
    "            # Second element is new values \n",
    "            { \n",
    "                'name': 'maize grain, feed production, organic',\n",
    "                'location': 'CH',\n",
    "\n",
    "            }\n",
    "        ),\n",
    "        (\n",
    "            # First element is input data in the order of `fields` above\n",
    "            ('Sunflower seed meal, consumption mix, at feed compound plant Economic/NL',('Materials/fuels',)),\n",
    "            # Second element is new values \n",
    "            { \n",
    "                'name': 'sunflower production',\n",
    "                'location': 'FR',\n",
    "\n",
    "            }\n",
    "        )\n",
    "    ]\n",
    "}\n",
    "\n",
    "Migration('new-ecoinvent_li').write(\n",
    "    migration_data_li, \n",
    "    description='New datasets in ecoinvent 3.3'\n",
    ")"
   ]
  },
  {
   "cell_type": "code",
   "execution_count": 50,
   "metadata": {
    "autoscroll": "json-false",
    "collapsed": false,
    "ein.tags": [
     "worksheet-0"
    ],
    "slideshow": {
     "slide_type": "-"
    }
   },
   "outputs": [
    {
     "name": "stdout",
     "output_type": "stream",
     "text": [
      "Applying strategy: migrate_datasets\n",
      "Applying strategy: migrate_exchanges\n",
      "Applying strategy: link_iterable_by_fields\n",
      "Couldn't apply strategy link_iterable_by_fields:\n",
      "\tObject in source database can't be uniquely linked to target database.\n",
      "Problematic dataset is:\n",
      "{'filename': '(missing)',\n",
      " 'location': 'Europe without Switzerland',\n",
      " 'name': 'rape oil mill operation',\n",
      " 'unit': 'kilogram'}\n",
      "Possible targets include (at least one not shown):\n",
      "[{'filename': 'b5810020-570c-4d70-a208-c28f4048a4bb_3719fbf0-0ae5-4e1d-9668-e5f2cecf9a43.spold',\n",
      "  'location': 'Europe without Switzerland',\n",
      "  'name': 'rape oil mill operation',\n",
      "  'unit': 'kilogram'}]\n",
      "403 datasets\n",
      "101204 exchanges\n",
      "2461 unlinked exchanges\n",
      "  Type biosphere: 192 unique unlinked exchanges\n",
      "  Type technosphere: 12 unique unlinked exchanges\n"
     ]
    },
    {
     "data": {
      "text/plain": [
       "(403, 101204, 2461)"
      ]
     },
     "execution_count": 50,
     "metadata": {},
     "output_type": "execute_result"
    }
   ],
   "source": [
    "sp2.migrate('new-ecoinvent_li')\n",
    "sp2.match_database('ecoinvent 3.3 cutoff',ignore_categories=True)\n",
    "sp2.statistics()"
   ]
  },
  {
   "cell_type": "markdown",
   "metadata": {
    "ein.tags": [
     "worksheet-0"
    ],
    "slideshow": {
     "slide_type": "-"
    }
   },
   "source": []
  },
  {
   "cell_type": "code",
   "execution_count": 0,
   "metadata": {
    "autoscroll": "json-false",
    "collapsed": false,
    "ein.tags": [
     "worksheet-0"
    ],
    "slideshow": {
     "slide_type": "-"
    }
   },
   "outputs": [],
   "source": []
  },
  {
   "cell_type": "code",
   "execution_count": 0,
   "metadata": {
    "autoscroll": "json-false",
    "collapsed": false,
    "ein.tags": [
     "worksheet-0"
    ],
    "slideshow": {
     "slide_type": "-"
    }
   },
   "outputs": [],
   "source": []
  },
  {
   "cell_type": "code",
   "execution_count": 0,
   "metadata": {
    "autoscroll": "json-false",
    "collapsed": false,
    "ein.tags": [
     "worksheet-0"
    ],
    "slideshow": {
     "slide_type": "-"
    }
   },
   "outputs": [],
   "source": []
  },
  {
   "cell_type": "markdown",
   "metadata": {
    "ein.tags": [
     "worksheet-0"
    ],
    "slideshow": {
     "slide_type": "-"
    }
   },
   "source": [
    "## fix most important biosphere flows"
   ]
  },
  {
   "cell_type": "code",
   "execution_count": 51,
   "metadata": {
    "autoscroll": "json-false",
    "collapsed": false,
    "ein.tags": [
     "worksheet-0"
    ],
    "slideshow": {
     "slide_type": "-"
    }
   },
   "outputs": [
    {
     "name": "stdout",
     "output_type": "stream",
     "text": [
      "Butyric acid, 4-(2,4-dichlorophenoxy)- kilogram ('soil', 'agricultural')\n",
      "Copper, Cu 0.2%, in mixed ore kilogram ('natural resource', 'in ground')\n",
      "Gold, Au 1.8E-4%, in mixed ore kilogram ('natural resource', 'in ground')\n",
      "Gold, Au 5.4E-4%, Ag 1.5E-5%, in ore kilogram ('natural resource', 'in ground')\n",
      "Gold, Au 6.8E-4%, Ag 1.5E-4%, in ore kilogram ('natural resource', 'in ground')\n",
      "Gold, Au 9.7E-5%, Ag 7.6E-5%, in ore kilogram ('natural resource', 'in ground')\n",
      "Lead, Pb 3.6E-1%, in mixed ore kilogram ('natural resource', 'in ground')\n",
      "Silver, Ag 1.5E-4%, Au 6.8E-4%, in ore kilogram ('natural resource', 'in ground')\n",
      "Silver, Ag 1.5E-5%, Au 5.4E-4%, in ore kilogram ('natural resource', 'in ground')\n",
      "Silver, Ag 5.4E-3%, in mixed ore kilogram ('natural resource', 'in ground')\n",
      "Silver, Ag 7.6E-5%, Au 9.7E-5%, in ore kilogram ('natural resource', 'in ground')\n",
      "Strontium kilogram ('natural resource', 'in ground')\n",
      "Transformation, from unspecified, natural square meter ('natural resource', 'land')\n",
      "Transformation, to annual crop, fallow square meter ('natural resource', 'land')\n",
      "Water, unspecified natural origin, IAI Area, Africa cubic meter ('natural resource', 'in water')\n",
      "Water, unspecified natural origin, IAI Area, Asia, without China and GCC cubic meter ('natural resource', 'in water')\n",
      "Water, unspecified natural origin, IAI Area, Gulf Cooperation Council cubic meter ('natural resource', 'in water')\n",
      "Water, unspecified natural origin, IAI Area, North America, without Quebec cubic meter ('natural resource', 'in water')\n",
      "Water, unspecified natural origin, IAI Area, Russia & RER w/o EU27 & EFTA cubic meter ('natural resource', 'in water')\n",
      "Water, unspecified natural origin, IAI Area, South America cubic meter ('natural resource', 'in water')\n",
      "Water, well, in ground cubic meter ('natural resource', 'land')\n",
      "Zinc, Zn 3.1%, in mixed ore kilogram ('natural resource', 'in ground')\n",
      "2-Methyl-4-chlorophenoxyacetic acid kilogram ('air', 'non-urban air or from high stacks')\n",
      "Benzo(a)anthracene kilogram ('air',)\n",
      "Butyric acid, 4-(2,4-dichlorophenoxy)- kilogram ('air', 'non-urban air or from high stacks')\n",
      "Methane kilogram ('air',)\n",
      "Nitrogen, atmospheric kilogram ('air',)\n",
      "Pentane, 3-methyl- kilogram ('air', 'urban air close to ground')\n",
      "2-Methyl-4-chlorophenoxyacetic acid kilogram ('water', 'ground-')\n",
      "2-Methyl-4-chlorophenoxyacetic acid kilogram ('water', 'surface water')\n",
      "Pyraclostrobin (prop) kilogram ('water', 'ground-')\n",
      "Pyraclostrobin (prop) kilogram ('water', 'surface water')\n",
      "Water, IAI Area, Africa cubic meter ('water',)\n",
      "Water, IAI Area, Africa cubic meter ('water', 'ocean')\n",
      "Water, IAI Area, Africa cubic meter ('water', 'surface water')\n",
      "Water, IAI Area, Asia, without China and GCC cubic meter ('water',)\n",
      "Water, IAI Area, Asia, without China and GCC cubic meter ('water', 'ocean')\n",
      "Water, IAI Area, Asia, without China and GCC cubic meter ('water', 'surface water')\n",
      "Water, IAI Area, Gulf Cooperation Council cubic meter ('water',)\n",
      "Water, IAI Area, Gulf Cooperation Council cubic meter ('water', 'ocean')\n",
      "Water, IAI Area, Gulf Cooperation Council cubic meter ('water', 'surface water')\n",
      "Water, IAI Area, North America, without Quebec cubic meter ('water',)\n",
      "Water, IAI Area, North America, without Quebec cubic meter ('water', 'ocean')\n",
      "Water, IAI Area, North America, without Quebec cubic meter ('water', 'surface water')\n",
      "Water, IAI Area, Russia & RER w/o EU27 & EFTA cubic meter ('water',)\n",
      "Water, IAI Area, Russia & RER w/o EU27 & EFTA cubic meter ('water', 'ocean')\n",
      "Water, IAI Area, Russia & RER w/o EU27 & EFTA cubic meter ('water', 'surface water')\n",
      "Water, IAI Area, South America cubic meter ('water',)\n",
      "Water, IAI Area, South America cubic meter ('water', 'ocean')\n",
      "Water, IAI Area, South America cubic meter ('water', 'surface water')\n",
      "Energy, from peat megajoule ('natural resource', 'biotic')\n",
      "Methane kilogram ('air', 'non-urban air or from high stacks')\n",
      "Water kilogram ('air', 'non-urban air or from high stacks')\n",
      "Occupation, grassland/pasture/meadow square meter-year ('natural resource',)\n",
      "Water, unspecified natural origin kilogram ('air', 'non-urban air or from high stacks')\n",
      "Alloys kilogram ('natural resource',)\n",
      "Aluminium scrap kilogram ('natural resource',)\n",
      "Bauxite kilogram ('natural resource', 'in ground')\n",
      "Coal, 18 MJ per kg kilogram ('natural resource', 'in ground')\n",
      "Coal, brown, 8 MJ per kg kilogram ('natural resource', 'in ground')\n",
      "Gas, natural, 36.6 MJ per m3 cubic meter ('natural resource', 'in ground')\n",
      "Iron ore kilogram ('natural resource', 'in ground')\n",
      "Limestone kilogram ('natural resource', 'in ground')\n",
      "Oil, crude, 42.6 MJ per kg kilogram ('natural resource', 'in ground')\n",
      "Salt, unspecified kilogram ('natural resource',)\n",
      "Sulfur dioxide, secondary kilogram ('natural resource',)\n",
      "Uranium, 451 GJ per kg kilogram ('natural resource', 'in ground')\n",
      "Water, cooling, salt, ocean kilogram ('natural resource', 'land')\n",
      "Water, process, unspecified natural origin cubic meter ('natural resource', 'in water')\n",
      "Wood, unspecified, standing/kg kilogram ('natural resource', 'biotic')\n",
      "Transformation, from annual crop, non-irrigated, fallow square meter ('natural resource', 'land')\n",
      "Transformation, to annual crop, non-irrigated, fallow square meter ('natural resource', 'land')\n",
      "Fish, unspecified, in sea kilogram ('natural resource', 'biotic')\n",
      "Fluoride kilogram ('air',)\n",
      "Carbon dioxide kilogram ('air',)\n",
      "Carbon monoxide kilogram ('air',)\n",
      "Hydrocarbons, halogenated kilogram ('air',)\n",
      "Hydrocarbons, unspecified kilogram ('air',)\n",
      "Metals, unspecified kilogram ('air',)\n",
      "Particulates kilogram ('air',)\n",
      "Radioactive species, unspecified kilo Becquerel ('air',)\n",
      "Kjeldahl-N kilogram ('water',)\n",
      "Hydrocarbons, chlorinated kilogram ('water',)\n",
      "Metallic ions, unspecified kilogram ('water',)\n",
      "Nitrogen, total kilogram ('water',)\n",
      "Phenols, unspecified kilogram ('water',)\n",
      "Solved substances, inorganic kilogram ('water',)\n",
      "Sulfuric acid kilogram ('water',)\n",
      "Suspended substances, unspecified kilogram ('water',)\n",
      "Waste water cubic meter ('water',)\n",
      "Nitrogen, total kilogram ('water', 'surface water')\n",
      "Phosphorus, total kilogram ('water', 'surface water')\n",
      "Vehicle noise meter ('non-material',)\n",
      "Nitrogen monoxide kilogram ('air', 'non-urban air or from high stacks')\n",
      "Occupation, industrial area square meter-year ('natural resource',)\n",
      "Coal, 26.4 MJ per kg kilogram ('natural resource', 'in ground')\n",
      "Energy, from hydro power megajoule ('natural resource', 'in water')\n",
      "Gas, natural, 46.8 MJ per kg kilogram ('natural resource', 'in ground')\n",
      "Oil, crude, 42 MJ per kg kilogram ('natural resource', 'in ground')\n",
      "Uranium, 2291 GJ per kg kilogram ('natural resource', 'in ground')\n",
      "Wood and wood waste, 9.5 MJ per kg kilogram ('natural resource', 'biotic')\n",
      "Kerosene kilogram ('air',)\n",
      "N-Nitrodimethylamine kilogram ('air',)\n",
      "Organic substances, unspecified kilogram ('air',)\n",
      "Particulates, unspecified kilogram ('air',)\n",
      "VOC, volatile organic compounds kilogram ('air',)\n",
      "Ammonia kilogram ('water',)\n",
      "Chromate kilogram ('water',)\n",
      "Naphtalene kilogram ('water',)\n",
      "Organic substances, unspecified kilogram ('water',)\n",
      "Copper kilogram ('natural resource', 'in ground')\n",
      "Energy, from coal megajoule ('natural resource', 'in ground')\n",
      "Energy, from coal, brown megajoule ('natural resource', 'in ground')\n",
      "Energy, from gas, natural megajoule ('natural resource', 'in ground')\n",
      "Energy, from oil megajoule ('natural resource', 'in ground')\n",
      "Energy, from uranium megajoule ('natural resource', 'in ground')\n",
      "Energy, unspecified megajoule ('natural resource',)\n",
      "Gas, mine, off-gas, process, coal mining/kg kilogram ('natural resource', 'in ground')\n",
      "Gas, natural, 35 MJ per m3 cubic meter ('natural resource', 'in ground')\n",
      "Gas, petroleum, 35 MJ per m3 cubic meter ('natural resource', 'in ground')\n",
      "Nickel kilogram ('natural resource', 'in ground')\n",
      "Palladium kilogram ('natural resource', 'in ground')\n",
      "Platinum kilogram ('natural resource', 'in ground')\n",
      "Rhodium kilogram ('natural resource', 'in ground')\n",
      "Silver kilogram ('natural resource', 'in ground')\n",
      "Uranium, 560 GJ per kg kilogram ('natural resource', 'in ground')\n",
      "Water, turbine use, unspecified natural origin cubic meter ('natural resource',)\n",
      "Water, well, in ground cubic meter ('natural resource',)\n",
      "Ethane, dichloro- kilogram ('air',)\n",
      "Hydrocarbons, aliphatic, alkenes, unspecified kilogram ('air',)\n",
      "Nitrogen monoxide kilogram ('air',)\n",
      "Particulates, < 10 um (mobile) kilogram ('air',)\n",
      "Particulates, < 10 um (stationary) kilogram ('air',)\n",
      "Particulates, > 10 um (process) kilogram ('air',)\n",
      "Particulates, diesel soot kilogram ('air',)\n",
      "Phosphorus, total kilogram ('air',)\n",
      "Silicates, unspecified kilogram ('air',)\n",
      "Acids, unspecified kilogram ('water',)\n",
      "Ammonia, as N kilogram ('water',)\n",
      "Dibutyl terephthalate kilogram ('water',)\n",
      "Ethane, dichloro- kilogram ('water',)\n",
      "Hydrocarbons, aliphatic, alkenes, unspecified kilogram ('water',)\n",
      "Methane, tetrachloro-, CFC-10 kilogram ('water',)\n",
      "Phosphorus compounds, unspecified kilogram ('water',)\n",
      "Phosphorus, total kilogram ('water',)\n",
      "Ruthenium kilogram ('water',)\n",
      "Sulfur trioxide kilogram ('water',)\n",
      "Terephthalate, dimethyl kilogram ('water',)\n",
      "VOC, volatile organic compounds as C kilogram ('water',)\n",
      "Benfuracarb kilogram ('soil', 'agricultural')\n",
      "Carbamic acid, [(dibutylamino)thio]methyl-, 2,3- kilogram ('soil', 'agricultural')\n",
      "Cyazofamid kilogram ('soil', 'agricultural')\n",
      "Flonicamid kilogram ('soil', 'agricultural')\n",
      "Fluazifop-butyl kilogram ('soil', 'agricultural')\n",
      "Fluoxastrobin kilogram ('soil', 'agricultural')\n",
      "Flutriafol kilogram ('soil', 'agricultural')\n",
      "Hymexazol kilogram ('soil', 'agricultural')\n",
      "Metolachlor, (S) kilogram ('soil', 'agricultural')\n",
      "Pencycuron kilogram ('soil', 'agricultural')\n",
      "Phosphorus, total kilogram ('soil',)\n",
      "Tetraconazole kilogram ('soil', 'agricultural')\n",
      "Triazamate kilogram ('soil', 'agricultural')\n",
      "Zoxamide kilogram ('soil', 'agricultural')\n",
      "Arable land use, soy bean, Argentina square meter-year ('natural resource',)\n",
      "Gas, off-gas, oil production cubic meter ('natural resource', 'in ground')\n",
      "Land use II-III square meter-year ('natural resource', 'land')\n",
      "Land use II-III, sea floor square meter-year ('natural resource', 'land')\n",
      "Land use II-IV square meter-year ('natural resource', 'land')\n",
      "Land use II-IV, sea floor square meter-year ('natural resource', 'land')\n",
      "Land use III-IV square meter-year ('natural resource', 'land')\n",
      "Land use IV-IV square meter-year ('natural resource', 'land')\n",
      "Marl kilogram ('natural resource', 'in ground')\n",
      "Methane kilogram ('natural resource',)\n",
      "Phosphate ore kilogram ('natural resource', 'in ground')\n",
      "Potassium kilogram ('natural resource',)\n",
      "Wood, dry matter kilogram ('natural resource', 'biotic')\n",
      "Wood, unspecified, standing/kg kilogram ('natural resource', 'land')\n",
      "Biological pest controls kilogram ('soil', 'agricultural')\n",
      "Chlormephos kilogram ('soil', 'agricultural')\n",
      "Dimethenamid-P kilogram ('soil', 'agricultural')\n",
      "Dimoxystrobin kilogram ('soil', 'agricultural')\n",
      "Isoxaben kilogram ('soil', 'agricultural')\n",
      "Paclobutrazol kilogram ('soil', 'agricultural')\n",
      "Thiacloprid kilogram ('soil', 'agricultural')\n",
      "Water, unspecified natural origin kilogram ('air',)\n",
      "Amino compounds kilogram ('air',)\n",
      "Fatty acids as C kilogram ('water',)\n",
      "Hypochlorous acid kilogram ('water',)\n",
      "Salts, unspecified kilogram ('water',)\n",
      "Undissolved substances kilogram ('water',)\n",
      "Transformation, from forest, intensive square meter ('natural resource',)\n",
      "Transformation, from shrub land, sclerophyllous square meter ('natural resource',)\n"
     ]
    }
   ],
   "source": [
    "for i, e in enumerate(sp2.unlinked):\n",
    "    if e['type'] == 'biosphere':\n",
    "        print(e['name'], e['unit'], e['categories'])\n",
    "    if i > 20000:\n",
    "        break"
   ]
  },
  {
   "cell_type": "code",
   "execution_count": 52,
   "metadata": {
    "autoscroll": "json-false",
    "collapsed": false,
    "ein.tags": [
     "worksheet-0"
    ],
    "slideshow": {
     "slide_type": "-"
    }
   },
   "outputs": [],
   "source": [
    "migration_data_bioM = {\n",
    "    'fields': ['name','categories','type','unit'],\n",
    "    'data': [\n",
    "        (\n",
    "            # Achtung: nicht sicher ob mit fossil oder non-fossil ersetzen->check CF!!\n",
    "            ('Carbon dioxide',('air',), 'biosphere', 'kilogram'),\n",
    "            \n",
    "            { \n",
    "                'name': 'Carbon dioxide, fossil',               \n",
    "            }\n",
    "        ),\n",
    "        (\n",
    "            # Achtung: nicht sicher ob mit fossil oder non-fossil ersetzen->check CF!!\n",
    "            ('Carbon monoxide',('air',), 'biosphere', 'kilogram'),\n",
    "            \n",
    "            { \n",
    "                'name': 'Carbon monoxide, fossil',               \n",
    "            }\n",
    "        ),   \n",
    "        (\n",
    "            # First element is input data in the order of `fields` above\n",
    "            ('Methane',('air',), 'biosphere', 'kilogram'),\n",
    "            # Second element is new values \n",
    "            { \n",
    "                'name': 'Methane, fossil',              \n",
    "            }\n",
    "        ),\n",
    "        (\n",
    "            # First element is input data in the order of `fields` above\n",
    "            ('Methane',('air','non-urban air or from high stacks',), 'biosphere', 'kilogram'),\n",
    "            # Second element is new values \n",
    "            { \n",
    "                'name': 'Methane, fossil',              \n",
    "            }\n",
    "        ),\n",
    "        (\n",
    "            \n",
    "            ('Nitrogen monoxide',('air', 'non-urban air or from high stacks'), 'biosphere', 'kilogram'),\n",
    "            \n",
    "            { \n",
    "                'name': 'Nitrogen oxides',              \n",
    "            }\n",
    "        ),\n",
    "        (\n",
    "            \n",
    "            ('Nitrogen monoxide',('air'), 'biosphere', 'kilogram'),\n",
    "            \n",
    "            { \n",
    "                'name': 'Nitrogen oxides',              \n",
    "            }\n",
    "        ) \n",
    "    ]\n",
    "}\n",
    "\n",
    "Migration('new-ecoinvent-bioM').write(\n",
    "    migration_data_bioM, \n",
    "    description='New datasets in ecoinvent 3.3'\n",
    ")"
   ]
  },
  {
   "cell_type": "code",
   "execution_count": 53,
   "metadata": {
    "autoscroll": "json-false",
    "collapsed": false,
    "ein.tags": [
     "worksheet-0"
    ],
    "slideshow": {
     "slide_type": "-"
    }
   },
   "outputs": [
    {
     "name": "stdout",
     "output_type": "stream",
     "text": [
      "Applying strategy: migrate_datasets\n",
      "Applying strategy: migrate_exchanges\n",
      "Applying strategy: normalize_units\n",
      "Applying strategy: assign_only_product_as_production\n",
      "Applying strategy: drop_unspecified_subcategories\n",
      "Applying strategy: sp_allocate_products\n",
      "Applying strategy: fix_zero_allocation_products\n",
      "Applying strategy: split_simapro_name_geo\n",
      "Applying strategy: strip_biosphere_exc_locations\n",
      "Applying strategy: migrate_datasets\n",
      "Applying strategy: migrate_exchanges\n",
      "Applying strategy: set_code_by_activity_hash\n",
      "Applying strategy: link_technosphere_based_on_name_unit_location\n",
      "Applying strategy: change_electricity_unit_mj_to_kwh\n",
      "Applying strategy: normalize_biosphere_categories\n",
      "Applying strategy: normalize_simapro_biosphere_categories\n",
      "Applying strategy: normalize_biosphere_names\n",
      "Applying strategy: normalize_simapro_biosphere_names\n",
      "Applying strategy: migrate_exchanges\n",
      "Applying strategy: fix_localized_water_flows\n",
      "Applying strategy: link_iterable_by_fields\n",
      "Applied 19 strategies in 6.82 seconds\n",
      "403 datasets\n",
      "101204 exchanges\n",
      "2404 unlinked exchanges\n",
      "  Type biosphere: 185 unique unlinked exchanges\n",
      "  Type technosphere: 12 unique unlinked exchanges\n"
     ]
    },
    {
     "data": {
      "text/plain": [
       "(403, 101204, 2404)"
      ]
     },
     "execution_count": 53,
     "metadata": {},
     "output_type": "execute_result"
    }
   ],
   "source": [
    "sp2.migrate('new-ecoinvent-bioM')\n",
    "sp2.apply_strategies()\n",
    "sp2.statistics()"
   ]
  },
  {
   "cell_type": "code",
   "execution_count": 0,
   "metadata": {
    "autoscroll": "json-false",
    "collapsed": false,
    "ein.tags": [
     "worksheet-0"
    ],
    "slideshow": {
     "slide_type": "-"
    }
   },
   "outputs": [],
   "source": []
  },
  {
   "cell_type": "code",
   "execution_count": 0,
   "metadata": {
    "autoscroll": "json-false",
    "collapsed": false,
    "ein.tags": [
     "worksheet-0"
    ],
    "slideshow": {
     "slide_type": "-"
    }
   },
   "outputs": [],
   "source": []
  },
  {
   "cell_type": "code",
   "execution_count": 54,
   "metadata": {
    "autoscroll": "json-false",
    "collapsed": false,
    "ein.tags": [
     "worksheet-0"
    ],
    "slideshow": {
     "slide_type": "-"
    }
   },
   "outputs": [
    {
     "data": {
      "text/plain": [
       "['Nitrogen' (kilogram, None, ('soil', 'agricultural')),\n 'Nitrogen' (kilogram, None, ('soil', 'industrial')),\n 'Nitrogen' (kilogram, None, ('soil',)),\n 'Nitrogen' (kilogram, None, ('water', 'ocean')),\n 'Nitrogen' (kilogram, None, ('water', 'surface water')),\n 'Nitrogen' (kilogram, None, ('water', 'ground-, long-term')),\n 'Nitrogen' (kilogram, None, ('air',)),\n 'Nitrogen' (kilogram, None, ('natural resource', 'in air')),\n 'Nitrogen' (kilogram, None, ('soil', 'forestry')),\n 'Nitrogen' (kilogram, None, ('water', 'ground-')),\n 'Nitrogen' (kilogram, None, ('water',)),\n 'Nitrogen fluoride' (kilogram, None, ('air', 'lower stratosphere + upper troposphere')),\n 'Nitrogen oxides' (kilogram, None, ('air', 'lower stratosphere + upper troposphere')),\n 'Nitrogen fluoride' (kilogram, None, ('air', 'low population density, long-term')),\n 'Nitrogen fluoride' (kilogram, None, ('air', 'urban air close to ground')),\n 'Nitrogen oxides' (kilogram, None, ('air', 'non-urban air or from high stacks')),\n 'Nitrogen oxides' (kilogram, None, ('air', 'low population density, long-term')),\n 'Nitrogen oxides' (kilogram, None, ('air',)),\n 'Nitrogen fluoride' (kilogram, None, ('air', 'non-urban air or from high stacks')),\n 'Nitrogen oxides' (kilogram, None, ('air', 'urban air close to ground')),\n 'Nitrogen fluoride' (kilogram, None, ('air',)),\n 'Nitrogen, organic bound' (kilogram, None, ('water', 'ground-, long-term')),\n 'Nitrogen, organic bound' (kilogram, None, ('water', 'ground-')),\n 'Nitrogen, organic bound' (kilogram, None, ('water',)),\n 'Nitrogen, organic bound' (kilogram, None, ('water', 'ocean'))]"
      ]
     },
     "execution_count": 54,
     "metadata": {},
     "output_type": "execute_result"
    }
   ],
   "source": [
    "bp.search('nitrogen')"
   ]
  },
  {
   "cell_type": "code",
   "execution_count": 0,
   "metadata": {
    "autoscroll": "json-false",
    "collapsed": false,
    "ein.tags": [
     "worksheet-0"
    ],
    "slideshow": {
     "slide_type": "-"
    }
   },
   "outputs": [],
   "source": []
  },
  {
   "cell_type": "markdown",
   "metadata": {
    "ein.tags": [
     "worksheet-0"
    ],
    "slideshow": {
     "slide_type": "-"
    }
   },
   "source": [
    "## drop unlinked exchanges"
   ]
  },
  {
   "cell_type": "markdown",
   "metadata": {
    "ein.tags": [
     "worksheet-0"
    ],
    "slideshow": {
     "slide_type": "-"
    }
   },
   "source": [
    "betrifft momentan alle waste flows"
   ]
  },
  {
   "cell_type": "code",
   "execution_count": 55,
   "metadata": {
    "autoscroll": "json-false",
    "collapsed": false,
    "ein.tags": [
     "worksheet-0"
    ],
    "slideshow": {
     "slide_type": "-"
    }
   },
   "outputs": [
    {
     "name": "stdout",
     "output_type": "stream",
     "text": [
      "Applying strategy: drop_unlinked\n",
      "Applied 1 strategies in 0.06 seconds\n"
     ]
    }
   ],
   "source": [
    "sp2.drop_unlinked(i_am_reckless=True)"
   ]
  },
  {
   "cell_type": "code",
   "execution_count": 56,
   "metadata": {
    "autoscroll": "json-false",
    "collapsed": false,
    "ein.tags": [
     "worksheet-0"
    ],
    "slideshow": {
     "slide_type": "-"
    }
   },
   "outputs": [
    {
     "name": "stdout",
     "output_type": "stream",
     "text": [
      "Applying strategy: link_iterable_by_fields\n"
     ]
    }
   ],
   "source": [
    "sp2.match_database('ecoinvent 3.3 cutoff', ignore_categories=True)"
   ]
  },
  {
   "cell_type": "code",
   "execution_count": 57,
   "metadata": {
    "autoscroll": "json-false",
    "collapsed": false,
    "ein.tags": [
     "worksheet-0"
    ],
    "slideshow": {
     "slide_type": "-"
    }
   },
   "outputs": [
    {
     "name": "stdout",
     "output_type": "stream",
     "text": [
      "403 datasets\n",
      "98800 exchanges\n",
      "0 unlinked exchanges\n",
      "  \n"
     ]
    },
    {
     "data": {
      "text/plain": [
       "(403, 98800, 0)"
      ]
     },
     "execution_count": 57,
     "metadata": {},
     "output_type": "execute_result"
    }
   ],
   "source": [
    "sp2.statistics()"
   ]
  },
  {
   "cell_type": "markdown",
   "metadata": {
    "ein.tags": [
     "worksheet-0"
    ],
    "slideshow": {
     "slide_type": "-"
    }
   },
   "source": [
    "## write database"
   ]
  },
  {
   "cell_type": "code",
   "execution_count": 58,
   "metadata": {
    "autoscroll": "json-false",
    "collapsed": false,
    "ein.tags": [
     "worksheet-0"
    ],
    "slideshow": {
     "slide_type": "-"
    }
   },
   "outputs": [
    {
     "name": "stdout",
     "output_type": "stream",
     "text": [
      "Title: Writing activities to SQLite3 database:\n",
      "  Started: 03/16/2017 16:11:02\n",
      "  Finished: 03/16/2017 16:11:29\n",
      "  Total time elapsed: 00:00:27\n",
      "  CPU %: 83.10\n",
      "  Memory %: 14.62\n",
      "Created database: MeatDatasets\n",
      "Writing activities to SQLite3 database:\n",
      "0%                          100%\n",
      "[##############################] | ETA: 00:00:00\n",
      "Total time elapsed: 00:00:27\n"
     ]
    }
   ],
   "source": [
    "quantisdata = sp2.write_database()"
   ]
  },
  {
   "cell_type": "code",
   "execution_count": 59,
   "metadata": {
    "autoscroll": "json-false",
    "collapsed": false,
    "ein.tags": [
     "worksheet-0"
    ],
    "slideshow": {
     "slide_type": "-"
    }
   },
   "outputs": [
    {
     "data": {
      "text/plain": [
       "Brightway2 SQLiteBackend: MeatDatasets"
      ]
     },
     "execution_count": 59,
     "metadata": {},
     "output_type": "execute_result"
    }
   ],
   "source": [
    "quantisdata"
   ]
  },
  {
   "cell_type": "code",
   "execution_count": 0,
   "metadata": {
    "autoscroll": "json-false",
    "collapsed": false,
    "ein.tags": [
     "worksheet-0"
    ],
    "slideshow": {
     "slide_type": "-"
    }
   },
   "outputs": [],
   "source": []
  },
  {
   "cell_type": "code",
   "execution_count": 10,
   "metadata": {
    "autoscroll": "json-false",
    "collapsed": false,
    "ein.tags": [
     "worksheet-0"
    ],
    "slideshow": {
     "slide_type": "-"
    }
   },
   "outputs": [
    {
     "data": {
      "text/plain": [
       "['AGs', 'ecoinvent 3.3 cutoff', 'MeatDatasets', 'biosphere3']"
      ]
     },
     "execution_count": 10,
     "metadata": {},
     "output_type": "execute_result"
    }
   ],
   "source": [
    "list(databases)"
   ]
  },
  {
   "cell_type": "markdown",
   "metadata": {
    "ein.tags": [
     "worksheet-0"
    ],
    "slideshow": {
     "slide_type": "-"
    }
   },
   "source": [
    "# calculate LCIA"
   ]
  },
  {
   "cell_type": "markdown",
   "metadata": {
    "ein.tags": [
     "worksheet-0"
    ],
    "slideshow": {
     "slide_type": "-"
    }
   },
   "source": [
    "try first sth from ecoinvent"
   ]
  },
  {
   "cell_type": "code",
   "execution_count": 11,
   "metadata": {
    "autoscroll": "json-false",
    "collapsed": false,
    "ein.tags": [
     "worksheet-0"
    ],
    "slideshow": {
     "slide_type": "-"
    }
   },
   "outputs": [
    {
     "data": {
      "text/plain": [
       "'Suckler beef average, conventional (Quantis, from Agribalyse) UP/DE' (kilogram, None, None)"
      ]
     },
     "execution_count": 11,
     "metadata": {},
     "output_type": "execute_result"
    }
   ],
   "source": [
    "act = Database(\"MeatDatasets\").search('suckler average')[1]\n",
    "act\n"
   ]
  },
  {
   "cell_type": "code",
   "execution_count": 12,
   "metadata": {
    "autoscroll": "json-false",
    "collapsed": false,
    "ein.tags": [
     "worksheet-0"
    ],
    "slideshow": {
     "slide_type": "-"
    }
   },
   "outputs": [
    {
     "data": {
      "text/plain": [
       "18.4052599249694"
      ]
     },
     "execution_count": 12,
     "metadata": {},
     "output_type": "execute_result"
    }
   ],
   "source": [
    "lca = LCA(\n",
    "    {act.key: 1}, \n",
    "    method=('IPCC 2013', 'climate change', 'GWP 100a'),\n",
    ")\n",
    "lca.lci()\n",
    "lca.lcia()\n",
    "lca.score"
   ]
  },
  {
   "cell_type": "markdown",
   "metadata": {
    "ein.tags": [
     "worksheet-0"
    ],
    "slideshow": {
     "slide_type": "-"
    }
   },
   "source": [
    "## Contribution Analysis"
   ]
  },
  {
   "cell_type": "code",
   "execution_count": 13,
   "metadata": {
    "autoscroll": "json-false",
    "collapsed": false,
    "ein.tags": [
     "worksheet-0"
    ],
    "slideshow": {
     "slide_type": "-"
    }
   },
   "outputs": [],
   "source": [
    "from bw2analyzer import ContributionAnalysis"
   ]
  },
  {
   "cell_type": "code",
   "execution_count": 16,
   "metadata": {
    "autoscroll": "json-false",
    "collapsed": false,
    "ein.tags": [
     "worksheet-0"
    ],
    "slideshow": {
     "slide_type": "-"
    }
   },
   "outputs": [
    {
     "name": "stdout",
     "output_type": "stream",
     "text": [
      "Help on method annotated_top_processes in module bw2analyzer.contribution:\n",
      "\n",
      "annotated_top_processes(lca, names=True, **kwargs) method of bw2analyzer.contribution.ContributionAnalysis instance\n",
      "    Get list of most damaging processes in an LCA, sorted by ``abs(direct impact)``.\n",
      "    \n",
      "    Returns a list of tuples: ``(lca score, supply, activity)``. If ``names`` is False, they returns the process key as the last element.\n",
      "\n"
     ]
    }
   ],
   "source": [
    "help(ContributionAnalysis().annotated_top_processes)"
   ]
  },
  {
   "cell_type": "code",
   "execution_count": 17,
   "metadata": {
    "autoscroll": "json-false",
    "collapsed": false,
    "ein.tags": [
     "worksheet-0"
    ],
    "slideshow": {
     "slide_type": "-"
    }
   },
   "outputs": [
    {
     "data": {
      "text/plain": [
       "[(3.2981247535411664,\n",
       "  1.1423420410952435e-05,\n",
       "  ('MeatDatasets', '5eedd964fd3c69e7af816ff967d3c8b3')),\n",
       " (2.6288027557898612,\n",
       "  7.2811412651059102e-06,\n",
       "  ('MeatDatasets', '1dd7aa59e551b9b3036f06e767b28a25')),\n",
       " (2.2530833682989759,\n",
       "  1.4631230486744122e-05,\n",
       "  ('MeatDatasets', '490f41153687f5bf1aa979c33f0285e4')),\n",
       " (1.3520051882298609,\n",
       "  1.2114514515226485e-05,\n",
       "  ('MeatDatasets', '0690e319eb05a54860db1bbf31a1c124')),\n",
       " (1.0494427408896485,\n",
       "  22.821963651731178,\n",
       "  ('MeatDatasets', 'cc01ff7bf1c7514cd047c42c80525b18')),\n",
       " (1.0422489442192411,\n",
       "  2.2341282841442851e-05,\n",
       "  ('MeatDatasets', '67d3ab6b3b3e8392cd85ac0db53d5a79')),\n",
       " (0.88585165714017911,\n",
       "  4.3020639668352008,\n",
       "  ('ecoinvent 3.3 cutoff', '83b638224d563673a9da377aaeb852d9')),\n",
       " (0.59358624441363539,\n",
       "  19.197928421684416,\n",
       "  ('MeatDatasets', 'bc86ef44d14db0476d96157e9a479024')),\n",
       " (0.59193865510611443,\n",
       "  5.126804769108502e-06,\n",
       "  ('MeatDatasets', 'a4fd663f1ce4809be0b31465cdf16e72')),\n",
       " (0.54330172337387106,\n",
       "  8.7488132218519834e-06,\n",
       "  ('MeatDatasets', 'fb85d89b1f01d460cda5073ef566432a')),\n",
       " (0.37996874869349467,\n",
       "  9.013928774029319e-06,\n",
       "  ('MeatDatasets', 'a50f896c05071c0acf510be985fd8d44')),\n",
       " (0.2420335449748266,\n",
       "  3.2609509101057297,\n",
       "  ('ecoinvent 3.3 cutoff', 'eadbc6124c3812b6c54d0ae553c7ad7a')),\n",
       " (0.23613830502101149,\n",
       "  1.1070821378159557e-05,\n",
       "  ('MeatDatasets', '00c12243ebf8c4b2e563c34d54970db9')),\n",
       " (0.17414716763818555,\n",
       "  0.14684997956679768,\n",
       "  ('ecoinvent 3.3 cutoff', '3cebd8ac9335ad8f8f20191cf55a40b1')),\n",
       " (0.17226723703843155,\n",
       "  1.021498457684769,\n",
       "  ('MeatDatasets', '5bac39b995d6174bf075ee26db873367')),\n",
       " (0.14497780041328431,\n",
       "  0.065256169921297083,\n",
       "  ('ecoinvent 3.3 cutoff', 'e3363ec7ded817f31a3380f8ee2170b5')),\n",
       " (0.13055991382357313,\n",
       "  0.97993051125923836,\n",
       "  ('ecoinvent 3.3 cutoff', 'f319c9db0818b46651579046b0d51494')),\n",
       " (0.095696666270114111,\n",
       "  0.11502970911666525,\n",
       "  ('ecoinvent 3.3 cutoff', '2a6a5f7c2cf286c8be844ffa4ed51cea')),\n",
       " (0.088642548366477281,\n",
       "  1.1942931249460469,\n",
       "  ('ecoinvent 3.3 cutoff', 'efdb0e0607f9851ee4772e29edc58e07')),\n",
       " (0.086903220100290293,\n",
       "  0.096493472991927134,\n",
       "  ('ecoinvent 3.3 cutoff', '2d4449b2f260e976f40d579522f7eefe')),\n",
       " (0.080496875556835379,\n",
       "  0.93415954700021209,\n",
       "  ('ecoinvent 3.3 cutoff', '2f290bd5cc6162e85fd1aba0ce1cff3d')),\n",
       " (0.071598453723217367,\n",
       "  0.032227284790811876,\n",
       "  ('ecoinvent 3.3 cutoff', '81a8808e1ea2a18b26fce0d3d72423f6')),\n",
       " (0.052386682096722467,\n",
       "  0.45323059416818484,\n",
       "  ('ecoinvent 3.3 cutoff', '65a5758ba2b325549861bf61396afe5d')),\n",
       " (0.048898366103478974,\n",
       "  0.017353994471778739,\n",
       "  ('MeatDatasets', '72c47d4165580acab5f13007d5f427a3')),\n",
       " (0.047347968685593711,\n",
       "  0.032324968182143816,\n",
       "  ('ecoinvent 3.3 cutoff', '9af0b92e1f1997e32e708440510c4e62'))]"
      ]
     },
     "execution_count": 17,
     "metadata": {},
     "output_type": "execute_result"
    }
   ],
   "source": [
    "ContributionAnalysis().annotated_top_processes(lca, names=False)"
   ]
  },
  {
   "cell_type": "code",
   "execution_count": 18,
   "metadata": {
    "autoscroll": "json-false",
    "collapsed": false,
    "ein.tags": [
     "worksheet-0"
    ],
    "slideshow": {
     "slide_type": "-"
    }
   },
   "outputs": [
    {
     "name": "stdout",
     "output_type": "stream",
     "text": [
      "Help on method annotated_top_emissions in module bw2analyzer.contribution:\n",
      "\n",
      "annotated_top_emissions(lca, names=True, **kwargs) method of bw2analyzer.contribution.ContributionAnalysis instance\n",
      "    Get list of most damaging biosphere flows in an LCA, sorted by ``abs(direct impact)``.\n",
      "    \n",
      "    Returns a list of tuples: ``(lca score, inventory amount, activity)``. If ``names`` is False, they returns the process key as the last element.\n",
      "\n"
     ]
    }
   ],
   "source": [
    "help(ContributionAnalysis().annotated_top_emissions)"
   ]
  },
  {
   "cell_type": "code",
   "execution_count": 81,
   "metadata": {
    "autoscroll": "json-false",
    "collapsed": false,
    "ein.tags": [
     "worksheet-0"
    ],
    "slideshow": {
     "slide_type": "-"
    }
   },
   "outputs": [
    {
     "data": {
      "text/plain": [
       "[(11.653903594071792,\n  0.4089088980376071,\n  'Methane, non-fossil' (kilogram, None, ('air', 'non-urban air or from high stacks'))),\n (3.3550709038030657,\n  0.012670207924730675,\n  'Dinitrogen monoxide' (kilogram, None, ('air', 'non-urban air or from high stacks'))),\n (1.5937783154278484,\n  1.5937783154278475,\n  'Carbon dioxide, fossil' (kilogram, None, ('air', 'non-urban air or from high stacks'))),\n (0.80535814152737162,\n  0.80535814152737206,\n  'Carbon dioxide, fossil' (kilogram, None, ('air', 'urban air close to ground'))),\n (0.38303347947197885,\n  0.38303347947197852,\n  'Carbon dioxide, fossil' (kilogram, None, ('air',))),\n (0.32941719902933975,\n  0.0012440227122929152,\n  'Dinitrogen monoxide' (kilogram, None, ('air', 'urban air close to ground'))),\n (0.14777017123808653,\n  0.00497542651320328,\n  'Methane, fossil' (kilogram, None, ('air', 'non-urban air or from high stacks'))),\n (0.065395837196283488,\n  0.065395837196283474,\n  'Carbon dioxide, from soil or biomass stock' (kilogram, None, ('air', 'non-urban air or from high stacks'))),\n (0.014444745584068375,\n  0.00048635505767706826,\n  'Methane, fossil' (kilogram, None, ('air', 'urban air close to ground'))),\n (0.012318058909389541,\n  0.0030322123181305985,\n  'Carbon monoxide, fossil' (kilogram, None, ('air', 'urban air close to ground'))),\n (0.012105180225192776,\n  0.0029798101195993984,\n  'Carbon monoxide, fossil' (kilogram, None, ('air',))),\n (0.009523760290757452,\n  0.00032066532141781899,\n  'Methane, fossil' (kilogram, None, ('air',))),\n (0.0060811114361995038,\n  0.0014969258663565504,\n  'Carbon monoxide, fossil' (kilogram, None, ('air', 'non-urban air or from high stacks'))),\n (0.0059005777840663671,\n  2.2283149758600733e-05,\n  'Dinitrogen monoxide' (kilogram, None, ('air',))),\n (0.0055880084716881427,\n  2.3771860240564566e-07,\n  'Sulfur hexafluoride' (kilogram, None, ('air',))),\n (0.0012117542474372489,\n  0.00048645294181285184,\n  'Carbon monoxide, non-fossil' (kilogram, None, ('air', 'urban air close to ground'))),\n (0.0011024899872240572,\n  1.6639398557237063e-07,\n  'Methane, tetrafluoro-, R-14' (kilogram, None, ('air',))),\n (0.00099645971714665141,\n  0.00024528843798188554,\n  'Carbon monoxide, from soil or biomass stock' (kilogram, None, ('air', 'non-urban air or from high stacks'))),\n (0.00062428273332094648,\n  2.1904657309506926e-05,\n  'Methane, non-fossil' (kilogram, None, ('air', 'urban air close to ground'))),\n (0.0004765361284285709,\n  1.6044987077010674e-05,\n  'Methane, from soil or biomass stock' (kilogram, None, ('air', 'non-urban air or from high stacks'))),\n (0.0002595405685245407,\n  3.0206524944450743e-08,\n  'Ethane, 1,2-dichloro-1,1,2,2-tetrafluoro-, CFC-114' (kilogram, None, ('air', 'non-urban air or from high stacks'))),\n (0.00017961464898240233,\n  0.0001796146489824023,\n  'Carbon dioxide, from soil or biomass stock' (kilogram, None, ('air',))),\n (0.00013736375420147939,\n  7.7842829278988518e-08,\n  'Methane, chlorodifluoro-, HCFC-22' (kilogram, None, ('air', 'non-urban air or from high stacks'))),\n (0.00013564364362769028,\n  1.2194337670597169e-08,\n  'Ethane, hexafluoro-, HFC-116' (kilogram, None, ('air',))),\n (0.00013422222247613943,\n  2.1333459754130904e-08,\n  'Methane, bromotrifluoro-, Halon 1301' (kilogram, None, ('air', 'non-urban air or from high stacks')))]"
      ]
     },
     "execution_count": 81,
     "metadata": {},
     "output_type": "execute_result"
    }
   ],
   "source": [
    "ContributionAnalysis().annotated_top_emissions(lca)"
   ]
  },
  {
   "cell_type": "markdown",
   "metadata": {
    "ein.tags": [
     "worksheet-0"
    ],
    "slideshow": {
     "slide_type": "-"
    }
   },
   "source": [
    "## Create report"
   ]
  },
  {
   "cell_type": "code",
   "execution_count": 5,
   "metadata": {
    "autoscroll": "json-false",
    "collapsed": false,
    "ein.tags": [
     "worksheet-0"
    ],
    "slideshow": {
     "slide_type": "-"
    }
   },
   "outputs": [
    {
     "ename": "NameError",
     "evalue": "name 'act' is not defined",
     "output_type": "error",
     "traceback": [
      "\u001b[0;31m---------------------------------------------------------------------------\u001b[0m",
      "\u001b[0;31mNameError\u001b[0m                                 Traceback (most recent call last)",
      "\u001b[0;32m<ipython-input-5-692a87db3f4b>\u001b[0m in \u001b[0;36m<module>\u001b[0;34m()\u001b[0m\n\u001b[1;32m      1\u001b[0m \u001b[0;32mfrom\u001b[0m \u001b[0mbw2analyzer\u001b[0m\u001b[0;34m.\u001b[0m\u001b[0mreport\u001b[0m \u001b[0;32mimport\u001b[0m \u001b[0mSerializedLCAReport\u001b[0m\u001b[0;34m\u001b[0m\u001b[0m\n\u001b[1;32m      2\u001b[0m test = SerializedLCAReport(\n\u001b[0;32m----> 3\u001b[0;31m     \u001b[0mactivity\u001b[0m\u001b[0;34m=\u001b[0m\u001b[0;34m{\u001b[0m\u001b[0mact\u001b[0m\u001b[0;34m.\u001b[0m\u001b[0mkey\u001b[0m\u001b[0;34m:\u001b[0m \u001b[0;36m1\u001b[0m\u001b[0;34m}\u001b[0m\u001b[0;34m,\u001b[0m\u001b[0;34m\u001b[0m\u001b[0m\n\u001b[0m\u001b[1;32m      4\u001b[0m     \u001b[0mmethod\u001b[0m\u001b[0;34m=\u001b[0m\u001b[0;34m(\u001b[0m\u001b[0;34m'IPCC 2013'\u001b[0m\u001b[0;34m,\u001b[0m \u001b[0;34m'climate change'\u001b[0m\u001b[0;34m,\u001b[0m \u001b[0;34m'GWP 100a'\u001b[0m\u001b[0;34m)\u001b[0m\u001b[0;34m,\u001b[0m\u001b[0;34m\u001b[0m\u001b[0m\n\u001b[1;32m      5\u001b[0m     \u001b[0miterations\u001b[0m\u001b[0;34m=\u001b[0m\u001b[0;36m10\u001b[0m\u001b[0;34m,\u001b[0m\u001b[0;34m\u001b[0m\u001b[0m\n",
      "\u001b[0;31mNameError\u001b[0m: name 'act' is not defined"
     ]
    }
   ],
   "source": [
    "from bw2analyzer.report import SerializedLCAReport\n",
    "test = SerializedLCAReport(\n",
    "    activity={act.key: 1},\n",
    "    method=('IPCC 2013', 'climate change', 'GWP 100a'),\n",
    "    iterations=10,\n",
    ")"
   ]
  },
  {
   "cell_type": "code",
   "execution_count": 85,
   "metadata": {
    "autoscroll": "json-false",
    "collapsed": false,
    "ein.tags": [
     "worksheet-0"
    ],
    "slideshow": {
     "slide_type": "-"
    }
   },
   "outputs": [
    {
     "name": "stdout",
     "output_type": "stream",
     "text": [
      "FD\n",
      "CA\n",
      "hinton\n",
      "treemap\n",
      "herfindahl\n",
      "concentration\n",
      "MC:\n",
      "Entered get_monte_carlo\n"
     ]
    },
    {
     "ename": "DatabaseError",
     "evalue": "database disk image is malformed",
     "output_type": "error",
     "traceback": [
      "\u001b[0;31m---------------------------------------------------------------------------\u001b[0m",
      "\u001b[0;31mRemoteTraceback\u001b[0m                           Traceback (most recent call last)",
      "\u001b[0;31mRemoteTraceback\u001b[0m: \n\"\"\"\nTraceback (most recent call last):\n  File \"/d/documents/eaternity/bw2-py/envs/bw2/lib/python3.5/site-packages/peewee.py\", line 3748, in execute_sql\n    cursor.execute(sql, params or ())\nsqlite3.DatabaseError: database disk image is malformed\n\nDuring handling of the above exception, another exception occurred:\n\nTraceback (most recent call last):\n  File \"/d/documents/eaternity/bw2-py/envs/bw2/lib/python3.5/multiprocessing/pool.py\", line 119, in worker\n    result = (True, func(*args, **kwds))\n  File \"/d/documents/eaternity/bw2-py/envs/bw2/lib/python3.5/multiprocessing/pool.py\", line 44, in mapstar\n    return list(map(*args))\n  File \"/d/documents/eaternity/bw2-py/envs/bw2/lib/python3.5/site-packages/bw2calc/monte_carlo.py\", line 154, in single_worker\n    projects.set_current(project, writable=False)\n  File \"/d/documents/eaternity/src/bw2data/bw2data/project.py\", line 149, in set_current\n    self.create_project(name)\n  File \"/d/documents/eaternity/src/bw2data/bw2data/project.py\", line 223, in create_project\n    ProjectDataset.name == name).count():\n  File \"/d/documents/eaternity/bw2-py/envs/bw2/lib/python3.5/site-packages/peewee.py\", line 3141, in count\n    return self.aggregate(convert=False) or 0\n  File \"/d/documents/eaternity/bw2-py/envs/bw2/lib/python3.5/site-packages/peewee.py\", line 3134, in aggregate\n    return self._aggregate(aggregation).scalar(convert=convert)\n  File \"/d/documents/eaternity/bw2-py/envs/bw2/lib/python3.5/site-packages/peewee.py\", line 2901, in scalar\n    row = self._execute().fetchone()\n  File \"/d/documents/eaternity/bw2-py/envs/bw2/lib/python3.5/site-packages/peewee.py\", line 2892, in _execute\n    return self.database.execute_sql(sql, params, self.require_commit)\n  File \"/d/documents/eaternity/bw2-py/envs/bw2/lib/python3.5/site-packages/playhouse/shortcuts.py\", line 210, in execute_sql\n    sql, params, require_commit)\n  File \"/d/documents/eaternity/bw2-py/envs/bw2/lib/python3.5/site-packages/peewee.py\", line 3755, in execute_sql\n    self.commit()\n  File \"/d/documents/eaternity/bw2-py/envs/bw2/lib/python3.5/site-packages/peewee.py\", line 3578, in __exit__\n    reraise(new_type, new_type(*exc_args), traceback)\n  File \"/d/documents/eaternity/bw2-py/envs/bw2/lib/python3.5/site-packages/peewee.py\", line 135, in reraise\n    raise value.with_traceback(tb)\n  File \"/d/documents/eaternity/bw2-py/envs/bw2/lib/python3.5/site-packages/peewee.py\", line 3748, in execute_sql\n    cursor.execute(sql, params or ())\npeewee.DatabaseError: database disk image is malformed\n\"\"\"",
      "\nThe above exception was the direct cause of the following exception:\n",
      "\u001b[0;31mDatabaseError\u001b[0m                             Traceback (most recent call last)",
      "\u001b[0;32m<ipython-input-85-6e1508b2d7be>\u001b[0m in \u001b[0;36m<module>\u001b[0;34m()\u001b[0m\n\u001b[0;32m----> 1\u001b[0;31m \u001b[0mtest\u001b[0m\u001b[0;34m.\u001b[0m\u001b[0mcalculate\u001b[0m\u001b[0;34m(\u001b[0m\u001b[0;34m)\u001b[0m\u001b[0;34m\u001b[0m\u001b[0m\n\u001b[0m",
      "\u001b[0;32m/d/documents/eaternity/src/bw2analyzer/bw2analyzer/report.py\u001b[0m in \u001b[0;36mcalculate\u001b[0;34m(self)\u001b[0m\n\u001b[1;32m     48\u001b[0m         \u001b[0mconcentration\u001b[0m \u001b[0;34m=\u001b[0m \u001b[0mconcentration_ratio\u001b[0m\u001b[0;34m(\u001b[0m\u001b[0mlca\u001b[0m\u001b[0;34m.\u001b[0m\u001b[0mcharacterized_inventory\u001b[0m\u001b[0;34m.\u001b[0m\u001b[0mdata\u001b[0m\u001b[0;34m)\u001b[0m\u001b[0;34m\u001b[0m\u001b[0m\n\u001b[1;32m     49\u001b[0m         \u001b[0mprint\u001b[0m\u001b[0;34m(\u001b[0m\u001b[0;34m\"MC:\"\u001b[0m\u001b[0;34m)\u001b[0m\u001b[0;34m\u001b[0m\u001b[0m\n\u001b[0;32m---> 50\u001b[0;31m         \u001b[0mmonte_carlo\u001b[0m \u001b[0;34m=\u001b[0m \u001b[0mself\u001b[0m\u001b[0;34m.\u001b[0m\u001b[0mget_monte_carlo\u001b[0m\u001b[0;34m(\u001b[0m\u001b[0;34m)\u001b[0m\u001b[0;34m\u001b[0m\u001b[0m\n\u001b[0m\u001b[1;32m     51\u001b[0m \u001b[0;34m\u001b[0m\u001b[0m\n\u001b[1;32m     52\u001b[0m         \u001b[0mactivity_data\u001b[0m \u001b[0;34m=\u001b[0m \u001b[0;34m[\u001b[0m\u001b[0;34m]\u001b[0m\u001b[0;34m\u001b[0m\u001b[0m\n",
      "\u001b[0;32m/d/documents/eaternity/src/bw2analyzer/bw2analyzer/report.py\u001b[0m in \u001b[0;36mget_monte_carlo\u001b[0;34m(self)\u001b[0m\n\u001b[1;32m     93\u001b[0m             \u001b[0mself\u001b[0m\u001b[0;34m.\u001b[0m\u001b[0mmethod\u001b[0m\u001b[0;34m,\u001b[0m\u001b[0;34m\u001b[0m\u001b[0m\n\u001b[1;32m     94\u001b[0m             \u001b[0miterations\u001b[0m\u001b[0;34m=\u001b[0m\u001b[0mself\u001b[0m\u001b[0;34m.\u001b[0m\u001b[0miterations\u001b[0m\u001b[0;34m,\u001b[0m\u001b[0;34m\u001b[0m\u001b[0m\n\u001b[0;32m---> 95\u001b[0;31m             \u001b[0mcpus\u001b[0m\u001b[0;34m=\u001b[0m\u001b[0mself\u001b[0m\u001b[0;34m.\u001b[0m\u001b[0mcpus\u001b[0m\u001b[0;34m\u001b[0m\u001b[0m\n\u001b[0m\u001b[1;32m     96\u001b[0m         ).calculate()\n\u001b[1;32m     97\u001b[0m         \u001b[0mprint\u001b[0m\u001b[0;34m(\u001b[0m\u001b[0;34m\"Converting to array\"\u001b[0m\u001b[0;34m)\u001b[0m\u001b[0;34m\u001b[0m\u001b[0m\n",
      "\u001b[0;32m/d/documents/eaternity/bw2-py/envs/bw2/lib/python3.5/site-packages/bw2calc/monte_carlo.py\u001b[0m in \u001b[0;36mcalculate\u001b[0;34m(self, worker)\u001b[0m\n\u001b[1;32m    187\u001b[0m                 [\n\u001b[1;32m    188\u001b[0m                     \u001b[0;34m(\u001b[0m\u001b[0mprojects\u001b[0m\u001b[0;34m.\u001b[0m\u001b[0mcurrent\u001b[0m\u001b[0;34m,\u001b[0m \u001b[0mself\u001b[0m\u001b[0;34m.\u001b[0m\u001b[0mdemand\u001b[0m\u001b[0;34m,\u001b[0m \u001b[0mself\u001b[0m\u001b[0;34m.\u001b[0m\u001b[0mmethod\u001b[0m\u001b[0;34m,\u001b[0m \u001b[0mself\u001b[0m\u001b[0;34m.\u001b[0m\u001b[0mchunk_size\u001b[0m\u001b[0;34m)\u001b[0m\u001b[0;34m\u001b[0m\u001b[0m\n\u001b[0;32m--> 189\u001b[0;31m                     \u001b[0;32mfor\u001b[0m \u001b[0m_\u001b[0m \u001b[0;32min\u001b[0m \u001b[0mrange\u001b[0m\u001b[0;34m(\u001b[0m\u001b[0mself\u001b[0m\u001b[0;34m.\u001b[0m\u001b[0mnum_jobs\u001b[0m\u001b[0;34m)\u001b[0m\u001b[0;34m\u001b[0m\u001b[0m\n\u001b[0m\u001b[1;32m    190\u001b[0m                 ]\n\u001b[1;32m    191\u001b[0m             )\n",
      "\u001b[0;32m/d/documents/eaternity/bw2-py/envs/bw2/lib/python3.5/multiprocessing/pool.py\u001b[0m in \u001b[0;36mmap\u001b[0;34m(self, func, iterable, chunksize)\u001b[0m\n\u001b[1;32m    258\u001b[0m         \u001b[0;32min\u001b[0m \u001b[0ma\u001b[0m \u001b[0mlist\u001b[0m \u001b[0mthat\u001b[0m \u001b[0;32mis\u001b[0m \u001b[0mreturned\u001b[0m\u001b[0;34m.\u001b[0m\u001b[0;34m\u001b[0m\u001b[0m\n\u001b[1;32m    259\u001b[0m         '''\n\u001b[0;32m--> 260\u001b[0;31m         \u001b[0;32mreturn\u001b[0m \u001b[0mself\u001b[0m\u001b[0;34m.\u001b[0m\u001b[0m_map_async\u001b[0m\u001b[0;34m(\u001b[0m\u001b[0mfunc\u001b[0m\u001b[0;34m,\u001b[0m \u001b[0miterable\u001b[0m\u001b[0;34m,\u001b[0m \u001b[0mmapstar\u001b[0m\u001b[0;34m,\u001b[0m \u001b[0mchunksize\u001b[0m\u001b[0;34m)\u001b[0m\u001b[0;34m.\u001b[0m\u001b[0mget\u001b[0m\u001b[0;34m(\u001b[0m\u001b[0;34m)\u001b[0m\u001b[0;34m\u001b[0m\u001b[0m\n\u001b[0m\u001b[1;32m    261\u001b[0m \u001b[0;34m\u001b[0m\u001b[0m\n\u001b[1;32m    262\u001b[0m     \u001b[0;32mdef\u001b[0m \u001b[0mstarmap\u001b[0m\u001b[0;34m(\u001b[0m\u001b[0mself\u001b[0m\u001b[0;34m,\u001b[0m \u001b[0mfunc\u001b[0m\u001b[0;34m,\u001b[0m \u001b[0miterable\u001b[0m\u001b[0;34m,\u001b[0m \u001b[0mchunksize\u001b[0m\u001b[0;34m=\u001b[0m\u001b[0;32mNone\u001b[0m\u001b[0;34m)\u001b[0m\u001b[0;34m:\u001b[0m\u001b[0;34m\u001b[0m\u001b[0m\n",
      "\u001b[0;32m/d/documents/eaternity/bw2-py/envs/bw2/lib/python3.5/multiprocessing/pool.py\u001b[0m in \u001b[0;36mget\u001b[0;34m(self, timeout)\u001b[0m\n\u001b[1;32m    606\u001b[0m             \u001b[0;32mreturn\u001b[0m \u001b[0mself\u001b[0m\u001b[0;34m.\u001b[0m\u001b[0m_value\u001b[0m\u001b[0;34m\u001b[0m\u001b[0m\n\u001b[1;32m    607\u001b[0m         \u001b[0;32melse\u001b[0m\u001b[0;34m:\u001b[0m\u001b[0;34m\u001b[0m\u001b[0m\n\u001b[0;32m--> 608\u001b[0;31m             \u001b[0;32mraise\u001b[0m \u001b[0mself\u001b[0m\u001b[0;34m.\u001b[0m\u001b[0m_value\u001b[0m\u001b[0;34m\u001b[0m\u001b[0m\n\u001b[0m\u001b[1;32m    609\u001b[0m \u001b[0;34m\u001b[0m\u001b[0m\n\u001b[1;32m    610\u001b[0m     \u001b[0;32mdef\u001b[0m \u001b[0m_set\u001b[0m\u001b[0;34m(\u001b[0m\u001b[0mself\u001b[0m\u001b[0;34m,\u001b[0m \u001b[0mi\u001b[0m\u001b[0;34m,\u001b[0m \u001b[0mobj\u001b[0m\u001b[0;34m)\u001b[0m\u001b[0;34m:\u001b[0m\u001b[0;34m\u001b[0m\u001b[0m\n",
      "\u001b[0;31mDatabaseError\u001b[0m: database disk image is malformed"
     ]
    }
   ],
   "source": [
    "test.calculate()"
   ]
  },
  {
   "cell_type": "code",
   "execution_count": 0,
   "metadata": {
    "autoscroll": "json-false",
    "collapsed": false,
    "ein.tags": [
     "worksheet-0"
    ],
    "slideshow": {
     "slide_type": "-"
    }
   },
   "outputs": [],
   "source": [
    "test.report['monte carlo']['histogram']= list(test.report['monte carlo']['histogram'])"
   ]
  },
  {
   "cell_type": "code",
   "execution_count": 0,
   "metadata": {
    "autoscroll": "json-false",
    "collapsed": false,
    "ein.tags": [
     "worksheet-0"
    ],
    "slideshow": {
     "slide_type": "-"
    }
   },
   "outputs": [],
   "source": [
    "test.report['monte carlo']['smoothed'] = list(test.report['monte carlo']['smoothed'])"
   ]
  },
  {
   "cell_type": "code",
   "execution_count": 0,
   "metadata": {
    "autoscroll": "json-false",
    "collapsed": false,
    "ein.tags": [
     "worksheet-0"
    ],
    "slideshow": {
     "slide_type": "-"
    }
   },
   "outputs": [],
   "source": [
    "test.write()"
   ]
  },
  {
   "cell_type": "code",
   "execution_count": 0,
   "metadata": {
    "autoscroll": "json-false",
    "collapsed": false,
    "ein.tags": [
     "worksheet-0"
    ],
    "slideshow": {
     "slide_type": "-"
    }
   },
   "outputs": [],
   "source": [
    "test.report"
   ]
  },
  {
   "cell_type": "code",
   "execution_count": 0,
   "metadata": {
    "autoscroll": "json-false",
    "collapsed": false,
    "ein.tags": [
     "worksheet-0"
    ],
    "slideshow": {
     "slide_type": "-"
    }
   },
   "outputs": [],
   "source": []
  },
  {
   "cell_type": "code",
   "execution_count": 0,
   "metadata": {
    "autoscroll": "json-false",
    "collapsed": false,
    "ein.tags": [
     "worksheet-0"
    ],
    "slideshow": {
     "slide_type": "-"
    }
   },
   "outputs": [],
   "source": []
  },
  {
   "cell_type": "code",
   "execution_count": 0,
   "metadata": {
    "autoscroll": "json-false",
    "collapsed": false,
    "ein.tags": [
     "worksheet-0"
    ],
    "slideshow": {
     "slide_type": "-"
    }
   },
   "outputs": [],
   "source": [
    "sorted(str(get_activity(key)) for key, _ in Method(('IPCC 2013', 'climate change', 'GWP 100a')).load())"
   ]
  },
  {
   "cell_type": "markdown",
   "metadata": {
    "ein.tags": [
     "worksheet-0"
    ],
    "slideshow": {
     "slide_type": "-"
    }
   },
   "source": [
    "See all flows with their characterization factors"
   ]
  },
  {
   "cell_type": "code",
   "execution_count": 4,
   "metadata": {
    "autoscroll": "json-false",
    "collapsed": false,
    "ein.tags": [
     "worksheet-0"
    ],
    "slideshow": {
     "slide_type": "-"
    }
   },
   "outputs": [
    {
     "ename": "UnknownObject",
     "evalue": "This object is not registered and has no data",
     "output_type": "error",
     "traceback": [
      "\u001b[0;31m---------------------------------------------------------------------------\u001b[0m",
      "\u001b[0;31mUnknownObject\u001b[0m                             Traceback (most recent call last)",
      "\u001b[0;32m<ipython-input-4-87eaa0f232da>\u001b[0m in \u001b[0;36m<module>\u001b[0;34m()\u001b[0m\n\u001b[1;32m      1\u001b[0m \u001b[0;32mfrom\u001b[0m \u001b[0mbrightway2\u001b[0m \u001b[0;32mimport\u001b[0m \u001b[0;34m*\u001b[0m\u001b[0;34m\u001b[0m\u001b[0m\n\u001b[1;32m      2\u001b[0m \u001b[0;31m# method = methods.random()\u001b[0m\u001b[0;34m\u001b[0m\u001b[0;34m\u001b[0m\u001b[0m\n\u001b[0;32m----> 3\u001b[0;31m \u001b[0mmethods\u001b[0m \u001b[0;34m=\u001b[0m \u001b[0mMethod\u001b[0m\u001b[0;34m(\u001b[0m\u001b[0;34m(\u001b[0m\u001b[0;34m'IPCC 2013'\u001b[0m\u001b[0;34m)\u001b[0m\u001b[0;34m)\u001b[0m\u001b[0;34m.\u001b[0m\u001b[0mload\u001b[0m\u001b[0;34m(\u001b[0m\u001b[0;34m)\u001b[0m\u001b[0;34m\u001b[0m\u001b[0m\n\u001b[0m\u001b[1;32m      4\u001b[0m \u001b[0;32mfor\u001b[0m \u001b[0mkey\u001b[0m\u001b[0;34m,\u001b[0m \u001b[0mcf\u001b[0m \u001b[0;32min\u001b[0m \u001b[0mmethods\u001b[0m\u001b[0;34m:\u001b[0m\u001b[0;34m\u001b[0m\u001b[0m\n\u001b[1;32m      5\u001b[0m     \u001b[0mprint\u001b[0m\u001b[0;34m(\u001b[0m\u001b[0mget_activity\u001b[0m\u001b[0;34m(\u001b[0m\u001b[0mkey\u001b[0m\u001b[0;34m)\u001b[0m\u001b[0;34m,\u001b[0m \u001b[0mcf\u001b[0m\u001b[0;34m)\u001b[0m\u001b[0;34m\u001b[0m\u001b[0m\n",
      "\u001b[0;32m/d/documents/eaternity/src/bw2data/bw2data/data_store.py\u001b[0m in \u001b[0;36mload\u001b[0;34m(self)\u001b[0m\n\u001b[1;32m     84\u001b[0m         \"\"\"\n\u001b[1;32m     85\u001b[0m         \u001b[0;32mif\u001b[0m \u001b[0;32mnot\u001b[0m \u001b[0mself\u001b[0m\u001b[0;34m.\u001b[0m\u001b[0mregistered\u001b[0m\u001b[0;34m:\u001b[0m\u001b[0;34m\u001b[0m\u001b[0m\n\u001b[0;32m---> 86\u001b[0;31m             \u001b[0;32mraise\u001b[0m \u001b[0mUnknownObject\u001b[0m\u001b[0;34m(\u001b[0m\u001b[0;34m\"This object is not registered and has no data\"\u001b[0m\u001b[0;34m)\u001b[0m\u001b[0;34m\u001b[0m\u001b[0m\n\u001b[0m\u001b[1;32m     87\u001b[0m         \u001b[0;32mtry\u001b[0m\u001b[0;34m:\u001b[0m\u001b[0;34m\u001b[0m\u001b[0m\n\u001b[1;32m     88\u001b[0m             return pickle.load(open(os.path.join(\n",
      "\u001b[0;31mUnknownObject\u001b[0m: This object is not registered and has no data"
     ]
    }
   ],
   "source": [
    "from brightway2 import *\n",
    "# method = methods.random()\n",
    "methods = Method(('IPCC 2013', 'climate change', 'GWP 100a')).load()\n",
    "for key, cf in methods:\n",
    "    print(get_activity(key), cf)"
   ]
  },
  {
   "cell_type": "code",
   "execution_count": 0,
   "metadata": {
    "autoscroll": "json-false",
    "collapsed": false,
    "ein.tags": [
     "worksheet-0"
    ],
    "slideshow": {
     "slide_type": "-"
    }
   },
   "outputs": [],
   "source": []
  },
  {
   "cell_type": "code",
   "execution_count": 0,
   "metadata": {
    "autoscroll": "json-false",
    "collapsed": false,
    "ein.tags": [
     "worksheet-0"
    ],
    "slideshow": {
     "slide_type": "-"
    }
   },
   "outputs": [],
   "source": []
  },
  {
   "cell_type": "code",
   "execution_count": 0,
   "metadata": {
    "autoscroll": "json-false",
    "collapsed": false,
    "ein.tags": [
     "worksheet-0"
    ],
    "slideshow": {
     "slide_type": "-"
    }
   },
   "outputs": [],
   "source": []
  },
  {
   "cell_type": "code",
   "execution_count": 0,
   "metadata": {
    "autoscroll": "json-false",
    "collapsed": false,
    "ein.tags": [
     "worksheet-0"
    ],
    "slideshow": {
     "slide_type": "-"
    }
   },
   "outputs": [],
   "source": []
  },
  {
   "cell_type": "code",
   "execution_count": 0,
   "metadata": {
    "autoscroll": "json-false",
    "collapsed": false,
    "ein.tags": [
     "worksheet-0"
    ],
    "slideshow": {
     "slide_type": "-"
    }
   },
   "outputs": [],
   "source": []
  },
  {
   "cell_type": "code",
   "execution_count": 0,
   "metadata": {
    "autoscroll": "json-false",
    "collapsed": false,
    "ein.tags": [
     "worksheet-0"
    ],
    "slideshow": {
     "slide_type": "-"
    }
   },
   "outputs": [],
   "source": []
  },
  {
   "cell_type": "code",
   "execution_count": 0,
   "metadata": {
    "autoscroll": "json-false",
    "collapsed": false,
    "ein.tags": [
     "worksheet-0"
    ],
    "slideshow": {
     "slide_type": "-"
    }
   },
   "outputs": [],
   "source": []
  },
  {
   "cell_type": "code",
   "execution_count": 0,
   "metadata": {
    "autoscroll": "json-false",
    "collapsed": false,
    "ein.tags": [
     "worksheet-0"
    ],
    "slideshow": {
     "slide_type": "-"
    }
   },
   "outputs": [],
   "source": []
  },
  {
   "cell_type": "code",
   "execution_count": 0,
   "metadata": {
    "autoscroll": "json-false",
    "collapsed": false,
    "ein.tags": [
     "worksheet-0"
    ],
    "slideshow": {
     "slide_type": "-"
    }
   },
   "outputs": [],
   "source": []
  },
  {
   "cell_type": "code",
   "execution_count": 0,
   "metadata": {
    "autoscroll": "json-false",
    "collapsed": false,
    "ein.tags": [
     "worksheet-0"
    ],
    "slideshow": {
     "slide_type": "-"
    }
   },
   "outputs": [],
   "source": []
  },
  {
   "cell_type": "code",
   "execution_count": 0,
   "metadata": {
    "autoscroll": "json-false",
    "collapsed": false,
    "ein.tags": [
     "worksheet-0"
    ],
    "slideshow": {
     "slide_type": "-"
    }
   },
   "outputs": [],
   "source": []
  }
 ],
 "metadata": {
  "anaconda-cloud": {},
  "kernelspec": {
   "display_name": "Python 3",
   "name": "python3"
  },
  "language_info": {
   "codemirror_mode": {
    "name": "ipython",
    "version": 3
   },
   "file_extension": ".py",
   "mimetype": "text/x-python",
   "name": "python",
   "nbconvert_exporter": "python",
   "pygments_lexer": "ipython3",
   "version": "3.5.3"
  },
  "name": "Import Quantis Meat-2017-v4.ipynb"
 },
 "nbformat": 4,
 "nbformat_minor": 0
}
