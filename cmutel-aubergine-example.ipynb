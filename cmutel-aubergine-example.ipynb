In [1]: from brightway2 import *

In[3]: db = Database("ecoinvent 3.3 cutoff")

In [4]: db.search("aubergine")
Out[4]:
['aubergine production' (kilogram, GLO, None),
 'market for aubergine' (kilogram, GLO, None)]

In [5]: au = db.search("aubergine")[0]

In [6]: for x in au.technosphere():
   ...:     print(x)
   ...:
Exchange: 0.0142 megajoule 'market group for heat, central or
small-scale, natural gas' (megajoule, GLO, None) to 'aubergine
production' (kilogram, GLO, None)>
Exchange: 0.549166667 kilowatt hour 'market group for electricity, low
voltage' (kilowatt hour, GLO, None) to 'aubergine production'
(kilogram, GLO, None)>
Exchange: 26.6365 megajoule 'market group for heat, central or
small-scale, other than natural gas' (megajoule, GLO, None) to
'aubergine production' (kilogram, GLO, None)>
Exchange: 0.0149 kilogram 'market for potassium sulfate, as K2O'
(kilogram, GLO, None) to 'aubergine production' (kilogram, GLO, None)>
Exchange: 0.00533 kilogram 'market for phosphate fertiliser, as P2O5'
(kilogram, GLO, None) to 'aubergine production' (kilogram, GLO, None)>
Exchange: 3.93e-05 kilogram 'market for pesticide, unspecified'
(kilogram, GLO, None) to 'aubergine production' (kilogram, GLO, None)>
Exchange: 0.05 cubic meter 'market group for irrigation' (cubic meter,
GLO, None) to 'aubergine production' (kilogram, GLO, None)>
Exchange: 0.000141 hectare 'market for fertilising, by broadcaster'
(hectare, GLO, None) to 'aubergine production' (kilogram, GLO, None)>
Exchange: 0.00454 kilogram 'market for ammonium nitrate, as N'
(kilogram, GLO, None) to 'aubergine production' (kilogram, GLO, None)>

In [10]: excluded = lambda x: 'electricity' in x['name'] or 'heat' in x['name']

In [11]: new_functional_unit = {exc.input: -1 * exc['amount'] for exc
in au.technosphere() if exclu
    ...: ded(exc.input)}

In [12]: new_functional_unit[au] = 1

In [13]: new_functional_unit
Out[13]:
{'market group for heat, central or small-scale, other than natural
gas' (megajoule, GLO, None): -26.6365,
 'aubergine production' (kilogram, GLO, None): 1,
 'market group for heat, central or small-scale, natural gas'
(megajoule, GLO, None): -0.0142,
 'market group for electricity, low voltage' (kilowatt hour, GLO,
None): -0.549166667}

In [17]: gwp = ('IPCC 2013', 'climate change', 'GWP 100a')

In [18]: lca = LCA(new_functional_unit, gwp)